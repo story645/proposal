{
 "cells": [
  {
   "cell_type": "code",
   "execution_count": 134,
   "metadata": {},
   "outputs": [],
   "source": [
    "%matplotlib inline\n",
    "\n",
    "from pathlib import Path \n",
    "\n",
    "import matplotlib.pyplot as plt\n",
    "from mpl_toolkits import axisartist\n",
    "import matplotlib.dates as mdates\n",
    "import pandas as pd\n",
    "import numpy as np\n",
    "slide_path = Path('../../../slides/figures/math/')"
   ]
  },
  {
   "cell_type": "code",
   "execution_count": 135,
   "metadata": {},
   "outputs": [],
   "source": [
    "df = pd.read_csv(\"../../intro/nydata\")"
   ]
  },
  {
   "cell_type": "code",
   "execution_count": 139,
   "metadata": {},
   "outputs": [],
   "source": [
    "df['DATE2'] = pd.to_datetime(df['DATE'])"
   ]
  },
  {
   "cell_type": "code",
   "execution_count": 140,
   "metadata": {},
   "outputs": [
    {
     "data": {
      "text/plain": [
       "array(['GANG MILLS NEW YORK', 'SARA NEW YORK', 'SCHROON LAKE NEW YORK',\n",
       "       'SHERBURNE NEW YORK', 'STONYKILL NEW YORK', 'BINGHAMTON',\n",
       "       'ISLIP LI MACARTHUR AP', 'NEW YORK LAGUARDIA AP', 'BUFFALO',\n",
       "       'ALBANY AP', 'GLENS FALLS AP', 'ROCHESTER GTR INTL AP',\n",
       "       'SYRACUSE HANCOCK INTL AP', 'NEW YORK JFK INTL AP'], dtype=object)"
      ]
     },
     "execution_count": 140,
     "metadata": {},
     "output_type": "execute_result"
    }
   ],
   "source": [
    "df['NAME'].unique()"
   ]
  },
  {
   "cell_type": "code",
   "execution_count": 141,
   "metadata": {},
   "outputs": [],
   "source": [
    "jfk = df[df['NAME'].str.contains(\"NEW YORK JFK INTL AP\")]\n",
    "lga = df[df['NAME'].str.contains(\"NEW YORK LAGUARDIA AP\")]"
   ]
  },
  {
   "cell_type": "code",
   "execution_count": 169,
   "metadata": {},
   "outputs": [
    {
     "data": {
      "image/png": "[encoded data removed]",
      "text/plain": [
       "<Figure size 432x288 with 4 Axes>"
      ]
     },
     "metadata": {
      "needs_background": "light"
     },
     "output_type": "display_data"
    }
   ],
   "source": [
    "fig = plt.figure()\n",
    "\n",
    "\n",
    "axx = axisartist.Subplot(fig, 2, 3, 1)\n",
    "fig.add_subplot(axx)\n",
    "axx.axis[:].set_visible(False)\n",
    "axx.axis[\"x\"] = axx.new_floating_axis(1, 0.5)\n",
    "axx.axis[\"x\"].set_axisline_style(\"->\", size=1.5)\n",
    "axx.axis[\"x\"].set_ticklabel_direction(\"-\")\n",
    "axx.axis[\"x\"].set_axis_direction(\"left\")\n",
    "axx.tick_params(rotation=0)\n",
    "axx.plot(jfk['DATE'], jfk['DATA_VALUE'], color='white')\n",
    "\n",
    "axy = axisartist.Subplot(fig, 2, 3, 4)\n",
    "fig.add_subplot(axy)\n",
    "axy.axis[:].set_visible(False)\n",
    "axy.axis[\"x\"] = axy.new_floating_axis(0, 0.5)\n",
    "axy.axis[\"x\"].set_axisline_style(\"->\", size=1.5)\n",
    "axy.plot(jfk['DATE2'], jfk['DATA_VALUE'], color='white')\n",
    "axy.xaxis.set_major_formatter(mdates.ConciseDateFormatter(mdates.AutoDateLocator))\n",
    "\n",
    "axd = fig.add_subplot(2,3,2)\n",
    "axd.plot(jfk['DATE2'], jfk['DATA_VALUE'], color='tab:blue', label=\"JFK\")\n",
    "axd.axis('off')\n",
    "\n",
    "axd2 = fig.add_subplot(2,3,6)\n",
    "axd2.plot(lga['DATE2'], lga['DATA_VALUE'], color='tab:orange', label=\"LGA\")\n",
    "axd2.axis('off')\n",
    "\n",
    "fig.legend(bbox_to_anchor=(.85,.67))\n",
    "fig.savefig(slide_path/\"exploding_artist.png\")"
   ]
  },
  {
   "cell_type": "code",
   "execution_count": 4,
   "metadata": {},
   "outputs": [
    {
     "data": {
      "text/plain": [
       "'3.3.1'"
      ]
     },
     "execution_count": 4,
     "metadata": {},
     "output_type": "execute_result"
    }
   ],
   "source": [
    "import matplotlib; matplotlib.__version__"
   ]
  },
  {
   "cell_type": "code",
   "execution_count": 155,
   "metadata": {},
   "outputs": [
    {
     "data": {
      "text/plain": [
       "count    1066.000000\n",
       "mean      -17.965291\n",
       "std        50.393398\n",
       "min      -186.000000\n",
       "25%       -53.000000\n",
       "50%       -14.000000\n",
       "75%        13.000000\n",
       "max       171.000000\n",
       "Name: DATA_VALUE, dtype: float64"
      ]
     },
     "execution_count": 155,
     "metadata": {},
     "output_type": "execute_result"
    }
   ],
   "source": [
    "df['DATA_VALUE'].describe()"
   ]
  },
  {
   "cell_type": "code",
   "execution_count": null,
   "metadata": {},
   "outputs": [],
   "source": []
  }
 ],
 "metadata": {
  "kernelspec": {
   "display_name": "Python [conda env:mplrelease]",
   "language": "python",
   "name": "conda-env-mplrelease-py"
  },
  "language_info": {
   "codemirror_mode": {
    "name": "ipython",
    "version": 3
   },
   "file_extension": ".py",
   "mimetype": "text/x-python",
   "name": "python",
   "nbconvert_exporter": "python",
   "pygments_lexer": "ipython3",
   "version": "3.8.5"
  }
 },
 "nbformat": 4,
 "nbformat_minor": 4
}
