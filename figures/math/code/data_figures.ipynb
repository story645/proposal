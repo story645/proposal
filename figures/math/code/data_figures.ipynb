{
 "cells": [
  {
   "cell_type": "code",
   "execution_count": 52,
   "metadata": {},
   "outputs": [],
   "source": [
    "from pathlib import Path\n",
    "import itertools\n",
    "\n",
    "import numpy as np\n",
    "\n",
    "import matplotlib.patches as mpatches\n",
    "import matplotlib.collections as mcollections\n",
    "import matplotlib.path as mpath\n",
    "import matplotlib.pyplot as plt\n",
    "\n",
    "from matplotlib import rcParams\n",
    "\n",
    "\n",
    "import themepy\n",
    "\n",
    "theme = themepy.Theme('paper')\n",
    "paper_path = Path('../../../paper/figures/')\n",
    "slide_path = Path('../../../slides/figures/math/')\n",
    "#rcParams['path.sketch'] = (.5, 25, 20)\n",
    "\n",
    "%matplotlib inline"
   ]
  },
  {
   "cell_type": "code",
   "execution_count": 53,
   "metadata": {},
   "outputs": [],
   "source": [
    "rcParams['font.family'] = 'Segoe Print'"
   ]
  },
  {
   "cell_type": "code",
   "execution_count": 54,
   "metadata": {},
   "outputs": [],
   "source": [
    "fc = rcParams['axes.facecolor']\n",
    "textsize = 12\n",
    "labelsize=14"
   ]
  },
  {
   "cell_type": "code",
   "execution_count": 55,
   "metadata": {},
   "outputs": [],
   "source": [
    "def k_discrete(ax, labelsize, kx =.45, ky=.25):\n",
    "    ax.scatter([.2, .8], [ky, ky], s=100, color='C0')\n",
    "    ax.annotate('K', (kx, ky-.03), fontsize=labelsize)\n"
   ]
  },
  {
   "cell_type": "code",
   "execution_count": 56,
   "metadata": {},
   "outputs": [],
   "source": [
    "def two_fiber_discrete(ax, textsize, labelsize):\n",
    "    s = .4\n",
    "    x = .2 - s/2\n",
    "    y = .425\n",
    "    off = .6\n",
    "    f1 = mpatches.Rectangle((x, y), s, s, facecolor=fc, edgecolor='C0', linewidth=2)\n",
    "    ax.add_patch(f1)\n",
    "    f2 = mpatches.Rectangle((x+off, y), s, s, facecolor=fc, edgecolor='C0', linewidth=2)\n",
    "    ax.add_patch(f2)\n",
    "    thx = .175\n",
    "    thy = .85\n",
    "    tvx = -.085\n",
    "    tvy = .63\n",
    "    for o in [0, off]:\n",
    "        pass\n",
    "        #ax.annotate(r\"$\\mathbb{R}$\", (thx + o, thy), fontsize=textsize)\n",
    "        #ax.annotate(r\"$\\mathbb{R}$\", (tvx + o, tvy), fontsize=textsize, rotation=90)\n"
   ]
  },
  {
   "cell_type": "code",
   "execution_count": 57,
   "metadata": {},
   "outputs": [],
   "source": [
    "def three_fiber_discrete(ax, textsize, labelsize):\n",
    "    verts = np.array([[[1,-1], [1,1], [2.4, 1.5], [2.4, -.5]],\n",
    "                 [[-.4,1.5],[-.4,-.5],[1,-1],[1,1]],\n",
    "                 [[-.4, 1.5], [1, 2],[2.4, 1.5], [1,1]]])\n",
    "    verts1 = verts*.17 + [.04,.55]\n",
    "    verts2 = verts1 + [.6, 0]\n",
    "    p = mcollections.PolyCollection(np.vstack([verts1, verts2]), edgecolor='C0', facecolor=fc, linewidth=2)\n",
    "    ax.add_collection(p)\n",
    "    k_discrete(ax, labelsize)\n",
    "    for off in [0, .6]:\n",
    "        ax.annotate(r\"$\\mathbb{R}$\", (-0.12 + off, .63), rotation=90, fontsize=textsize) #height\n",
    "        ax.annotate(r\"$\\mathbb{R}$\", (0.02 + off, .87), rotation=25, fontsize=textsize) # width\n",
    "        ax.annotate(r\"$\\mathbb{R}$\", (0.25 + off,.84), rotation=-20, fontsize=textsize) # depth\n"
   ]
  },
  {
   "cell_type": "code",
   "execution_count": 58,
   "metadata": {},
   "outputs": [
    {
     "data": {
      "image/png": "[encoded data removed]",
      "text/plain": [
       "<Figure size 432x288 with 2 Axes>"
      ]
     },
     "metadata": {
      "needs_background": "light"
     },
     "output_type": "display_data"
    }
   ],
   "source": [
    "fig, axd = plt.subplot_mosaic([['2D', '3D']])\n",
    "\n",
    "two_fiber_discrete(axd['2D'], textsize, labelsize)\n",
    "three_fiber_discrete(axd['3D'], textsize, labelsize)\n",
    "for ax in axd.values():\n",
    "    k_discrete(ax, labelsize)\n",
    "    ax.set(xlim=(-.15,1.15), ylim=(0,1), aspect='equal')\n",
    "    ax.axis('off')    \n",
    "fig.savefig(paper_path/\"fiber.png\", bbox_inches='tight' , facecolor='white')\n"
   ]
  },
  {
   "cell_type": "code",
   "execution_count": 70,
   "metadata": {},
   "outputs": [
    {
     "data": {
      "image/png": "[encoded data removed]",
      "text/plain": [
       "<Figure size 432x288 with 2 Axes>"
      ]
     },
     "metadata": {
      "needs_background": "light"
     },
     "output_type": "display_data"
    }
   ],
   "source": [
    "fig, axd = plt.subplot_mosaic([['2d', '3d']])\n",
    "for ax in axd.values():\n",
    "    ax.set(xlim=(0,1), ylim=(0,1), aspect='equal')\n",
    "    ax.axis('off')\n",
    "    \n",
    "f1 = mpatches.Rectangle((.15, .15), .7, .7, facecolor=fc, edgecolor='C0', linewidth=2)\n",
    "axd['2d'].add_patch(f1)\n",
    "\n",
    "verts = np.array([[[1,-1], [1,1], [2.4, 1.5], [2.4, -.5]],\n",
    "                 [[-.4,1.5],[-.4,-.5],[1,-1],[1,1]],\n",
    "                 [[-.4, 1.5], [1, 2],[2.4, 1.5], [1,1]]])\n",
    "verts1 = verts*.3 + [.25,.35]\n",
    "\n",
    "p = mcollections.PolyCollection(verts1, edgecolor='C0', facecolor=fc, linewidth=2)\n",
    "axd['3d'].add_collection(p)\n",
    "\n",
    "textsize=12\n",
    "axd['2d'].annotate(r\"Time: $\\mathbb{R}$\", (.07,.4), rotation=90, fontsize=textsize)\n",
    "axd['2d'].annotate(r\"Temperature: $\\mathbb{R}$\", (.2, .89), fontsize=textsize)\n",
    "\n",
    "axd['3d'].annotate(r\"Time: $\\mathbb{R}$\", (.05,.4), rotation=90, fontsize=textsize)\n",
    "axd['3d'].annotate(r\"Speed: $\\mathbb{R}$\", (.14, .85), rotation=20, fontsize=textsize)\n",
    "axd['3d'].annotate(r\"Direction: $\\mathbb{R}$\", (.55, .81), rotation=-20, fontsize=textsize)\n",
    "fig.savefig(paper_path/\"fiber.png\", bbox_inches='tight' , facecolor='white')"
   ]
  },
  {
   "cell_type": "code",
   "execution_count": 47,
   "metadata": {},
   "outputs": [
    {
     "data": {
      "image/png": "[encoded data removed]",
      "text/plain": [
       "<Figure size 432x288 with 2 Axes>"
      ]
     },
     "metadata": {
      "needs_background": "light"
     },
     "output_type": "display_data"
    }
   ],
   "source": [
    "fig, axd = plt.subplot_mosaic([['2d', '3d']])\n",
    "for ax in axd.values():\n",
    "    ax.set(xlim=(0,1), ylim=(0,1), aspect='equal')\n",
    "    ax.axis('off')\n",
    "    \n",
    "f1 = mpatches.Rectangle((.15, .15), .7, .7, facecolor=fc, edgecolor='C0', linewidth=2)\n",
    "axd['2d'].add_patch(f1)\n",
    "\n",
    "verts = np.array([[[1,-1], [1,1], [2.4, 1.5], [2.4, -.5]],\n",
    "                 [[-.4,1.5],[-.4,-.5],[1,-1],[1,1]],\n",
    "                 [[-.4, 1.5], [1, 2],[2.4, 1.5], [1,1]]])\n",
    "verts1 = verts*.3 + [.25,.35]\n",
    "\n",
    "p = mcollections.PolyCollection(verts1, edgecolor='C0', facecolor=fc, linewidth=2)\n",
    "axd['3d'].add_collection(p)\n",
    "\n",
    "textsize=12\n",
    "axd['2d'].annotate(r\"Temperature: $\\mathbb{R}$\", (.07,.25), rotation=90, fontsize=textsize)\n",
    "axd['2d'].annotate(r\"Time: $\\mathbb{R}$\", (.2, .89), fontsize=textsize)\n",
    "axd['2d'].annotate(r\"$F=\\mathbb{R}\\times\\mathbb{R}$\", (0.28,0.05), fontsize=labelsize)\n",
    "\n",
    "axd['3d'].annotate(r\"Temperature: $\\mathbb{R}$\", (.05,.27), rotation=90, fontsize=textsize)\n",
    "axd['3d'].annotate(r\"Longitude: $\\mathbb{R}^{+}$\", (.05, .83), rotation=18, fontsize=textsize)\n",
    "axd['3d'].annotate(r\"Latitude: $\\mathbb{R}$\", (.57, .84), rotation=-18, fontsize=textsize)\n",
    "axd['3d'].annotate(r\"$F=\\mathbb{R}\\times \\mathbb{R}^{+}\\times\\mathbb{R}$\", (0,.2), va='top', \n",
    "                   rotation=-20, fontsize=labelsize)\n",
    "fig.savefig(slide_path/\"fiber.png\", bbox_inches='tight' , facecolor='white')"
   ]
  },
  {
   "cell_type": "code",
   "execution_count": 48,
   "metadata": {},
   "outputs": [],
   "source": [
    "def two_fiber_continuous(ax, textsize, labelsize, ky=.25):\n",
    "    for off in np.arange(-1,3.5,.25):\n",
    "        verts = np.array([[1,-1], [1,1], [2.4, 1.5], [2.4, -.5], [1,-1]]) + [off, 3.1]\n",
    "        p = mpatches.PathPatch(mpath.Path(verts*.2, closed=True), edgecolor='C0',facecolor=ax.get_facecolor())\n",
    "        ax.add_patch(p)\n",
    "        \n",
    "        \n",
    "    #ax.annotate(r\"$\\mathbb{R}$\", (-0.1, .63), rotation=90, fontsize=textsize) #height\n",
    "    #ax.annotate(r\"$\\mathbb{R}$\", (0.06,.88), rotation=25, fontsize=textsize) # width\n",
    "\n",
    "    ax.annotate('K', (-.1, ky-.03), fontsize=labelsize)\n",
    "    ax.axhline(y=ky, xmin=0.15, xmax=.9)\n",
    "\n"
   ]
  },
  {
   "cell_type": "code",
   "execution_count": 49,
   "metadata": {},
   "outputs": [
    {
     "data": {
      "image/png": "[encoded data removed]",
      "text/plain": [
       "<Figure size 432x288 with 2 Axes>"
      ]
     },
     "metadata": {
      "needs_background": "light"
     },
     "output_type": "display_data"
    }
   ],
   "source": [
    "fig, axd = plt.subplot_mosaic([['0D', '1D']])\n",
    "\n",
    "kpos = (3.75, -2.75)\n",
    "two_fiber_discrete(axd['0D'], textsize, labelsize)\n",
    "k_discrete(axd['0D'], labelsize)\n",
    "\n",
    "two_fiber_continuous(axd['1D'], textsize, labelsize)\n",
    "for (ax, kp) in zip(axd.values(),kpos) :\n",
    "    ax.set(xlim=(-.15,1.15), ylim=(0,1), aspect='equal')\n",
    "    ax.axis('off')    \n",
    "    \n",
    "fig.savefig(paper_path/\"base.png\", bbox_inches='tight', facecolor='white' )"
   ]
  },
  {
   "cell_type": "code",
   "execution_count": 50,
   "metadata": {},
   "outputs": [
    {
     "data": {
      "image/png": "[encoded data removed]",
      "text/plain": [
       "<Figure size 432x288 with 2 Axes>"
      ]
     },
     "metadata": {
      "needs_background": "light"
     },
     "output_type": "display_data"
    }
   ],
   "source": [
    "fig, axd = plt.subplot_mosaic([['0D', '1D']], gridspec_kw={'width_ratios':[1,1]})\n",
    "\n",
    "axd['0D'].set(xlim=(0,1), ylim=(0,1), aspect='equal')\n",
    "axd['1D'].set(xlim=(0,1), ylim=(0,1), aspect='equal')\n",
    "\n",
    "f1 = mpatches.Rectangle((.2, .3), .6, .6, facecolor=fc, edgecolor='C0', linewidth=2)\n",
    "axd['0D'].add_patch(f1)\n",
    "\n",
    "\n",
    "\n",
    "for off in np.arange(0, 2.6,.2):\n",
    "        verts = np.array([[1,-1], [1,1], [2, 1.3], [2, -.5], [1,-1]]) + [off-.8, 2.2]\n",
    "        p = mpatches.PathPatch(mpath.Path(verts*.27, closed=True), \n",
    "                               edgecolor='C0', linewidth=1.5, facecolor=ax.get_facecolor())\n",
    "        axd['1D'].add_patch(p)\n",
    "        \n",
    "        \n",
    "    #ax.annotate(r\"$\\mathbb{R}$\", (-0.1, .63), rotation=90, fontsize=textsize) #height\n",
    "    #ax.annotate(r\"$\\mathbb{R}$\", (0.06,.88), rotation=25, fontsize=textsize) # width\n",
    "\n",
    "axd['0D'].scatter(.5, .15, s=300, color='C0')    \n",
    "axd['1D'].axhline(y=.15, xmin=0.15, xmax=.8, linewidth=5)\n",
    "\n",
    "[ax.axis('off') for ax in axd.values()]\n",
    "fig.text(1.05, .15, 'K', ha='center', va='center', fontsize=labelsize, transform=axd['0D'].transData)\n",
    "fig.savefig(slide_path/\"base.png\", bbox_inches='tight', facecolor='white' )\n",
    "fig.savefig(paper_path/\"base.png\", bbox_inches='tight', facecolor='white' )"
   ]
  },
  {
   "cell_type": "code",
   "execution_count": 51,
   "metadata": {},
   "outputs": [
    {
     "data": {
      "image/png": "[encoded data removed]",
      "text/plain": [
       "<Figure size 432x288 with 1 Axes>"
      ]
     },
     "metadata": {
      "needs_background": "light"
     },
     "output_type": "display_data"
    }
   ],
   "source": [
    "fig, ax = plt.subplots()\n",
    "x =  np.linspace(-5*np.pi, 7*np.pi)\n",
    "xv = x[(x>0) & (x <30)]\n",
    "ys = np.sin(xv)*.5\n",
    "yc = np.cos(xv+1)*.5\n",
    "\n",
    "pos_labs = {0:r\"$k_0$\", 4:r\"$k_i$\", 9:r\"$k_n$\"}\n",
    "\n",
    "for i, off in enumerate(np.arange(0,20,2)):\n",
    "    verts = np.array([[1,-1], [1,1], [2.4, 1.5], [2.4, -.5], [1,-1]]) + [off, 0]\n",
    "    p = mpatches.PathPatch(mpath.Path(verts, closed=True),\n",
    "                           linewidth=1.5, edgecolor='C0',facecolor=ax.get_facecolor())\n",
    "    ax.add_patch(p)\n",
    "    ax.arrow(off+1.7, -2.25, 0, 1, head_width=0.2, head_length=0.15, linestyle='--', color='darkgrey')\n",
    "\n",
    "    ax.text(off+1.7, -3.3, pos_labs.get(i, '.'), fontsize=textsize, ha='center', va=\"center\")\n",
    "        \n",
    "    \n",
    "\n",
    "inds = [1, 4, 7, 9, 12, 14, 17, 20, 22, 25]\n",
    "ax.scatter(xv[inds], ys[inds], color='C0', label=r'$\\tau^{(1)}$', zorder=10)\n",
    "ax.scatter(xv[inds], yc[inds], color='C1', label=r'$\\tau^{(2)}$', zorder=10)\n",
    "ax.plot(xv, ys, color='C0', linewidth=1, linestyle=':')\n",
    "ax.text(xv[-2], ys[-1], r'$\\tau^{(1)}$', va='bottom', fontsize=12, color='C0')\n",
    "ax.plot(xv, yc, color='C1', linewidth=1, linestyle=':')\n",
    "ax.text(xv[-2], yc[-3], r'$\\tau^{(2)}$', va='center', fontsize=12, color='C1')\n",
    "\n",
    "ax.annotate(r'E', (-.3, .8), fontsize=labelsize, ha='center', va='bottom')\n",
    "ax.annotate(r'K', (-.3, -3.3), fontsize=labelsize, ha='center', va='center')\n",
    "ax.arrow(-.3, .55, 0, -3, head_width=0.2, head_length=0.15, color='C0')\n",
    "ax.annotate(r'$\\pi$', (-.15, -1.85), fontsize=textsize)\n",
    "ax.annotate(r'$\\tau$', (20, -1.85), fontsize=textsize)\n",
    "ax.axhline(y=-2.5, xmin=0.095, xmax=.97, zorder=-1)\n",
    "#ax.legend(bbox_to_anchor=(1.0, .45), loc='lower left', borderaxespad=0, facecolor='white', frameon=False)\n",
    "#ax.legend(bbox_to_anchor=(0.5, 1.05), loc='upper center', ncol=2)\n",
    "ax.set(xlim=(-.6,21), ylim=(-3.5, 2), aspect='equal')\n",
    "ax.axis('off')\n",
    "fig.savefig(paper_path/\"fiberbundle.png\", bbox_inches='tight', facecolor='white' )\n",
    "fig.savefig(slide_path/\"fiberbundle.png\", bbox_inches='tight', facecolor='white')"
   ]
  },
  {
   "cell_type": "code",
   "execution_count": null,
   "metadata": {},
   "outputs": [],
   "source": []
  }
 ],
 "metadata": {
  "kernelspec": {
   "display_name": "Python 3.7.4 64-bit ('mplrelease': conda)",
   "language": "python",
   "name": "python37464bitmplreleaseconda953a5d05f1cf4d5db783b13a33a22e5d"
  },
  "language_info": {
   "codemirror_mode": {
    "name": "ipython",
    "version": 3
   },
   "file_extension": ".py",
   "mimetype": "text/x-python",
   "name": "python",
   "nbconvert_exporter": "python",
   "pygments_lexer": "ipython3",
   "version": "3.8.5"
  }
 },
 "nbformat": 4,
 "nbformat_minor": 5
}
