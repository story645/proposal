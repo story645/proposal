{
 "cells": [
  {
   "cell_type": "code",
   "execution_count": 193,
   "metadata": {},
   "outputs": [],
   "source": [
    "%matplotlib inline\n",
    "import matplotlib.pyplot as plt\n",
    "import matplotlib.dates as mdates\n",
    "from datetime import datetime, timedelta\n",
    "\n",
    "from pathlib import Path\n",
    "slide_path = Path('../../../slides/figures/intro/')"
   ]
  },
  {
   "cell_type": "code",
   "execution_count": 215,
   "metadata": {},
   "outputs": [],
   "source": [
    "writing = [((2021, 3, 26), (2021, 3, 31), \" \"), \n",
    "           ((2021,4, 1), (2021, 6, 13), \"Vizweek short\"), \n",
    "           ((2021,6,14), (2021, 7,12), \"Scipy\"), \n",
    "            ((2021,7,12), (2021, 10,1), \"Dissertation\"), \n",
    "            ((2021,10,1),(2022,3,31), \"Dissertation/Vizweek (systems) paper\"), \n",
    "            ((2022,3,31), (2022,6,1), \"Dissertation\")]"
   ]
  },
  {
   "cell_type": "code",
   "execution_count": 216,
   "metadata": {},
   "outputs": [],
   "source": [
    "math = [((2021, 4, 1), (2021,5,31), 'addition'),\n",
    "        ((2021, 6, 1), (2021, 6, 30), 'labeling'),\n",
    "        ((2021, 7,1), (2021,9, 30), 'invariance'),\n",
    "        ((2021, 10,1), (2021, 12, 31), 'interactivity')]"
   ]
  },
  {
   "cell_type": "code",
   "execution_count": 217,
   "metadata": {},
   "outputs": [],
   "source": [
    "code = [((2021, 3,26), (2021,4,30), \"image/table\"), \n",
    "        ((2021, 5,1 ), (2021, 7, 30), \"new artists\"),\n",
    "         ((2021, 7,1), (2021, 10, 31), \"domain specific artists\"),\n",
    "         ((2021,10,1), (2022, 2 , 28), \"composite (interactive) artists\")]\n",
    "    "
   ]
  },
  {
   "cell_type": "code",
   "execution_count": 218,
   "metadata": {},
   "outputs": [],
   "source": [
    "blocks = [(writing, (0,1), '#CCC68D'),\n",
    "          (code, (1,1), '#EEDD99'), \n",
    "         (math, (2,1), '#EEC290')]"
   ]
  },
  {
   "cell_type": "code",
   "execution_count": 245,
   "metadata": {},
   "outputs": [
    {
     "data": {
      "image/png": "[encoded data removed]",
      "text/plain": [
       "<Figure size 864x432 with 1 Axes>"
      ]
     },
     "metadata": {
      "needs_background": "light"
     },
     "output_type": "display_data"
    }
   ],
   "source": [
    "fig, ax = plt.subplots(figsize=(12,6))\n",
    "for block, yrange, color in blocks:\n",
    "    xranges = [(datetime(*s), datetime(*e)-datetime(*s)) for (s,e,_) in block]\n",
    "\n",
    "    ax.broken_barh(xranges, yrange, edgecolors='k', facecolor=color)\n",
    "    for (x,w), (_, _, l) in zip(xranges, block):\n",
    "        if w < timedelta(days=60):\n",
    "            ax.text(x+w/2, yrange[0]+.5, l, rotation=90, fontsize=12, va='center', ha='center')\n",
    "            \n",
    "        elif l not in ['new artists', 'domain specific artists']:\n",
    "            ax.text(x + w/2,  yrange[0]+.5, l, ha='center', va='center', fontsize=12)\n",
    "        else:\n",
    "            ax.text(x + timedelta(days=2), yrange[0]+.5, l, fontsize = 12, ha='left', va='center')\n",
    "#ax.broken_barh([(datetime(2021,12,31), datetime(2022, 6,1))],(1,2), edgecolor='white', color=\"white\")\n",
    "ax.text(datetime(*writing[0][0]) + timedelta(hours=15), 0.15, \"vizweek\", ha='left', rotation=90)\n",
    "#ax.text(datetime(*writing[-1][0]) + timedelta(days=10),.5, \"Dissertation\",va='center', fontsize=12, rotation=90)\n",
    "\n",
    "ax.xaxis.set_major_locator(mdates.MonthLocator(bymonth=[1,3,5,7,9,11]))\n",
    "ax.set_xlim(datetime(2021,3,20), datetime(2022,6,1))\n",
    "ax.set_ylim(0,3)\n",
    "ax.set_yticks([.5, 1.5, 2.5,])\n",
    "ax.set_yticklabels(['writing', 'code', 'math'])\n",
    "fig.savefig(slide_path/\"gantt.png\")"
   ]
  },
  {
   "cell_type": "code",
   "execution_count": 199,
   "metadata": {},
   "outputs": [
    {
     "data": {
      "text/plain": [
       "(2021, 4, 1)"
      ]
     },
     "execution_count": 199,
     "metadata": {},
     "output_type": "execute_result"
    }
   ],
   "source": [
    "math[0][0]"
   ]
  },
  {
   "cell_type": "code",
   "execution_count": null,
   "metadata": {},
   "outputs": [],
   "source": []
  },
  {
   "cell_type": "code",
   "execution_count": 28,
   "metadata": {},
   "outputs": [
    {
     "data": {
      "text/plain": [
       "[(datetime.datetime(2021, 3, 26, 0, 0), datetime.datetime(2021, 3, 31, 0, 0)),\n",
       " (datetime.datetime(2021, 4, 1, 0, 0), datetime.datetime(2021, 6, 13, 0, 0))]"
      ]
     },
     "execution_count": 28,
     "metadata": {},
     "output_type": "execute_result"
    }
   ],
   "source": [
    "xranges"
   ]
  },
  {
   "cell_type": "code",
   "execution_count": null,
   "metadata": {},
   "outputs": [],
   "source": []
  }
 ],
 "metadata": {
  "kernelspec": {
   "display_name": "Python 3",
   "language": "python",
   "name": "python3"
  },
  "language_info": {
   "codemirror_mode": {
    "name": "ipython",
    "version": 3
   },
   "file_extension": ".py",
   "mimetype": "text/x-python",
   "name": "python",
   "nbconvert_exporter": "python",
   "pygments_lexer": "ipython3",
   "version": "3.7.7"
  }
 },
 "nbformat": 4,
 "nbformat_minor": 4
}
