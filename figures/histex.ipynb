{
 "cells": [
  {
   "cell_type": "code",
   "execution_count": 9,
   "id": "a79b72f6-d3ce-4a7f-aebc-074b53644acc",
   "metadata": {},
   "outputs": [
    {
     "name": "stdout",
     "output_type": "stream",
     "text": [
      "The autoreload extension is already loaded. To reload it, use:\n",
      "  %reload_ext autoreload\n"
     ]
    }
   ],
   "source": [
    "%load_ext autoreload"
   ]
  },
  {
   "cell_type": "code",
   "execution_count": 10,
   "id": "3e57d9c9-0975-44e3-b954-b07e2ccaec05",
   "metadata": {},
   "outputs": [],
   "source": [
    "%autoreload 2"
   ]
  },
  {
   "cell_type": "code",
   "execution_count": 11,
   "id": "d84f2584-fa62-4e2d-ab7b-38fe10573a2f",
   "metadata": {},
   "outputs": [],
   "source": [
    "%matplotlib inline"
   ]
  },
  {
   "cell_type": "code",
   "execution_count": 18,
   "id": "f6454046-a807-48c2-95e2-96a352f3949b",
   "metadata": {},
   "outputs": [],
   "source": [
    "import matplotlib.pyplot as plt\n",
    "import matplotlib.patches as mpatches\n",
    "\n",
    "import pandas as pd\n",
    "\n",
    "import graphs as gr\n",
    "import intro_plots as ip\n",
    "\n"
   ]
  },
  {
   "cell_type": "code",
   "execution_count": 24,
   "id": "7ded2ec2-95fa-4855-9107-bb4b02b4e94d",
   "metadata": {},
   "outputs": [],
   "source": [
    "df = pd.read_csv(\"nydata\")\n",
    "nydf = df[df['NAME'].isin(ip.cdict.keys())].copy()\n",
    "nydf['color'] = nydf['NAME'].replace(ip.cdict)"
   ]
  },
  {
   "cell_type": "code",
   "execution_count": 53,
   "id": "af2961bb-1e9d-47fb-80dd-43808b7c529e",
   "metadata": {},
   "outputs": [
    {
     "data": {
      "text/html": [
       "<div>\n",
       "<style scoped>\n",
       "    .dataframe tbody tr th:only-of-type {\n",
       "        vertical-align: middle;\n",
       "    }\n",
       "\n",
       "    .dataframe tbody tr th {\n",
       "        vertical-align: top;\n",
       "    }\n",
       "\n",
       "    .dataframe thead th {\n",
       "        text-align: right;\n",
       "    }\n",
       "</style>\n",
       "<table border=\"1\" class=\"dataframe\">\n",
       "  <thead>\n",
       "    <tr style=\"text-align: right;\">\n",
       "      <th></th>\n",
       "      <th>NAME</th>\n",
       "      <th>LATITUDE</th>\n",
       "      <th>LONGITUDE</th>\n",
       "      <th>DATE</th>\n",
       "      <th>PRCP</th>\n",
       "      <th>TAVG</th>\n",
       "      <th>TAVGF</th>\n",
       "      <th>PRCPS</th>\n",
       "      <th>PRCPI</th>\n",
       "      <th>color</th>\n",
       "    </tr>\n",
       "  </thead>\n",
       "  <tbody>\n",
       "    <tr>\n",
       "      <th>41186</th>\n",
       "      <td>STONYKILL NEW YORK</td>\n",
       "      <td>41.5</td>\n",
       "      <td>-73.9</td>\n",
       "      <td>2021-01-01</td>\n",
       "      <td>NaN</td>\n",
       "      <td>-14.0</td>\n",
       "      <td>29.48</td>\n",
       "      <td>NaN</td>\n",
       "      <td>NaN</td>\n",
       "      <td>#fabed4</td>\n",
       "    </tr>\n",
       "    <tr>\n",
       "      <th>41187</th>\n",
       "      <td>STONYKILL NEW YORK</td>\n",
       "      <td>41.5</td>\n",
       "      <td>-73.9</td>\n",
       "      <td>2021-01-02</td>\n",
       "      <td>NaN</td>\n",
       "      <td>25.0</td>\n",
       "      <td>36.50</td>\n",
       "      <td>NaN</td>\n",
       "      <td>NaN</td>\n",
       "      <td>#fabed4</td>\n",
       "    </tr>\n",
       "    <tr>\n",
       "      <th>41188</th>\n",
       "      <td>STONYKILL NEW YORK</td>\n",
       "      <td>41.5</td>\n",
       "      <td>-73.9</td>\n",
       "      <td>2021-01-03</td>\n",
       "      <td>NaN</td>\n",
       "      <td>-11.0</td>\n",
       "      <td>30.02</td>\n",
       "      <td>NaN</td>\n",
       "      <td>NaN</td>\n",
       "      <td>#fabed4</td>\n",
       "    </tr>\n",
       "    <tr>\n",
       "      <th>41189</th>\n",
       "      <td>STONYKILL NEW YORK</td>\n",
       "      <td>41.5</td>\n",
       "      <td>-73.9</td>\n",
       "      <td>2021-01-04</td>\n",
       "      <td>NaN</td>\n",
       "      <td>10.0</td>\n",
       "      <td>33.80</td>\n",
       "      <td>NaN</td>\n",
       "      <td>NaN</td>\n",
       "      <td>#fabed4</td>\n",
       "    </tr>\n",
       "    <tr>\n",
       "      <th>41190</th>\n",
       "      <td>STONYKILL NEW YORK</td>\n",
       "      <td>41.5</td>\n",
       "      <td>-73.9</td>\n",
       "      <td>2021-01-05</td>\n",
       "      <td>NaN</td>\n",
       "      <td>15.0</td>\n",
       "      <td>34.70</td>\n",
       "      <td>NaN</td>\n",
       "      <td>NaN</td>\n",
       "      <td>#fabed4</td>\n",
       "    </tr>\n",
       "    <tr>\n",
       "      <th>...</th>\n",
       "      <td>...</td>\n",
       "      <td>...</td>\n",
       "      <td>...</td>\n",
       "      <td>...</td>\n",
       "      <td>...</td>\n",
       "      <td>...</td>\n",
       "      <td>...</td>\n",
       "      <td>...</td>\n",
       "      <td>...</td>\n",
       "      <td>...</td>\n",
       "    </tr>\n",
       "    <tr>\n",
       "      <th>41292</th>\n",
       "      <td>STONYKILL NEW YORK</td>\n",
       "      <td>41.5</td>\n",
       "      <td>-73.9</td>\n",
       "      <td>2021-04-17</td>\n",
       "      <td>NaN</td>\n",
       "      <td>79.0</td>\n",
       "      <td>46.22</td>\n",
       "      <td>NaN</td>\n",
       "      <td>NaN</td>\n",
       "      <td>#fabed4</td>\n",
       "    </tr>\n",
       "    <tr>\n",
       "      <th>41293</th>\n",
       "      <td>STONYKILL NEW YORK</td>\n",
       "      <td>41.5</td>\n",
       "      <td>-73.9</td>\n",
       "      <td>2021-04-18</td>\n",
       "      <td>NaN</td>\n",
       "      <td>107.0</td>\n",
       "      <td>51.26</td>\n",
       "      <td>NaN</td>\n",
       "      <td>NaN</td>\n",
       "      <td>#fabed4</td>\n",
       "    </tr>\n",
       "    <tr>\n",
       "      <th>41294</th>\n",
       "      <td>STONYKILL NEW YORK</td>\n",
       "      <td>41.5</td>\n",
       "      <td>-73.9</td>\n",
       "      <td>2021-04-19</td>\n",
       "      <td>NaN</td>\n",
       "      <td>109.0</td>\n",
       "      <td>51.62</td>\n",
       "      <td>NaN</td>\n",
       "      <td>NaN</td>\n",
       "      <td>#fabed4</td>\n",
       "    </tr>\n",
       "    <tr>\n",
       "      <th>41295</th>\n",
       "      <td>STONYKILL NEW YORK</td>\n",
       "      <td>41.5</td>\n",
       "      <td>-73.9</td>\n",
       "      <td>2021-04-20</td>\n",
       "      <td>NaN</td>\n",
       "      <td>127.0</td>\n",
       "      <td>54.86</td>\n",
       "      <td>NaN</td>\n",
       "      <td>NaN</td>\n",
       "      <td>#fabed4</td>\n",
       "    </tr>\n",
       "    <tr>\n",
       "      <th>41296</th>\n",
       "      <td>STONYKILL NEW YORK</td>\n",
       "      <td>41.5</td>\n",
       "      <td>-73.9</td>\n",
       "      <td>2021-04-21</td>\n",
       "      <td>NaN</td>\n",
       "      <td>83.0</td>\n",
       "      <td>46.94</td>\n",
       "      <td>NaN</td>\n",
       "      <td>NaN</td>\n",
       "      <td>#fabed4</td>\n",
       "    </tr>\n",
       "  </tbody>\n",
       "</table>\n",
       "<p>111 rows × 10 columns</p>\n",
       "</div>"
      ],
      "text/plain": [
       "                     NAME  LATITUDE  LONGITUDE        DATE  PRCP   TAVG  \\\n",
       "41186  STONYKILL NEW YORK      41.5      -73.9  2021-01-01   NaN  -14.0   \n",
       "41187  STONYKILL NEW YORK      41.5      -73.9  2021-01-02   NaN   25.0   \n",
       "41188  STONYKILL NEW YORK      41.5      -73.9  2021-01-03   NaN  -11.0   \n",
       "41189  STONYKILL NEW YORK      41.5      -73.9  2021-01-04   NaN   10.0   \n",
       "41190  STONYKILL NEW YORK      41.5      -73.9  2021-01-05   NaN   15.0   \n",
       "...                   ...       ...        ...         ...   ...    ...   \n",
       "41292  STONYKILL NEW YORK      41.5      -73.9  2021-04-17   NaN   79.0   \n",
       "41293  STONYKILL NEW YORK      41.5      -73.9  2021-04-18   NaN  107.0   \n",
       "41294  STONYKILL NEW YORK      41.5      -73.9  2021-04-19   NaN  109.0   \n",
       "41295  STONYKILL NEW YORK      41.5      -73.9  2021-04-20   NaN  127.0   \n",
       "41296  STONYKILL NEW YORK      41.5      -73.9  2021-04-21   NaN   83.0   \n",
       "\n",
       "       TAVGF  PRCPS  PRCPI    color  \n",
       "41186  29.48    NaN    NaN  #fabed4  \n",
       "41187  36.50    NaN    NaN  #fabed4  \n",
       "41188  30.02    NaN    NaN  #fabed4  \n",
       "41189  33.80    NaN    NaN  #fabed4  \n",
       "41190  34.70    NaN    NaN  #fabed4  \n",
       "...      ...    ...    ...      ...  \n",
       "41292  46.22    NaN    NaN  #fabed4  \n",
       "41293  51.26    NaN    NaN  #fabed4  \n",
       "41294  51.62    NaN    NaN  #fabed4  \n",
       "41295  54.86    NaN    NaN  #fabed4  \n",
       "41296  46.94    NaN    NaN  #fabed4  \n",
       "\n",
       "[111 rows x 10 columns]"
      ]
     },
     "execution_count": 53,
     "metadata": {},
     "output_type": "execute_result"
    }
   ],
   "source": [
    "nydf[nydf['NAME'].str.contains('STONYKILL')]"
   ]
  },
  {
   "cell_type": "code",
   "execution_count": null,
   "id": "da236da1-4c33-47f8-b185-c75d78d9c9f1",
   "metadata": {},
   "outputs": [],
   "source": [
    "airport_codes = {'ALBANY AP': 'ALB', \n",
    "                 'BINGHAMTON': 'BGM', \n",
    "                 'BUFFALO':'BUF', \n",
    "                 'GLENS FALLS AP':'GFL',\n",
    "                 'ISLIP LI MACARTHUR AP':'ISP', \n",
    "                 'NEW YORK JFK INTL AP':'JFK',\n",
    "                 'NEW YORK LAGUARDIA AP':'LGA', \n",
    "                 'ROCHESTER GTR INTL AP':'ROC',\n",
    "                 'SYRACUSE HANCOCK INTL AP':'SYR',\n",
    "                 'SARA NEW YORK':'5B2',\n",
    "                 'STONYKILL NEW YORK':'b'}"
   ]
  },
  {
   "cell_type": "code",
   "execution_count": null,
   "id": "732494d5-2fc1-442f-87e7-5e522ef8256f",
   "metadata": {},
   "outputs": [],
   "source": [
    "list(handles)"
   ]
  },
  {
   "cell_type": "code",
   "execution_count": 38,
   "id": "ae6e9a16-17dc-4d75-9134-fe598644ee45",
   "metadata": {},
   "outputs": [],
   "source": [
    "labels, handles = zip(*[(n, mpatches.Circle(.2, facecolor=c)) for n, c in ip.cdict.items()])"
   ]
  },
  {
   "cell_type": "code",
   "execution_count": 49,
   "id": "1204001e-1849-46c3-a23b-6dbe651e6a60",
   "metadata": {},
   "outputs": [
    {
     "data": {
      "text/plain": [
       "<matplotlib.legend.Legend at 0x209eec41cd0>"
      ]
     },
     "execution_count": 49,
     "metadata": {},
     "output_type": "execute_result"
    },
    {
     "data": {
      "image/png": "[encoded data removed]",
      "text/plain": [
       "<Figure size 432x288 with 3 Axes>"
      ]
     },
     "metadata": {
      "needs_background": "light"
     },
     "output_type": "display_data"
    }
   ],
   "source": [
    "fig = plt.figure()\n",
    "axd=gr.linked_plot(fig, nydf['TAVGF'], nydf['PRCPI'], nydf['color'])\n",
    "axd['scat'].set(xlabel='temperature (°F)', ylabel='precipitation (in.)')\n",
    "\n",
    "axd['scat'].legend(list(handles), list(labels), ncol=3, bbox_to_anchor=(0,0))"
   ]
  },
  {
   "cell_type": "code",
   "execution_count": null,
   "id": "f8e10c0a-e184-4bc4-a0ea-69baf0a9ad2a",
   "metadata": {},
   "outputs": [],
   "source": []
  },
  {
   "cell_type": "code",
   "execution_count": null,
   "id": "159d9332-18e5-4fec-ae4b-66af500c1c61",
   "metadata": {},
   "outputs": [],
   "source": []
  }
 ],
 "metadata": {
  "kernelspec": {
   "display_name": "Python [conda env:prop] *",
   "language": "python",
   "name": "conda-env-prop-py"
  },
  "language_info": {
   "codemirror_mode": {
    "name": "ipython",
    "version": 3
   },
   "file_extension": ".py",
   "mimetype": "text/x-python",
   "name": "python",
   "nbconvert_exporter": "python",
   "pygments_lexer": "ipython3",
   "version": "3.8.10"
  }
 },
 "nbformat": 4,
 "nbformat_minor": 5
}
