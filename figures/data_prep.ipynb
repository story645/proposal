{
 "cells": [
  {
   "cell_type": "code",
   "execution_count": 1,
   "metadata": {},
   "outputs": [],
   "source": [
    "%matplotlib inline"
   ]
  },
  {
   "cell_type": "code",
   "execution_count": 2,
   "metadata": {},
   "outputs": [],
   "source": [
    "from pathlib import Path\n",
    "\n",
    "import matplotlib.pyplot as plt\n",
    "import matplotlib.patches as mpatches\n",
    "import matplotlib.dates as mdates\n",
    "from matplotlib import rcParams\n",
    "\n",
    "import numpy as np\n",
    "import pandas as pd\n",
    "\n",
    "\n",
    "import shapely.geometry as sgeom\n",
    "\n",
    "import cartopy.crs as ccrs\n",
    "import cartopy.io.shapereader as shpreader\n",
    "\n",
    "import dask.dataframe as dd\n",
    "import dask.bag as db\n",
    "import dask.diagnostics as dg\n",
    "\n",
    "import geopandas as gpd\n",
    "\n",
    "\n",
    "paper_path = Path('../../paper/figures/')\n",
    "\n",
    "slide_path = Path('../../slides/figures/intro/')\n",
    "proposal_path = Path('../../draft/figures/intro/')\n",
    "#rcParams['font.family'] = 'Segoe Print'"
   ]
  },
  {
   "cell_type": "code",
   "execution_count": 3,
   "metadata": {},
   "outputs": [],
   "source": [
    "YEAR = 2021\n",
    "names = ['ID', 'DATE', 'ELEMENT', 'DATA_VALUE', 'M-FLAG', 'Q-FLAG', 'S-FLAG', 'OBS-TIME']\n",
    "ds = dd.read_csv(f's3://noaa-ghcn-pds/csv/{YEAR}.csv', storage_options={'anon':True},  names=names, memory_map=False, \n",
    "                  dtype={'DATA_VALUE':'object'}, parse_dates=['DATE', 'OBS-TIME'])"
   ]
  },
  {
   "cell_type": "code",
   "execution_count": 4,
   "metadata": {},
   "outputs": [],
   "source": [
    "# {column name:extents of the fixed-width fields}\n",
    "columns = {\"ID\": (0,11), \"LATITUDE\": (12, 20), \"LONGITUDE\": (21, 30), \"ELEVATION\": (31, 37),\"STATE\": (38, 40),\n",
    "           \"NAME\": (41, 71), \"GSN FLAG\": (72, 75), \"HCN/CRN FLAG\": (76, 79),\"WMO ID\": (80, 85)}"
   ]
  },
  {
   "cell_type": "code",
   "execution_count": 5,
   "metadata": {},
   "outputs": [],
   "source": [
    "df = pd.read_fwf(\"http://noaa-ghcn-pds.s3.amazonaws.com/ghcnd-stations.txt\", \n",
    "                    colspecs=list(columns.values()), names=list(columns.keys())).dropna(subset=['STATE'])"
   ]
  },
  {
   "cell_type": "code",
   "execution_count": 9,
   "metadata": {},
   "outputs": [],
   "source": [
    "nydf = df[df['STATE'].str.match(\"NY\")]"
   ]
  },
  {
   "cell_type": "code",
   "execution_count": 10,
   "metadata": {},
   "outputs": [
    {
     "name": "stderr",
     "output_type": "stream",
     "text": [
      "C:\\Users\\story\\Anaconda3\\envs\\mplrelease\\lib\\site-packages\\dask\\core.py:121: DtypeWarning: Columns (5) have mixed types.Specify dtype option on import or set low_memory=False.\n",
      "  return func(*(_execute_task(a, cache) for a in args))\n"
     ]
    },
    {
     "data": {
      "text/plain": [
       "0     TMAX\n",
       "1     PRCP\n",
       "2     TAVG\n",
       "3     TMIN\n",
       "4     SNWD\n",
       "      ... \n",
       "59    PSUN\n",
       "60    TSUN\n",
       "61    DWPR\n",
       "62    WT07\n",
       "63    WT10\n",
       "Name: ELEMENT, Length: 64, dtype: object"
      ]
     },
     "execution_count": 10,
     "metadata": {},
     "output_type": "execute_result"
    }
   ],
   "source": [
    "ds['ELEMENT'].unique().compute()"
   ]
  },
  {
   "cell_type": "code",
   "execution_count": 11,
   "metadata": {},
   "outputs": [
    {
     "name": "stderr",
     "output_type": "stream",
     "text": [
      "C:\\Users\\story\\Anaconda3\\envs\\mplrelease\\lib\\site-packages\\dask\\core.py:121: DtypeWarning: Columns (5) have mixed types.Specify dtype option on import or set low_memory=False.\n",
      "  return func(*(_execute_task(a, cache) for a in args))\n"
     ]
    }
   ],
   "source": [
    "nyds = ds[ds['ID'].isin(nydf['ID'].unique()) & ds['ELEMENT'].isin(['TAVG', 'PRCP' ])].compute()"
   ]
  },
  {
   "cell_type": "code",
   "execution_count": 12,
   "metadata": {},
   "outputs": [],
   "source": [
    "ny = nyds.merge(nydf, on='ID')"
   ]
  },
  {
   "cell_type": "code",
   "execution_count": 13,
   "metadata": {},
   "outputs": [
    {
     "data": {
      "text/plain": [
       "Index(['ID', 'DATE', 'ELEMENT', 'DATA_VALUE', 'M-FLAG', 'Q-FLAG', 'S-FLAG',\n",
       "       'OBS-TIME', 'LATITUDE', 'LONGITUDE', 'ELEVATION', 'STATE', 'NAME',\n",
       "       'GSN FLAG', 'HCN/CRN FLAG', 'WMO ID'],\n",
       "      dtype='object')"
      ]
     },
     "execution_count": 13,
     "metadata": {},
     "output_type": "execute_result"
    }
   ],
   "source": [
    "ny.columns"
   ]
  },
  {
   "cell_type": "code",
   "execution_count": 15,
   "metadata": {},
   "outputs": [
    {
     "name": "stderr",
     "output_type": "stream",
     "text": [
      "C:\\Users\\story\\Anaconda3\\envs\\mplrelease\\lib\\site-packages\\dask\\core.py:121: DtypeWarning: Columns (5) have mixed types.Specify dtype option on import or set low_memory=False.\n",
      "  return func(*(_execute_task(a, cache) for a in args))\n"
     ]
    },
    {
     "data": {
      "text/plain": [
       "0     TMAX\n",
       "1     PRCP\n",
       "2     TAVG\n",
       "3     TMIN\n",
       "4     SNWD\n",
       "      ... \n",
       "59    PSUN\n",
       "60    TSUN\n",
       "61    DWPR\n",
       "62    WT07\n",
       "63    WT10\n",
       "Name: ELEMENT, Length: 64, dtype: object"
      ]
     },
     "execution_count": 15,
     "metadata": {},
     "output_type": "execute_result"
    }
   ],
   "source": [
    "ds['ELEMENT'].unique().compute()"
   ]
  },
  {
   "cell_type": "code",
   "execution_count": 16,
   "metadata": {},
   "outputs": [],
   "source": [
    "nyd = ny.pivot(index=['NAME','LATITUDE', 'LONGITUDE', 'DATE'], columns=['ELEMENT'], values=['DATA_VALUE']).reset_index()"
   ]
  },
  {
   "cell_type": "code",
   "execution_count": 17,
   "metadata": {},
   "outputs": [
    {
     "data": {
      "text/html": [
       "<div>\n",
       "<style scoped>\n",
       "    .dataframe tbody tr th:only-of-type {\n",
       "        vertical-align: middle;\n",
       "    }\n",
       "\n",
       "    .dataframe tbody tr th {\n",
       "        vertical-align: top;\n",
       "    }\n",
       "\n",
       "    .dataframe thead tr th {\n",
       "        text-align: left;\n",
       "    }\n",
       "</style>\n",
       "<table border=\"1\" class=\"dataframe\">\n",
       "  <thead>\n",
       "    <tr>\n",
       "      <th></th>\n",
       "      <th>NAME</th>\n",
       "      <th>LATITUDE</th>\n",
       "      <th>LONGITUDE</th>\n",
       "      <th>DATE</th>\n",
       "      <th colspan=\"2\" halign=\"left\">DATA_VALUE</th>\n",
       "    </tr>\n",
       "    <tr>\n",
       "      <th>ELEMENT</th>\n",
       "      <th></th>\n",
       "      <th></th>\n",
       "      <th></th>\n",
       "      <th></th>\n",
       "      <th>PRCP</th>\n",
       "      <th>TAVG</th>\n",
       "    </tr>\n",
       "  </thead>\n",
       "  <tbody>\n",
       "    <tr>\n",
       "      <th>0</th>\n",
       "      <td>ALBANY 0.3 ESE</td>\n",
       "      <td>42.6641</td>\n",
       "      <td>-73.7935</td>\n",
       "      <td>2021-03-31</td>\n",
       "      <td>0</td>\n",
       "      <td>NaN</td>\n",
       "    </tr>\n",
       "    <tr>\n",
       "      <th>1</th>\n",
       "      <td>ALBANY 0.3 ESE</td>\n",
       "      <td>42.6641</td>\n",
       "      <td>-73.7935</td>\n",
       "      <td>2021-04-01</td>\n",
       "      <td>64</td>\n",
       "      <td>NaN</td>\n",
       "    </tr>\n",
       "    <tr>\n",
       "      <th>2</th>\n",
       "      <td>ALBANY 0.3 ESE</td>\n",
       "      <td>42.6641</td>\n",
       "      <td>-73.7935</td>\n",
       "      <td>2021-04-02</td>\n",
       "      <td>97</td>\n",
       "      <td>NaN</td>\n",
       "    </tr>\n",
       "    <tr>\n",
       "      <th>3</th>\n",
       "      <td>ALBANY 0.3 ESE</td>\n",
       "      <td>42.6641</td>\n",
       "      <td>-73.7935</td>\n",
       "      <td>2021-04-03</td>\n",
       "      <td>0</td>\n",
       "      <td>NaN</td>\n",
       "    </tr>\n",
       "    <tr>\n",
       "      <th>4</th>\n",
       "      <td>ALBANY 0.3 ESE</td>\n",
       "      <td>42.6641</td>\n",
       "      <td>-73.7935</td>\n",
       "      <td>2021-04-04</td>\n",
       "      <td>0</td>\n",
       "      <td>NaN</td>\n",
       "    </tr>\n",
       "    <tr>\n",
       "      <th>...</th>\n",
       "      <td>...</td>\n",
       "      <td>...</td>\n",
       "      <td>...</td>\n",
       "      <td>...</td>\n",
       "      <td>...</td>\n",
       "      <td>...</td>\n",
       "    </tr>\n",
       "    <tr>\n",
       "      <th>47701</th>\n",
       "      <td>YOUNGSTOWN 2.2 NE</td>\n",
       "      <td>43.2671</td>\n",
       "      <td>-79.0068</td>\n",
       "      <td>2021-04-09</td>\n",
       "      <td>28</td>\n",
       "      <td>NaN</td>\n",
       "    </tr>\n",
       "    <tr>\n",
       "      <th>47702</th>\n",
       "      <td>YOUNGSTOWN 2.2 NE</td>\n",
       "      <td>43.2671</td>\n",
       "      <td>-79.0068</td>\n",
       "      <td>2021-04-10</td>\n",
       "      <td>0</td>\n",
       "      <td>NaN</td>\n",
       "    </tr>\n",
       "    <tr>\n",
       "      <th>47703</th>\n",
       "      <td>YOUNGSTOWN 2.2 NE</td>\n",
       "      <td>43.2671</td>\n",
       "      <td>-79.0068</td>\n",
       "      <td>2021-04-11</td>\n",
       "      <td>86</td>\n",
       "      <td>NaN</td>\n",
       "    </tr>\n",
       "    <tr>\n",
       "      <th>47704</th>\n",
       "      <td>YOUNGSTOWN 2.2 NE</td>\n",
       "      <td>43.2671</td>\n",
       "      <td>-79.0068</td>\n",
       "      <td>2021-04-12</td>\n",
       "      <td>41</td>\n",
       "      <td>NaN</td>\n",
       "    </tr>\n",
       "    <tr>\n",
       "      <th>47705</th>\n",
       "      <td>YOUNGSTOWN 2.2 NE</td>\n",
       "      <td>43.2671</td>\n",
       "      <td>-79.0068</td>\n",
       "      <td>2021-04-13</td>\n",
       "      <td>18</td>\n",
       "      <td>NaN</td>\n",
       "    </tr>\n",
       "  </tbody>\n",
       "</table>\n",
       "<p>47706 rows × 6 columns</p>\n",
       "</div>"
      ],
      "text/plain": [
       "                      NAME LATITUDE LONGITUDE       DATE DATA_VALUE     \n",
       "ELEMENT                                                        PRCP TAVG\n",
       "0           ALBANY 0.3 ESE  42.6641  -73.7935 2021-03-31          0  NaN\n",
       "1           ALBANY 0.3 ESE  42.6641  -73.7935 2021-04-01         64  NaN\n",
       "2           ALBANY 0.3 ESE  42.6641  -73.7935 2021-04-02         97  NaN\n",
       "3           ALBANY 0.3 ESE  42.6641  -73.7935 2021-04-03          0  NaN\n",
       "4           ALBANY 0.3 ESE  42.6641  -73.7935 2021-04-04          0  NaN\n",
       "...                    ...      ...       ...        ...        ...  ...\n",
       "47701    YOUNGSTOWN 2.2 NE  43.2671  -79.0068 2021-04-09         28  NaN\n",
       "47702    YOUNGSTOWN 2.2 NE  43.2671  -79.0068 2021-04-10          0  NaN\n",
       "47703    YOUNGSTOWN 2.2 NE  43.2671  -79.0068 2021-04-11         86  NaN\n",
       "47704    YOUNGSTOWN 2.2 NE  43.2671  -79.0068 2021-04-12         41  NaN\n",
       "47705    YOUNGSTOWN 2.2 NE  43.2671  -79.0068 2021-04-13         18  NaN\n",
       "\n",
       "[47706 rows x 6 columns]"
      ]
     },
     "execution_count": 17,
     "metadata": {},
     "output_type": "execute_result"
    }
   ],
   "source": [
    "nyd"
   ]
  },
  {
   "cell_type": "code",
   "execution_count": 18,
   "metadata": {},
   "outputs": [],
   "source": [
    "nyd.columns = [c[0] if i <4 else c[1] for i, c in enumerate(nyd.columns.to_flat_index())]"
   ]
  },
  {
   "cell_type": "code",
   "execution_count": 19,
   "metadata": {},
   "outputs": [
    {
     "data": {
      "text/html": [
       "<div>\n",
       "<style scoped>\n",
       "    .dataframe tbody tr th:only-of-type {\n",
       "        vertical-align: middle;\n",
       "    }\n",
       "\n",
       "    .dataframe tbody tr th {\n",
       "        vertical-align: top;\n",
       "    }\n",
       "\n",
       "    .dataframe thead th {\n",
       "        text-align: right;\n",
       "    }\n",
       "</style>\n",
       "<table border=\"1\" class=\"dataframe\">\n",
       "  <thead>\n",
       "    <tr style=\"text-align: right;\">\n",
       "      <th></th>\n",
       "      <th>NAME</th>\n",
       "      <th>LATITUDE</th>\n",
       "      <th>LONGITUDE</th>\n",
       "      <th>DATE</th>\n",
       "      <th>PRCP</th>\n",
       "      <th>TAVG</th>\n",
       "    </tr>\n",
       "  </thead>\n",
       "  <tbody>\n",
       "    <tr>\n",
       "      <th>0</th>\n",
       "      <td>ALBANY 0.3 ESE</td>\n",
       "      <td>42.6641</td>\n",
       "      <td>-73.7935</td>\n",
       "      <td>2021-03-31</td>\n",
       "      <td>0</td>\n",
       "      <td>NaN</td>\n",
       "    </tr>\n",
       "    <tr>\n",
       "      <th>1</th>\n",
       "      <td>ALBANY 0.3 ESE</td>\n",
       "      <td>42.6641</td>\n",
       "      <td>-73.7935</td>\n",
       "      <td>2021-04-01</td>\n",
       "      <td>64</td>\n",
       "      <td>NaN</td>\n",
       "    </tr>\n",
       "    <tr>\n",
       "      <th>2</th>\n",
       "      <td>ALBANY 0.3 ESE</td>\n",
       "      <td>42.6641</td>\n",
       "      <td>-73.7935</td>\n",
       "      <td>2021-04-02</td>\n",
       "      <td>97</td>\n",
       "      <td>NaN</td>\n",
       "    </tr>\n",
       "    <tr>\n",
       "      <th>3</th>\n",
       "      <td>ALBANY 0.3 ESE</td>\n",
       "      <td>42.6641</td>\n",
       "      <td>-73.7935</td>\n",
       "      <td>2021-04-03</td>\n",
       "      <td>0</td>\n",
       "      <td>NaN</td>\n",
       "    </tr>\n",
       "    <tr>\n",
       "      <th>4</th>\n",
       "      <td>ALBANY 0.3 ESE</td>\n",
       "      <td>42.6641</td>\n",
       "      <td>-73.7935</td>\n",
       "      <td>2021-04-04</td>\n",
       "      <td>0</td>\n",
       "      <td>NaN</td>\n",
       "    </tr>\n",
       "  </tbody>\n",
       "</table>\n",
       "</div>"
      ],
      "text/plain": [
       "             NAME  LATITUDE  LONGITUDE       DATE PRCP TAVG\n",
       "0  ALBANY 0.3 ESE   42.6641   -73.7935 2021-03-31    0  NaN\n",
       "1  ALBANY 0.3 ESE   42.6641   -73.7935 2021-04-01   64  NaN\n",
       "2  ALBANY 0.3 ESE   42.6641   -73.7935 2021-04-02   97  NaN\n",
       "3  ALBANY 0.3 ESE   42.6641   -73.7935 2021-04-03    0  NaN\n",
       "4  ALBANY 0.3 ESE   42.6641   -73.7935 2021-04-04    0  NaN"
      ]
     },
     "execution_count": 19,
     "metadata": {},
     "output_type": "execute_result"
    }
   ],
   "source": [
    "nyd.head()"
   ]
  },
  {
   "cell_type": "code",
   "execution_count": 20,
   "metadata": {},
   "outputs": [],
   "source": [
    "nyd['TAVGF'] =  (nyd['TAVG'].astype(float)/10) *(9/5) + 32"
   ]
  },
  {
   "cell_type": "code",
   "execution_count": 21,
   "metadata": {},
   "outputs": [
    {
     "data": {
      "text/html": [
       "<div>\n",
       "<style scoped>\n",
       "    .dataframe tbody tr th:only-of-type {\n",
       "        vertical-align: middle;\n",
       "    }\n",
       "\n",
       "    .dataframe tbody tr th {\n",
       "        vertical-align: top;\n",
       "    }\n",
       "\n",
       "    .dataframe thead th {\n",
       "        text-align: right;\n",
       "    }\n",
       "</style>\n",
       "<table border=\"1\" class=\"dataframe\">\n",
       "  <thead>\n",
       "    <tr style=\"text-align: right;\">\n",
       "      <th></th>\n",
       "      <th>NAME</th>\n",
       "      <th>LATITUDE</th>\n",
       "      <th>LONGITUDE</th>\n",
       "      <th>DATE</th>\n",
       "      <th>PRCP</th>\n",
       "      <th>TAVG</th>\n",
       "      <th>TAVGF</th>\n",
       "    </tr>\n",
       "  </thead>\n",
       "  <tbody>\n",
       "    <tr>\n",
       "      <th>0</th>\n",
       "      <td>ALBANY 0.3 ESE</td>\n",
       "      <td>42.6641</td>\n",
       "      <td>-73.7935</td>\n",
       "      <td>2021-03-31</td>\n",
       "      <td>0</td>\n",
       "      <td>NaN</td>\n",
       "      <td>NaN</td>\n",
       "    </tr>\n",
       "    <tr>\n",
       "      <th>1</th>\n",
       "      <td>ALBANY 0.3 ESE</td>\n",
       "      <td>42.6641</td>\n",
       "      <td>-73.7935</td>\n",
       "      <td>2021-04-01</td>\n",
       "      <td>64</td>\n",
       "      <td>NaN</td>\n",
       "      <td>NaN</td>\n",
       "    </tr>\n",
       "    <tr>\n",
       "      <th>2</th>\n",
       "      <td>ALBANY 0.3 ESE</td>\n",
       "      <td>42.6641</td>\n",
       "      <td>-73.7935</td>\n",
       "      <td>2021-04-02</td>\n",
       "      <td>97</td>\n",
       "      <td>NaN</td>\n",
       "      <td>NaN</td>\n",
       "    </tr>\n",
       "    <tr>\n",
       "      <th>3</th>\n",
       "      <td>ALBANY 0.3 ESE</td>\n",
       "      <td>42.6641</td>\n",
       "      <td>-73.7935</td>\n",
       "      <td>2021-04-03</td>\n",
       "      <td>0</td>\n",
       "      <td>NaN</td>\n",
       "      <td>NaN</td>\n",
       "    </tr>\n",
       "    <tr>\n",
       "      <th>4</th>\n",
       "      <td>ALBANY 0.3 ESE</td>\n",
       "      <td>42.6641</td>\n",
       "      <td>-73.7935</td>\n",
       "      <td>2021-04-04</td>\n",
       "      <td>0</td>\n",
       "      <td>NaN</td>\n",
       "      <td>NaN</td>\n",
       "    </tr>\n",
       "  </tbody>\n",
       "</table>\n",
       "</div>"
      ],
      "text/plain": [
       "             NAME  LATITUDE  LONGITUDE       DATE PRCP TAVG  TAVGF\n",
       "0  ALBANY 0.3 ESE   42.6641   -73.7935 2021-03-31    0  NaN    NaN\n",
       "1  ALBANY 0.3 ESE   42.6641   -73.7935 2021-04-01   64  NaN    NaN\n",
       "2  ALBANY 0.3 ESE   42.6641   -73.7935 2021-04-02   97  NaN    NaN\n",
       "3  ALBANY 0.3 ESE   42.6641   -73.7935 2021-04-03    0  NaN    NaN\n",
       "4  ALBANY 0.3 ESE   42.6641   -73.7935 2021-04-04    0  NaN    NaN"
      ]
     },
     "execution_count": 21,
     "metadata": {},
     "output_type": "execute_result"
    }
   ],
   "source": [
    "nyd.head()"
   ]
  },
  {
   "cell_type": "code",
   "execution_count": 28,
   "metadata": {},
   "outputs": [
    {
     "data": {
      "text/plain": [
       "count    47142.000000\n",
       "mean        20.651775\n",
       "std         50.864002\n",
       "min          0.000000\n",
       "25%          0.000000\n",
       "50%          0.000000\n",
       "75%         13.000000\n",
       "max        759.000000\n",
       "Name: PRCP, dtype: float64"
      ]
     },
     "execution_count": 28,
     "metadata": {},
     "output_type": "execute_result"
    }
   ],
   "source": [
    "nyd['PRCP'].astype(float).describe()"
   ]
  },
  {
   "cell_type": "code",
   "execution_count": 32,
   "metadata": {},
   "outputs": [],
   "source": [
    "nyd['PRCPI'] = nyd['PRCP'].astype(float)/10 * 0.039370 "
   ]
  },
  {
   "cell_type": "code",
   "execution_count": 33,
   "metadata": {},
   "outputs": [
    {
     "data": {
      "text/plain": [
       "count    47142.000000\n",
       "mean         0.081306\n",
       "std          0.200252\n",
       "min          0.000000\n",
       "25%          0.000000\n",
       "50%          0.000000\n",
       "75%          0.051181\n",
       "max          2.988183\n",
       "Name: PRCPI, dtype: float64"
      ]
     },
     "execution_count": 33,
     "metadata": {},
     "output_type": "execute_result"
    }
   ],
   "source": [
    "nyd['PRCPI'].describe()"
   ]
  },
  {
   "cell_type": "code",
   "execution_count": 34,
   "metadata": {},
   "outputs": [],
   "source": [
    "nyd.to_csv(\"nydata\", index=False)"
   ]
  }
 ],
 "metadata": {
  "kernelspec": {
   "display_name": "Python 3.7.4 64-bit ('mplrelease': conda)",
   "language": "python",
   "name": "python37464bitmplreleaseconda953a5d05f1cf4d5db783b13a33a22e5d"
  },
  "language_info": {
   "codemirror_mode": {
    "name": "ipython",
    "version": 3
   },
   "file_extension": ".py",
   "mimetype": "text/x-python",
   "name": "python",
   "nbconvert_exporter": "python",
   "pygments_lexer": "ipython3",
   "version": "3.8.8"
  }
 },
 "nbformat": 4,
 "nbformat_minor": 4
}
