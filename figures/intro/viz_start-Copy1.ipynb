{
 "cells": [
  {
   "cell_type": "code",
   "execution_count": 1,
   "metadata": {},
   "outputs": [
    {
     "name": "stdout",
     "output_type": "stream",
     "text": [
      "3.3.4\n"
     ]
    }
   ],
   "source": [
    "import matplotlib; print(matplotlib.__version__)"
   ]
  },
  {
   "cell_type": "code",
   "execution_count": 6,
   "metadata": {},
   "outputs": [
    {
     "name": "stdout",
     "output_type": "stream",
     "text": [
      "Collecting package metadata (repodata.json): ...working... done\n",
      "Solving environment: ...working... done\n",
      "\n",
      "## Package Plan ##\n",
      "\n",
      "  environment location: C:\\Users\\story\\Anaconda3\\envs\\mpl3.3\n",
      "\n",
      "  added / updated specs:\n",
      "    - cartopy\n",
      "    - shapely\n",
      "\n",
      "\n",
      "The following packages will be downloaded:\n",
      "\n",
      "    package                    |            build\n",
      "    ---------------------------|-----------------\n",
      "    cartopy-0.18.0             |   py39h80a4efb_1         1.8 MB\n",
      "    scipy-1.6.2                |   py39h14eb087_0        16.6 MB\n",
      "    shapely-1.7.0              |   py39h06580b3_0         402 KB\n",
      "    ------------------------------------------------------------\n",
      "                                           Total:        18.8 MB\n",
      "\n",
      "The following NEW packages will be INSTALLED:\n",
      "\n",
      "  cartopy            pkgs/main/win-64::cartopy-0.18.0-py39h80a4efb_1\n",
      "  geos               pkgs/main/win-64::geos-3.8.0-h33f27b4_0\n",
      "  icc_rt             pkgs/main/win-64::icc_rt-2019.0.0-h0cc432a_1\n",
      "  proj               pkgs/main/win-64::proj-6.2.1-h9f7ef89_0\n",
      "  pyshp              pkgs/main/noarch::pyshp-2.1.3-pyhd3eb1b0_0\n",
      "  scipy              pkgs/main/win-64::scipy-1.6.2-py39h14eb087_0\n",
      "  shapely            pkgs/main/win-64::shapely-1.7.0-py39h06580b3_0\n",
      "\n",
      "\n",
      "\n",
      "Downloading and Extracting Packages\n",
      "\n",
      "shapely-1.7.0        | 402 KB    |            |   0% \n",
      "shapely-1.7.0        | 402 KB    | 3          |   4% \n",
      "shapely-1.7.0        | 402 KB    | ########## | 100% \n",
      "shapely-1.7.0        | 402 KB    | ########## | 100% \n",
      "\n",
      "Note: you may need to restart the kernel to use updated packages.\n",
      "scipy-1.6.2          | 16.6 MB   |            |   0% \n",
      "scipy-1.6.2          | 16.6 MB   | 5          |   5% \n",
      "scipy-1.6.2          | 16.6 MB   | ##1        |  21% \n",
      "scipy-1.6.2          | 16.6 MB   | ####       |  40% \n",
      "scipy-1.6.2          | 16.6 MB   | #####7     |  57% \n",
      "scipy-1.6.2          | 16.6 MB   | #######8   |  79% \n",
      "scipy-1.6.2          | 16.6 MB   | #########3 |  93% \n",
      "scipy-1.6.2          | 16.6 MB   | ########## | 100% \n",
      "\n",
      "cartopy-0.18.0       | 1.8 MB    |            |   0% \n",
      "cartopy-0.18.0       | 1.8 MB    | ########5  |  85% \n",
      "cartopy-0.18.0       | 1.8 MB    | ########## | 100% \n",
      "Preparing transaction: ...working... done\n",
      "Verifying transaction: ...working... done\n",
      "Executing transaction: ...working... done\n",
      "\n"
     ]
    }
   ],
   "source": [
    "%conda install cartopy shapely"
   ]
  },
  {
   "cell_type": "code",
   "execution_count": 3,
   "metadata": {},
   "outputs": [
    {
     "ename": "ModuleNotFoundError",
     "evalue": "No module named 'pandas'",
     "output_type": "error",
     "traceback": [
      "\u001b[1;31m---------------------------------------------------------------------------\u001b[0m",
      "\u001b[1;31mModuleNotFoundError\u001b[0m                       Traceback (most recent call last)",
      "\u001b[1;32m<ipython-input-3-2609bf4dbb0c>\u001b[0m in \u001b[0;36m<module>\u001b[1;34m\u001b[0m\n\u001b[0;32m     14\u001b[0m \u001b[1;33m\u001b[0m\u001b[0m\n\u001b[0;32m     15\u001b[0m \u001b[1;32mimport\u001b[0m \u001b[0mnumpy\u001b[0m \u001b[1;32mas\u001b[0m \u001b[0mnp\u001b[0m\u001b[1;33m\u001b[0m\u001b[1;33m\u001b[0m\u001b[0m\n\u001b[1;32m---> 16\u001b[1;33m \u001b[1;32mimport\u001b[0m \u001b[0mpandas\u001b[0m \u001b[1;32mas\u001b[0m \u001b[0mpd\u001b[0m\u001b[1;33m\u001b[0m\u001b[1;33m\u001b[0m\u001b[0m\n\u001b[0m\u001b[0;32m     17\u001b[0m \u001b[1;33m\u001b[0m\u001b[0m\n\u001b[0;32m     18\u001b[0m \u001b[1;33m\u001b[0m\u001b[0m\n",
      "\u001b[1;31mModuleNotFoundError\u001b[0m: No module named 'pandas'"
     ]
    }
   ],
   "source": [
    "from pathlib import Path\n",
    "\n",
    "from cycler import cycler\n",
    "import matplotlib as mpl\n",
    "import matplotlib.pyplot as plt\n",
    "import matplotlib.patches as mpatches\n",
    "import matplotlib.dates as mdates\n",
    "import matplotlib.colors as mcolors\n",
    "import matplotlib.table as mtable\n",
    "import matplotlib.cm as mcm\n",
    "\n",
    "from mpl_toolkits.axes_grid1.axes_divider import make_axes_locatable\n",
    "from matplotlib import rcParams\n",
    "\n",
    "import numpy as np\n",
    "import pandas as pd\n",
    "\n",
    "\n",
    "import shapely.geometry as sgeom\n",
    "\n",
    "import cartopy.crs as ccrs\n",
    "import cartopy.io.shapereader as shpreader\n",
    "\n",
    "import geopandas as gpd\n",
    "\n",
    "\n",
    "paper_path = Path('../../paper/figures/')\n",
    "\n",
    "slide_path = Path('../../slides/figures/intro/')\n",
    "proposal_path = Path('../../draft/figures/intro/')\n",
    "#rcParams['font.family'] = 'Segoe Print'"
   ]
  },
  {
   "cell_type": "code",
   "execution_count": 4,
   "metadata": {},
   "outputs": [],
   "source": [
    "ny = pd.read_csv(\"nydata\")"
   ]
  },
  {
   "cell_type": "code",
   "execution_count": 5,
   "metadata": {},
   "outputs": [],
   "source": [
    "ny['TAVG'] = (ny['DATA_VALUE'].astype(float)/10) *(9/5) + 32"
   ]
  },
  {
   "cell_type": "code",
   "execution_count": 6,
   "metadata": {},
   "outputs": [],
   "source": [
    "ny['DATES'] = pd.to_datetime(ny['DATE'])"
   ]
  },
  {
   "cell_type": "code",
   "execution_count": 7,
   "metadata": {},
   "outputs": [],
   "source": [
    "nymap = ny.groupby('NAME').agg({'TAVG':'mean', 'LATITUDE':'mean', 'LONGITUDE':'mean'})"
   ]
  },
  {
   "cell_type": "code",
   "execution_count": 8,
   "metadata": {},
   "outputs": [],
   "source": [
    "nygdf = gpd.GeoDataFrame(nymap['TAVG'],  geometry=gpd.points_from_xy(nymap['LONGITUDE'], nymap['LATITUDE']))"
   ]
  },
  {
   "cell_type": "code",
   "execution_count": 9,
   "metadata": {},
   "outputs": [],
   "source": [
    "ny['TEMP'] = ny['TAVG'].apply(lambda x: f\"{x:2.2f}\")"
   ]
  },
  {
   "cell_type": "code",
   "execution_count": 10,
   "metadata": {},
   "outputs": [],
   "source": [
    "dfs = ny[['DATE', 'LATITUDE', 'LONGITUDE', 'TEMP', 'NAME']].sort_values(by='DATE').head(10)"
   ]
  },
  {
   "cell_type": "code",
   "execution_count": 11,
   "metadata": {},
   "outputs": [],
   "source": [
    "shapename = 'admin_1_states_provinces_lakes_shp'\n",
    "states_shp = shpreader.natural_earth(resolution='110m', \n",
    "                                         category='cultural', name=shapename)\n",
    "nystate = gpd.read_file(states_shp)"
   ]
  },
  {
   "cell_type": "code",
   "execution_count": 12,
   "metadata": {},
   "outputs": [
    {
     "data": {
      "text/plain": [
       "count    1218.000000\n",
       "mean       30.779310\n",
       "std        10.682003\n",
       "min        -1.480000\n",
       "25%        23.360000\n",
       "50%        30.380000\n",
       "75%        36.500000\n",
       "max        63.680000\n",
       "Name: TAVG, dtype: float64"
      ]
     },
     "execution_count": 12,
     "metadata": {},
     "output_type": "execute_result"
    }
   ],
   "source": [
    "ny['TAVG'].describe()"
   ]
  },
  {
   "cell_type": "code",
   "execution_count": 13,
   "metadata": {},
   "outputs": [],
   "source": [
    "cmap = mcm.RdBu_r\n",
    "norm = mcolors.Normalize(vmin=25, vmax=35)"
   ]
  },
  {
   "cell_type": "code",
   "execution_count": 14,
   "metadata": {},
   "outputs": [],
   "source": [
    "def plot_table(ax, dfs, ccolors, edgecolor='k', textcolor='k'):\n",
    "    tab = mtable.table(ax, cellText=dfs.astype('str').values, cellLoc='center',\n",
    "                   colLabels=dfs.columns, loc='center')\n",
    "    #bbox=(0, 0, 1, 1))\n",
    "    tab.auto_set_font_size(False)\n",
    "    tab.set_fontsize('medium')\n",
    "    tab.scale(1.25, 1.5)\n",
    "    tab.auto_set_column_width(np.arange(len(dfs.columns)))\n",
    "    for i, color in enumerate(ccolors):\n",
    "        for j in range(len(dfs)+1):\n",
    "            if textcolor is None:\n",
    "                tab[(j,i)].get_text().set_color(color)\n",
    "            else:\n",
    "                tab[(j,i)].get_text().set_color(textcolor)\n",
    "                \n",
    "            tab[(j,i)].set_edgecolor(edgecolor)    \n",
    "    \n",
    "    ax.set(xticks=[], yticks=[], aspect='equal')\n",
    "    ax.axis('off')\n",
    "    ax.add_table(tab)\n",
    "    return tab"
   ]
  },
  {
   "cell_type": "code",
   "execution_count": 15,
   "metadata": {},
   "outputs": [
    {
     "data": {
      "text/plain": [
       "{'GANG MILLS NEW YORK': '#e6194B',\n",
       " 'SARA NEW YORK': '#42d4f4',\n",
       " 'SCHROON LAKE NEW YORK': '#9A6324',\n",
       " 'SHERBURNE NEW YORK': '#4363d8',\n",
       " 'STONYKILL NEW YORK': '#469990',\n",
       " 'BINGHAMTON': '#3cb44b',\n",
       " 'ISLIP LI MACARTHUR AP': '#ffe119',\n",
       " 'NEW YORK LAGUARDIA AP': '#f58231',\n",
       " 'BUFFALO': '#f032e6',\n",
       " 'ALBANY AP': '#fabed4',\n",
       " 'GLENS FALLS AP': '#dcbeff',\n",
       " 'ROCHESTER GTR INTL AP': '#800000',\n",
       " 'SYRACUSE HANCOCK INTL AP': '#aaffc3',\n",
       " 'NEW YORK JFK INTL AP': '#000075'}"
      ]
     },
     "execution_count": 15,
     "metadata": {},
     "output_type": "execute_result"
    }
   ],
   "source": [
    "colors = ['#e6194B','#42d4f4','#9A6324', '#4363d8','#469990', '#3cb44b', \n",
    "          '#ffe119', '#f58231', '#f032e6', '#fabed4', '#dcbeff', \n",
    "          '#800000', '#aaffc3', '#000075']\n",
    "cdict = dict(zip(ny['NAME'].unique(), colors))\n",
    "cdict"
   ]
  },
  {
   "cell_type": "code",
   "execution_count": 16,
   "metadata": {},
   "outputs": [
    {
     "data": {
      "image/png": "[encoded data removed]",
      "text/plain": [
       "<Figure size 432x288 with 1 Axes>"
      ]
     },
     "metadata": {},
     "output_type": "display_data"
    }
   ],
   "source": [
    "fig, ax = plt.subplots()\n",
    "tab = plot_table(ax, dfs, ['black', 'black', 'black', 'black', 'black'])\n",
    "fig.savefig(slide_path/\"table.png\", bbox_inches='tight')"
   ]
  },
  {
   "cell_type": "code",
   "execution_count": null,
   "metadata": {},
   "outputs": [],
   "source": [
    "fade='dimgray'\n",
    "fig, axd = plt.subplot_mosaic([['table', 'map',],\n",
    "                               ['table', 'time',]], \n",
    "                              constrained_layout=True, figsize=(12,4))\n",
    "tab = plot_table(axd['table'], dfs, ['black', 'black', 'black', 'black', 'black'],  edgecolor=fade, textcolor=fade)\n",
    "tab[(0,4)].get_text().set_text('STATION')\n",
    "\n",
    "for name, df in ny.groupby(['NAME']):\n",
    "    axd['time'].plot('DATES', 'TAVG', data=df, label=name,  alpha=.75, color=cdict[name])\n",
    "\n",
    "    gdf = nygdf.loc[[name], ['TAVG','geometry']]\n",
    "    gdf.plot(ax=axd['map'], facecolor=cmap(norm(gdf['TAVG'])), edgecolor=cdict[name], \n",
    "            linewidth=2.5, alpha=.75, markersize=100)\n",
    "axd['time'].xaxis.set_major_formatter(mdates.ConciseDateFormatter(mdates.AutoDateLocator()))\n",
    "\n",
    "nystate[nystate['postal'].str.match('NY')].plot(ax=axd['map'], facecolor='white', edgecolor=fade, zorder=-1)\n",
    "ax1_divider = make_axes_locatable(axd['map'])\n",
    "cax = ax1_divider.append_axes(\"right\", size=\"5%\", pad=\"2%\")\n",
    "cb = mpl.colorbar.ColorbarBase(cax, cmap=cmap,norm=norm, orientation='vertical', drawedges=False)\n",
    "axd['map'].set_aspect('equal')\n",
    "axd['map'].axis('off')\n",
    "\n",
    "for ax in [axd['map'],axd['time'], cax]:\n",
    "    ax.tick_params(color=fade, labelcolor=fade)\n",
    "    ax.spines[:].set_color(fade)\n",
    "\n",
    "#arrows\n",
    "arrow_kws = {'linewidth':3, 'mutation_scale':25} \n",
    "font_kw = {'fontsize':14, 'fontweight':'bold', 'va':'center', 'ha':'left', 'zorder':15}\n",
    "bbox = {'facecolor':'white', 'edgecolor':'white','pad':.02}\n",
    "pos_color = 'dimgray'\n",
    "#x position\n",
    "xpos_map = mpatches.ConnectionPatch(xyA=(.35,.77), coordsA=axd['table'].transData,\n",
    "                                     xyB=(-73.9, 42.2), coordsB=axd['map'].transData,   \n",
    "                         arrowstyle=\"-[,widthB=.35, angleB=90\", \n",
    "                        connectionstyle=\"arc,angleA=90, angleB=90,armA=5, armB=20,rad=5\", \n",
    "                                    color=pos_color, zorder=10, **arrow_kws)\n",
    "fig.add_artist(xpos_map)\n",
    "fig.text(.52, .8, \"x position\", bbox=bbox, color=pos_color, **font_kw)\n",
    "tab[(2,2)].get_text().set_color(pos_color)\n",
    "\n",
    "#y position\n",
    "ypos_map = mpatches.ConnectionPatch(xyA=(.09,.72), coordsA=axd['table'].transData,\n",
    "                                     xyB=(-74.5, 41.5), coordsB=axd['map'].transData,   \n",
    "                         arrowstyle=\"-[,widthB=.35, angleB=180\", \n",
    "                                    connectionstyle='arc,angleA=270, angleB=180,armA=5, armB=30,rad=5', \n",
    "                                    color=pos_color,zorder=10, **arrow_kws)#\"angle,angleA=90,angleB=180\"\n",
    "fig.add_artist(ypos_map)\n",
    "fig.text(.65,.67, \"y position\", color=pos_color, bbox=bbox, **font_kw)\n",
    "tab[(2,1)].get_text().set_color(pos_color)\n",
    "\n",
    "#edgecolor\n",
    "edge_color = cdict['STONYKILL NEW YORK']\n",
    "edge_map = mpatches.ConnectionPatch(xyA=(1.18,.75), coordsA=axd['table'].transData,\n",
    "                                    xyB=(-73.9, 41.25), coordsB=axd['map'].transData,   \n",
    "                                    arrowstyle=\"->\", connectionstyle=\"angle3, angleA=-15, angleB=-145\", \n",
    "                                    color=edge_color,**arrow_kws)\n",
    "fig.add_artist(edge_map)\n",
    "fig.text(.675,.61, \"edgecolor\", color=edge_color, bbox=bbox, **font_kw)\n",
    "tab[(2,4)].get_text().set_color(edge_color)\n",
    "\n",
    "#facecolor\n",
    "face_color = cmap(norm(nygdf['TAVG']['STONYKILL NEW YORK']))\n",
    "face_map = mpatches.ConnectionPatch(xyA=(.6,.75), coordsA=axd['table'].transData,\n",
    "                                    xyB=(-73.95, 41.4), coordsB=axd['map'].transData,   \n",
    "                                    arrowstyle=\"->\", connectionstyle=\"angle3, angleA=15,angleB=-140\", \n",
    "                                    color=face_color,**arrow_kws)\n",
    "fig.add_artist(face_map)\n",
    "fig.text(.55, 1.0, \"facecolor\", color=face_color, bbox=bbox, rotation=10, **font_kw)\n",
    "tab[(2,3)].get_text().set_color(face_color)\n",
    "\n",
    "\n",
    "# time\n",
    "#x position\n",
    "xpos_map = mpatches.ConnectionPatch(xyA=(-0.17,.31), coordsA=axd['table'].transData,\n",
    "                                     xyB=(18628, 20), coordsB=axd['time'].transData,   \n",
    "                         arrowstyle=\"-[,widthB=.35, angleB=90\", \n",
    "                        connectionstyle=\"arc,angleA=-90, angleB=-90,armA=20, armB=20,rad=5\", \n",
    "                                    color=pos_color, zorder=10, **arrow_kws)\n",
    "fig.add_artist(xpos_map)\n",
    "fig.text(.39, .21, \"x position\", bbox=bbox, color=pos_color, rotation=-5, **font_kw)\n",
    "tab[(7,2)].get_text().set_color(pos_color)\n",
    "\n",
    "#y position\n",
    "ypos_map = mpatches.ConnectionPatch(xyA=(.55,.32), coordsA=axd['table'].transData,\n",
    "                                     xyB=(18626, 35.96), coordsB=axd['time'].transData,   \n",
    "                         arrowstyle=\"-[,widthB=.35, angleB=180\", \n",
    "                                    connectionstyle='arc,angleA=270, angleB=180,armA=10, armB=30,rad=5', \n",
    "                                    color=pos_color,zorder=10, **arrow_kws)#\"angle,angleA=90,angleB=180\"\n",
    "fig.add_artist(ypos_map)\n",
    "fig.text(.39,.36, \"y position\", color=pos_color, bbox=bbox, **font_kw)\n",
    "tab[(7,3)].get_text().set_color(pos_color)\n",
    "\n",
    "# color\n",
    "line_color = cdict['NEW YORK JFK INTL AP']\n",
    "face_map = mpatches.ConnectionPatch(xyA=(1.19,.35), coordsA=axd['table'].transData,\n",
    "                                    xyB=(18629, 39), coordsB=axd['time'].transData,   \n",
    "                                    arrowstyle=\"->\", connectionstyle=\"angle3, angleA=15,angleB=-140\", \n",
    "                                    color=line_color,**arrow_kws)\n",
    "fig.add_artist(face_map)\n",
    "fig.text(.47, .45, \"color\", color=line_color, rotation=5, bbox=bbox, **font_kw)\n",
    "tab[(7,4)].get_text().set_color(line_color)\n",
    "\n",
    "#artist\n",
    "#artist\n",
    "#fig.text(.145, .7, \"point\", fontsize=40, color=acolor, zorder=20,\n",
    "#          bbox={'boxstyle':'rarrow', 'edgecolor':acolor, \n",
    "#                'linewidth':5, 'facecolor':'none', 'pad':1, 'mutation_aspect':.5})\n",
    "acolor= '#A50B5E'\n",
    "afont_kws = {'fontsize':24, 'fontweight':'bold', 'va':'center', 'ha':'left', 'zorder':25}\n",
    "artist_kws = {'linewidth':5, 'edgecolor':acolor, 'facecolor':'none', 'alpha':.2, 'zorder':20, \n",
    "              'arrowstyle':'fancy', 'mutation_scale':550 }\n",
    "point_artist = mpatches.ConnectionPatch(xyA=(-.2,.75), coordsA=axd['table'].transData,\n",
    "                                        xyB=(-70, 42.5), coordsB=axd['map'].transData, **artist_kws)\n",
    "#fig.add_artist(point_artist)\n",
    "#fig.text(.155,1.075, \"point\", rotation=-12, color=acolor, **afont_kws)\n",
    "\n",
    "\n",
    "\n",
    "acolor ='#6c3483'\n",
    "artist_kws = {'linewidth':5, 'edgecolor':acolor, 'facecolor':'none', 'alpha':.2, 'zorder':20, \n",
    "              'arrowstyle':'fancy', 'mutation_scale':550 }\n",
    "\n",
    "point_artist = mpatches.ConnectionPatch(xyA=(-.5,.32), coordsA=axd['table'].transData,\n",
    "                                        xyB=(18645, 37), coordsB=axd['time'].transData, **artist_kws)\n",
    "#fig.add_artist(point_artist)\n",
    "#fig.text(.03,.095, \"line\", rotation=12, color=acolor, **afont_kws)\n",
    "fig.savefig(proposal_path/\"functions.png\")"
   ]
  },
  {
   "cell_type": "code",
   "execution_count": null,
   "metadata": {},
   "outputs": [],
   "source": [
    "nyjfk = ny[ny['NAME'].str.contains(\"JFK\")]"
   ]
  },
  {
   "cell_type": "code",
   "execution_count": null,
   "metadata": {},
   "outputs": [],
   "source": [
    "nyjfk['TAVG2'] = nyjfk['TAVG']*2"
   ]
  },
  {
   "cell_type": "code",
   "execution_count": null,
   "metadata": {},
   "outputs": [],
   "source": [
    "nyjfk['TEMP2'] = nyjfk['TAVG2'].apply(lambda x: f\"{x:2.2f}\")"
   ]
  },
  {
   "cell_type": "code",
   "execution_count": null,
   "metadata": {},
   "outputs": [],
   "source": [
    "dfs = nyjfk.head(10)"
   ]
  },
  {
   "cell_type": "code",
   "execution_count": null,
   "metadata": {},
   "outputs": [],
   "source": [
    "fig, axd = plt.subplot_mosaic([['tab1','tab2', 'time']], gridspec_kw={'width_ratios':[1,1,2]},\n",
    "                              constrained_layout=True, figsize=(9,3))\n",
    "\n",
    "tab = plot_table(axd['tab1'], dfs[['DATE', 'TEMP']], ['k', 'tab:blue'], textcolor=None)\n",
    "tab2 = plot_table(axd['tab2'], dfs[['DATE', 'TEMP2']], ['k','tab:orange'], textcolor=None)\n",
    "tab2[(0,1)].get_text().set_text('TEMPERATURE')\n",
    "tab[(0,1)].get_text().set_text('TEMPERATURE')\n",
    "axd['time'].plot('DATES', 'TAVG', data=nyjfk, color='tab:blue')\n",
    "axd['time'].plot('DATES', 'TAVG2', data=nyjfk, color='tab:orange')\n",
    "axd['time'].xaxis.set_major_formatter(mdates.ConciseDateFormatter(mdates.MonthLocator()))\n",
    "axd['time'].set_ylabel(\"temperature (°F)\")\n",
    "\n",
    "a_color = 'tab:green'\n",
    "\n",
    "for y in np.array([.075, .25, .42, .58, .75, .91])-.04:\n",
    "    con_ft = mpatches.ConnectionPatch(xyA=(.88,y), coordsA=axd['tab1'].transData,\n",
    "                            xyB=(.67, y), coordsB=axd['tab2'].transData,   \n",
    "                             arrowstyle=\"fancy\", mutation_scale=60, \n",
    "                            facecolor=a_color, edgecolor='black', alpha=.5)\n",
    "    fig.add_artist(con_ft)\n",
    "    \n",
    "for (i, (d, t1, t2)) in nyjfk[['DATES', 'TAVG', 'TAVG2']].iloc[::2].iterrows():\n",
    "    a1 = mpatches.FancyArrowPatch((d, t1), (d,t2), arrowstyle=\"->\",  \n",
    "                                  linestyle=None, mutation_scale=15, color=a_color)\n",
    "    axd['time'].add_artist(a1)\n",
    "fig.savefig(proposal_path/\"equivariant.png\")"
   ]
  },
  {
   "cell_type": "code",
   "execution_count": null,
   "metadata": {},
   "outputs": [],
   "source": [
    "table = np.array([[\"sun\", 1], [\"clouds\", 4], ['rain', 2], ['lightning', 3], ['storm', 2]])"
   ]
  },
  {
   "cell_type": "code",
   "execution_count": null,
   "metadata": {},
   "outputs": [],
   "source": [
    "fig, axd = plt.subplot_mosaic([['tab','plot'], ['tab', 'bar']], gridspec_kw={'width_ratios':[1,1]}, \n",
    "                              constrained_layout=True, figsize=(6,2))\n",
    "\n",
    "tab = axd['tab'].table(cellText=table.astype('str'), bbox=(0, 0, 1, 1))\n",
    "tab.set_fontsize('xx-large')\n",
    "axd['tab'].set(xticks=[], yticks=[], aspect='equal')\n",
    "axd['plot'].plot(table[:,0], table[:,1].astype(int), color='tab:green')\n",
    "axd['bar'].bar(table[:,0], table[:,1].astype(int), color='tab:green')\n",
    "for n in ['bar', 'plot']:\n",
    "    #axd[n].set_ylim(0,4.1)\n",
    "    axd[n].set_ylabel(\"frequency\")\n",
    "    axd[n].xaxis.set_tick_params(rotation=0)\n",
    "    axd[n].set_yticks([0, 2.5, 5])\n",
    "    axd[n].set_yticklabels(['0', '2.5', '5'])\n",
    "axd['bar'].set_ylim(0,5)\n",
    "axd['plot'].set_ylim(0, 5)\n",
    "\n",
    "fig.savefig(paper_path/\"continuity.png\")"
   ]
  },
  {
   "cell_type": "code",
   "execution_count": null,
   "metadata": {},
   "outputs": [],
   "source": [
    "nybar = nygdf.reset_index()\n",
    "nybar['TEMP'] = nybar['TAVG'].apply(lambda x: f\"{x:2.2f}\")"
   ]
  },
  {
   "cell_type": "code",
   "execution_count": null,
   "metadata": {},
   "outputs": [],
   "source": [
    "nybar['SHORT'] = nybar['NAME'].str.replace(\"NEW YORK|AP|INTL|ISLIP LI|GTR|SYRACUSE\", \"\", regex=True)"
   ]
  },
  {
   "cell_type": "code",
   "execution_count": null,
   "metadata": {},
   "outputs": [],
   "source": [
    "nybar['NAME']"
   ]
  },
  {
   "cell_type": "code",
   "execution_count": null,
   "metadata": {},
   "outputs": [],
   "source": [
    "fig, axd = plt.subplot_mosaic([['tab','plot'], ['tab', 'bar']], gridspec_kw={'width_ratios':[1,1]}, \n",
    "                              constrained_layout=True, figsize=(12,4))\n",
    "tab = plot_table(axd['tab'], nybar[['NAME', 'TEMP']], ['k', 'tab:green'], textcolor=None)\n",
    "tab[(0,1)].get_text().set_text(\"Temperature\")\n",
    "tab[(0,0)].get_text().set_text(\"Station\")\n",
    "tab[(0,1)].get_text().set_color(\"k\")\n",
    "for i in range(len(cdict)):\n",
    "    station = tab[(i+1,0)].get_text().get_text()\n",
    "    tab[(i+1,0)].set_facecolor(cdict[station])\n",
    "    tab[(i+1,0)].set_alpha(.25)\n",
    "    tab[(i+1,0)].get_text().set_color(\"black\")\n",
    "axd['bar'].bar(nybar['SHORT'], nybar['TAVG'], color=[cdict[n] for n in nybar['NAME']])\n",
    "axd['bar'].tick_params(\"x\", rotation=90)\n",
    "axd['plot'].tick_params(\"x\", rotation=90)\n",
    "axd['plot'].plot(nybar['SHORT'], nybar['TAVG'], color='tab:green')\n",
    "axd['plot'].sharex(axd['bar'])\n",
    "axd['plot'].sharey(axd['bar'])\n",
    "axd['bar'].set_yticks([0,10,20,30])\n",
    "axd['bar'].set_xlim(-0.75,13.75)\n",
    "axd['bar'].set_ylabel(\"Average Temp (°F)\")\n",
    "axd['plot'].set_ylabel(\"Average Temp (°F)\")\n",
    "fig.subplots_adjust(hspace=0.)\n",
    "\n",
    "fig.savefig(proposal_path/\"continuity.png\")"
   ]
  },
  {
   "cell_type": "code",
   "execution_count": null,
   "metadata": {},
   "outputs": [],
   "source": [
    "df['']"
   ]
  },
  {
   "cell_type": "code",
   "execution_count": null,
   "metadata": {},
   "outputs": [],
   "source": [
    "tab[(0,0)].get_text?"
   ]
  },
  {
   "cell_type": "code",
   "execution_count": null,
   "metadata": {},
   "outputs": [],
   "source": [
    "tab[(0,0)].get_text().get_text()"
   ]
  },
  {
   "cell_type": "code",
   "execution_count": null,
   "metadata": {},
   "outputs": [],
   "source": [
    "fig, axd = plt.subplot_mosaic([['tab','plot'], ['tab', 'bar']], gridspec_kw={'width_ratios':[1,1]}, \n",
    "                              constrained_layout=True, figsize=(6,2))\n"
   ]
  }
 ],
 "metadata": {
  "kernelspec": {
   "display_name": "Python 3",
   "language": "python",
   "name": "python3"
  },
  "language_info": {
   "codemirror_mode": {
    "name": "ipython",
    "version": 3
   },
   "file_extension": ".py",
   "mimetype": "text/x-python",
   "name": "python",
   "nbconvert_exporter": "python",
   "pygments_lexer": "ipython3",
   "version": "3.9.2"
  }
 },
 "nbformat": 4,
 "nbformat_minor": 4
}
