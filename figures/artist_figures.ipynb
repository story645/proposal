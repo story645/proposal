{
 "cells": [
  {
   "cell_type": "code",
   "execution_count": 42,
   "id": "855e7ae5",
   "metadata": {},
   "outputs": [],
   "source": [
    "from pathlib import Path\n",
    "import itertools\n",
    "\n",
    "import numpy as np\n",
    "# https://matplotlib.org/gallery/lines_bars_and_markers/curve_error_band.html#sphx-glr-gallery-lines-bars-and-markers-curve-error-band-py\n",
    "from scipy.interpolate import splprep, splev\n",
    "\n",
    "\n",
    "import matplotlib.ticker as mticker\n",
    "import matplotlib.patches as mpatches\n",
    "import matplotlib.collections as mcollections\n",
    "import matplotlib.colors as mcolors\n",
    "import matplotlib.path as mpath\n",
    "import matplotlib.pyplot as plt\n",
    "from matplotlib import rcParams\n",
    "\n",
    "import highlight_text as ht\n",
    "\n",
    "import themepy\n",
    "paper_path = Path('../paper/figures/')\n",
    "slide_path = Path('../slides/figures/math/')\n",
    "proposal_path = Path('../draft/figures/math/')\n",
    "theme = themepy.Theme('paper')\n",
    "rcParams['font.family'] = 'Segoe Print'\n",
    "rcParams['figure.dpi'] = 200\n",
    "%matplotlib inline"
   ]
  },
  {
   "cell_type": "code",
   "execution_count": 43,
   "id": "18eb8c94",
   "metadata": {},
   "outputs": [
    {
     "data": {
      "image/png": "[encoded data removed]",
      "text/plain": [
       "<Figure size 432x288 with 1 Axes>"
      ]
     },
     "metadata": {
      "needs_background": "light"
     },
     "output_type": "display_data"
    }
   ],
   "source": [
    "fig, ax = plt.subplots()\n",
    "\n",
    "facecolor='white'\n",
    "elabs = [r\"$E_0$\", r\"$E_i$\", r\"$E_n$\"][::-1]\n",
    "nlabs = [r\"$\\nu_0$\", r\"$\\nu_i$\", r\"$\\nu_n$\"][::-1]\n",
    "vlabs = [r\"$V_0$\", r\"$V_i$\", r\"$V_n$\"][::-1]\n",
    "\n",
    "ac = 'C4'\n",
    "oc = '#248EA6'\n",
    "sc = 'dimgray'\n",
    "# mutation_scale\n",
    "for i, el, nl, vl in zip([0, 3, 6], elabs, nlabs, vlabs):\n",
    "    #nu\n",
    "    ax.text(6.45,i+.75, nl, fontsize=16, color=ac)\n",
    "    p = mpatches.Ellipse((7, i+1), width=4, height=2, facecolor=facecolor, edgecolor=ac)\n",
    "    ax.add_patch(p)\n",
    "\n",
    "    #V block\n",
    "    ax.text(12.25, i+1, vl, fontsize=14, color=oc, ha=\"center\", va=\"center\", \n",
    "            bbox=dict(boxstyle=\"square\",  ec=oc, fc=facecolor))\n",
    "    p1 = mpatches.FancyArrowPatch((9,i+1),(16, i+1), color=sc, mutation_scale=10)\n",
    "    ax.add_patch(p1)\n",
    "    #E block\n",
    "    ax.text(1, i+1, el, fontsize=14, color=oc, ha=\"center\", va=\"center\",\n",
    "            bbox=dict(boxstyle=\"square\",  ec=oc, fc=facecolor))\n",
    "    p3 = mpatches.FancyArrowPatch((0,i+1),(5, i+1), color=sc, mutation_scale=10)\n",
    "    ax.add_patch(p3)\n",
    "\n",
    "e = mpatches.Ellipse((18.75,4), width=5.5, height=8.5, facecolor=facecolor, edgecolor=ac)\n",
    "ax.add_patch(e)\n",
    "ax.text(16.5,2.5,r'$Q$', fontsize=64, color=ac)\n",
    "p4 = mpatches.FancyArrowPatch((21.5, 4),(25,4), color=sc, mutation_scale=10)\n",
    "ax.add_patch(p4)\n",
    "ax.text(25.75,4, \"$H$\", fontsize=14, color=oc, ha=\"center\", va=\"center\",\n",
    "        bbox=dict(boxstyle=\"square\",  ec=oc, fc=facecolor))\n",
    "ax.set(xlim=(-1,27), ylim=(-2,10), aspect='equal')\n",
    "ax.axis('off')\n",
    "fig.savefig(paper_path/\"path_of_q.png\", bbox_inches='tight', facecolor=facecolor)\n",
    "fig.savefig(proposal_path/\"path_of_q.png\", bbox_inches='tight', facecolor=facecolor)"
   ]
  },
  {
   "cell_type": "code",
   "execution_count": 62,
   "id": "9c19183e",
   "metadata": {},
   "outputs": [
    {
     "data": {
      "image/png": "[encoded data removed]",
      "text/plain": [
       "<Figure size 720x144 with 1 Axes>"
      ]
     },
     "metadata": {
      "needs_background": "light"
     },
     "output_type": "display_data"
    }
   ],
   "source": [
    "fig, ax = plt.subplots(figsize=(10,2))\n",
    "\n",
    "gcolor = 'C2'\n",
    "rcolor = '#56A1DA'\n",
    "mcolor = '#A62662'\n",
    "c1 = mpatches.Circle((1,.5), radius=.45, facecolor='white', edgecolor=gcolor)\n",
    "ax.add_patch(c1)\n",
    "c2 = mpatches.Circle((4,.5), radius=.35, facecolor='white', edgecolor=gcolor, linewidth=25)\n",
    "ax.add_patch(c2)\n",
    "p4 = mpatches.FancyArrowPatch((1.5,0.5), (3.5,0.5), color=mcolor, mutation_scale=15)\n",
    "ax.add_patch(p4)\n",
    "\n",
    "ht.ax_text(2.5,.52, r'<$Q($><$m_{i}$><$\\circ$><$\\mu_i$><$)$>', ha='center', va='bottom', color=ac, fontsize=16,\n",
    "           highlight_textprops=[{\"color\": ac},{\"color\":mcolor},{\"color\":'k'},{\"color\":sc}, {\"color\":ac}], ax=ax)\n",
    "\n",
    "for ((x,y, t)) in [(1,.5, r\"$\\rho$\"), (4, .5, r\"$\\rho^{\\prime}$\")]:\n",
    "    ax.text(x, y, t, fontsize=20, ha='center', va='center', color=sc)\n",
    "ax.set(xlim=(0,5), aspect='equal')\n",
    "ax.axis('off')\n",
    "fig.savefig(paper_path/\"diff_type_q.png\", bbox_inches='tight', facecolor='white' )\n",
    "fig.savefig(slide_path/\"diff_type_q.png\", bbox_inches='tight', facecolor='white' )\n",
    "fig.savefig(proposal_path/\"diff_type_q.png\", bbox_inches='tight', facecolor='white')"
   ]
  },
  {
   "cell_type": "code",
   "execution_count": 564,
   "id": "f929076e",
   "metadata": {},
   "outputs": [
    {
     "data": {
      "text/plain": [
       "1.7000000000000002"
      ]
     },
     "execution_count": 572,
     "metadata": {},
     "output_type": "execute_result"
    }
   ],
   "source": [
    "6.2-4.5"
   ]
  },
  {
   "cell_type": "code",
   "execution_count": null,
   "id": "014790bb",
   "metadata": {},
   "outputs": [],
   "source": []
  }
 ],
 "metadata": {
  "kernelspec": {
   "display_name": "Python 3.7.4 64-bit ('mplrelease': conda)",
   "language": "python",
   "name": "python37464bitmplreleaseconda953a5d05f1cf4d5db783b13a33a22e5d"
  },
  "language_info": {
   "codemirror_mode": {
    "name": "ipython",
    "version": 3
   },
   "file_extension": ".py",
   "mimetype": "text/x-python",
   "name": "python",
   "nbconvert_exporter": "python",
   "pygments_lexer": "ipython3",
   "version": "3.8.8"
  }
 },
 "nbformat": 4,
 "nbformat_minor": 5
}
