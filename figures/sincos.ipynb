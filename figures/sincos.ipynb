{
 "cells": [
  {
   "cell_type": "markdown",
   "id": "2b721294-88bf-493c-8585-dc5a9fb4c0ea",
   "metadata": {},
   "source": [
    "* multicolored sin colored by color\n",
    "* update vmin/vmax (colorbar) or update the data ()\n",
    "* way to express the rules by which data is tranformed into visualizaitions\n",
    "  * what are these rules? #topology, equivariance, sin/cosine as color\n",
    "     * very focused figures that change one thing? <- build up a visualization, \n",
    "         * only changing one thing for nu or q\n",
    "         * discrete to continuous\n",
    "   * what does this do for me? shortened version of histogam example\n",
    "* how - math diagrams?\n"
   ]
  }
 ],
 "metadata": {
  "kernelspec": {
   "display_name": "Python 3",
   "language": "python",
   "name": "python3"
  },
  "language_info": {
   "codemirror_mode": {
    "name": "ipython",
    "version": 3
   },
   "file_extension": ".py",
   "mimetype": "text/x-python",
   "name": "python",
   "nbconvert_exporter": "python",
   "pygments_lexer": "ipython3",
   "version": "3.8.10"
  }
 },
 "nbformat": 4,
 "nbformat_minor": 5
}
