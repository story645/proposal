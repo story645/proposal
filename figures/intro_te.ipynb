{
 "cells": [
  {
   "cell_type": "markdown",
   "id": "76348953-e67f-41d6-b7f8-0499d5cb5856",
   "metadata": {},
   "source": [
    "# https://photos.app.goo.gl/fDbayhbHXsmJ8aoh9\n",
    "build on math diagram figs:\n",
    "1. fig w/ two dots\n",
    "1. two rows\n",
    "1. backward arrow\n",
    "2. line plot\n",
    "2. backward arrow?\n",
    "3. two rows -> two dots\n",
    "3. equivariance-> two dots moved\n",
    "4. maybe an appendix fig on what happens in V for equiv (throw back to S & K)"
   ]
  },
  {
   "cell_type": "code",
   "execution_count": null,
   "id": "6c5d1cf2-3b18-4066-9b7d-a483bcf138f4",
   "metadata": {},
   "outputs": [],
   "source": []
  }
 ],
 "metadata": {
  "kernelspec": {
   "display_name": "Python 3",
   "language": "python",
   "name": "python3"
  },
  "language_info": {
   "codemirror_mode": {
    "name": "ipython",
    "version": 3
   },
   "file_extension": ".py",
   "mimetype": "text/x-python",
   "name": "python",
   "nbconvert_exporter": "python",
   "pygments_lexer": "ipython3",
   "version": "3.8.10"
  }
 },
 "nbformat": 4,
 "nbformat_minor": 5
}
