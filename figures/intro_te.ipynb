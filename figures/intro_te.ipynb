{
 "cells": [
  {
   "cell_type": "markdown",
   "id": "76348953-e67f-41d6-b7f8-0499d5cb5856",
   "metadata": {},
   "source": [
    "# https://photos.app.goo.gl/fDbayhbHXsmJ8aoh9\n",
    "build on math diagram figs:\n",
    "1. fig w/ two dots\n",
    "1. two rows\n",
    "1. backward arrow\n",
    "2. line plot\n",
    "2. backward arrow?\n",
    "3. two rows -> two dots\n",
    "3. equivariance-> two dots moved\n",
    "4. maybe an appendix fig on what happens in V for equiv (throw back to S & K)"
   ]
  },
  {
   "cell_type": "code",
   "execution_count": 1,
   "id": "6c5d1cf2-3b18-4066-9b7d-a483bcf138f4",
   "metadata": {},
   "outputs": [],
   "source": [
    "%matplotlib inline\n",
    "import itertools\n",
    "\n",
    "import numpy as np\n",
    "\n",
    "import matplotlib.pyplot as plt\n",
    "import matplotlib.patches as mpatches\n",
    "import matplotlib.transforms as mtransforms\n",
    "from matplotlib import rcParams\n",
    "\n",
    "import themepy\n",
    "theme = themepy.Theme('paper')\n",
    "\n",
    "import intro_plots as ip\n",
    "\n",
    "rcParams['figure.dpi'] = 200\n",
    "rcParams['font.family'] = 'Segoe Print'"
   ]
  },
  {
   "cell_type": "code",
   "execution_count": 2,
   "id": "7c196f79",
   "metadata": {},
   "outputs": [],
   "source": [
    "fc = '#FEF7F9'\n",
    "ec = '#f2f8fa'\n",
    "ecolor = '#248EA6'\n",
    "fcolor = '#E30B5C'\n",
    "kcolor = '#021859'\n",
    "scolor='C1'\n",
    "pcolor = 'darkgray'\n",
    "tcolor = 'dimgray'\n",
    "acolor = 'C4'\n",
    "posc='#4A73A8'"
   ]
  },
  {
   "cell_type": "code",
   "execution_count": 3,
   "id": "6b1ffebd",
   "metadata": {},
   "outputs": [],
   "source": [
    "E = ['temp', 'prcp', 'name']\n",
    "V = ['x', 'y', 'color']\n",
    "mosaic = [['E', 'V', 'V*', 'H'], \n",
    "          ['.', 'K', 'S', '.']]"
   ]
  },
  {
   "cell_type": "code",
   "execution_count": null,
   "id": "aab603b3",
   "metadata": {},
   "outputs": [],
   "source": [
    "tthm"
   ]
  }
 ],
 "metadata": {
  "kernelspec": {
   "display_name": "Python 3",
   "language": "python",
   "name": "python3"
  },
  "language_info": {
   "codemirror_mode": {
    "name": "ipython",
    "version": 3
   },
   "file_extension": ".py",
   "mimetype": "text/x-python",
   "name": "python",
   "nbconvert_exporter": "python",
   "pygments_lexer": "ipython3",
   "version": "3.8.10"
  }
 },
 "nbformat": 4,
 "nbformat_minor": 5
}
