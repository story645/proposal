{
 "cells": [
  {
   "cell_type": "code",
   "execution_count": 1,
   "id": "33cf57c6-ba8e-457b-a906-f69302dd9af9",
   "metadata": {},
   "outputs": [],
   "source": [
    "%matplotlib inline"
   ]
  },
  {
   "cell_type": "code",
   "execution_count": 2,
   "id": "c210f42a-9795-4f8b-bbdc-aef1a9c8d55d",
   "metadata": {},
   "outputs": [
    {
     "data": {
      "text/plain": [
       "<matplotlib.patches.ConnectionPatch at 0x24202ce7a60>"
      ]
     },
     "execution_count": 2,
     "metadata": {},
     "output_type": "execute_result"
    },
    {
     "data": {
      "image/png": "[encoded data removed]",
      "text/plain": [
       "<Figure size 432x288 with 1 Axes>"
      ]
     },
     "metadata": {
      "needs_background": "light"
     },
     "output_type": "display_data"
    }
   ],
   "source": [
    "import matplotlib.pyplot as plt\n",
    "import matplotlib.patches as mpatches\n",
    "\n",
    "fig, ax = plt.subplots()\n",
    "\n",
    "q1 = mpatches.ConnectionPatch(xyA=(.2, .5), coordsA=ax.transAxes, \n",
    "                                  xyB=(.7, .5), coordsB=ax.transAxes, \n",
    "                                  arrowstyle=']-,widthA=1.5,lengthA=10', lw=5)      \n",
    "fig.add_artist(q1)\n",
    "\n",
    "q2 = mpatches.ConnectionPatch(xyA=(.2, .5), coordsA=ax.transAxes, \n",
    "                                  xyB=(.9, .5), coordsB=ax.transAxes, \n",
    "                                  arrowstyle='->', lw=5)      \n",
    "fig.add_artist(q2)"
   ]
  },
  {
   "cell_type": "code",
   "execution_count": null,
   "id": "9fb4a3d5-ba73-4e30-b56d-299faa1d1abc",
   "metadata": {},
   "outputs": [],
   "source": []
  }
 ],
 "metadata": {
  "kernelspec": {
   "display_name": "Python [conda env:prop] *",
   "language": "python",
   "name": "conda-env-prop-py"
  },
  "language_info": {
   "codemirror_mode": {
    "name": "ipython",
    "version": 3
   },
   "file_extension": ".py",
   "mimetype": "text/x-python",
   "name": "python",
   "nbconvert_exporter": "python",
   "pygments_lexer": "ipython3",
   "version": "3.8.10"
  }
 },
 "nbformat": 4,
 "nbformat_minor": 5
}
