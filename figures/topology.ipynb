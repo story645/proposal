{
 "cells": [
  {
   "cell_type": "code",
   "execution_count": 1,
   "id": "97e86cc3",
   "metadata": {},
   "outputs": [],
   "source": [
    "%matplotlib inline"
   ]
  },
  {
   "cell_type": "code",
   "execution_count": 2,
   "id": "7807730a",
   "metadata": {},
   "outputs": [],
   "source": [
    "%load_ext autoreload"
   ]
  },
  {
   "cell_type": "code",
   "execution_count": 3,
   "id": "ef7d76b4",
   "metadata": {},
   "outputs": [],
   "source": [
    "%autoreload 2"
   ]
  },
  {
   "cell_type": "code",
   "execution_count": 4,
   "id": "ad180d4f",
   "metadata": {},
   "outputs": [],
   "source": [
    "from pathlib import Path\n",
    "\n",
    "from cycler import cycler\n",
    "\n",
    "import matplotlib.pyplot as plt\n",
    "from matplotlib.collections import PatchCollection\n",
    "import matplotlib.cm as mcm\n",
    "import matplotlib.colors as mcolors\n",
    "import matplotlib.dates as mdates\n",
    "import matplotlib.lines as mlines\n",
    "import matplotlib.patches as mpatches\n",
    "\n",
    "from matplotlib import rcParams\n",
    "\n",
    "import numpy as np\n",
    "import pandas as pd\n",
    "import cmocean\n",
    "import shapely.geometry as sgeom\n",
    "import cartopy.crs as ccrs\n",
    "import cartopy.io.shapereader as shpreader\n",
    "import geopandas as gpd\n",
    "import themepy\n",
    "\n",
    "import intro_plots as ip\n",
    "paper_path = Path('../../paper/figures/')\n",
    "\n",
    "slide_path = Path('../../slides/figures/intro/')\n",
    "proposal_path = Path('../../draft/figures/intro/')\n",
    "\n",
    "proposal_path = Path('../draft/figures/math/')\n",
    "\n",
    "theme = themepy.Theme('paper')\n",
    "rcParams['font.family'] = 'dejavu sans'\n",
    "rcParams['figure.dpi'] = 200"
   ]
  },
  {
   "cell_type": "code",
   "execution_count": 5,
   "id": "e7152040",
   "metadata": {},
   "outputs": [],
   "source": [
    "ny_all = pd.read_csv(\"nydata\")\n",
    "\n",
    "ny = ny_all[ny_all['NAME'].isin(ip.cdict.keys())].copy().fillna(0)\n",
    "\n",
    "ny['DATES'] = pd.to_datetime(ny['DATE'])\n",
    "\n",
    "ny['TEMP (°F)'] = ny['TAVG'].apply(lambda x: f\"{x:2.2f}\")\n",
    "ny['PRCP (in.)'] = ny['PRCPI'].apply(lambda x: f\"{x:1.4f}\")    "
   ]
  },
  {
   "cell_type": "code",
   "execution_count": 6,
   "id": "3b6ffbee",
   "metadata": {},
   "outputs": [
    {
     "data": {
      "text/html": [
       "<div>\n",
       "<style scoped>\n",
       "    .dataframe tbody tr th:only-of-type {\n",
       "        vertical-align: middle;\n",
       "    }\n",
       "\n",
       "    .dataframe tbody tr th {\n",
       "        vertical-align: top;\n",
       "    }\n",
       "\n",
       "    .dataframe thead th {\n",
       "        text-align: right;\n",
       "    }\n",
       "</style>\n",
       "<table border=\"1\" class=\"dataframe\">\n",
       "  <thead>\n",
       "    <tr style=\"text-align: right;\">\n",
       "      <th></th>\n",
       "      <th>NAME</th>\n",
       "      <th>TEMP (°F)</th>\n",
       "      <th>PRCP (in.)</th>\n",
       "    </tr>\n",
       "  </thead>\n",
       "  <tbody>\n",
       "    <tr>\n",
       "      <th>28243</th>\n",
       "      <td>NEW YORK LAGUARDIA AP</td>\n",
       "      <td>61.00</td>\n",
       "      <td>0.4685</td>\n",
       "    </tr>\n",
       "    <tr>\n",
       "      <th>3989</th>\n",
       "      <td>BINGHAMTON</td>\n",
       "      <td>-12.00</td>\n",
       "      <td>0.0315</td>\n",
       "    </tr>\n",
       "    <tr>\n",
       "      <th>28121</th>\n",
       "      <td>NEW YORK JFK INTL AP</td>\n",
       "      <td>49.00</td>\n",
       "      <td>0.7402</td>\n",
       "    </tr>\n",
       "    <tr>\n",
       "      <th>19907</th>\n",
       "      <td>ISLIP LI MACARTHUR AP</td>\n",
       "      <td>11.00</td>\n",
       "      <td>0.0709</td>\n",
       "    </tr>\n",
       "    <tr>\n",
       "      <th>41646</th>\n",
       "      <td>SYRACUSE HANCOCK INTL AP</td>\n",
       "      <td>13.00</td>\n",
       "      <td>0.0118</td>\n",
       "    </tr>\n",
       "  </tbody>\n",
       "</table>\n",
       "</div>"
      ],
      "text/plain": [
       "                           NAME TEMP (°F) PRCP (in.)\n",
       "28243     NEW YORK LAGUARDIA AP     61.00     0.4685\n",
       "3989                 BINGHAMTON    -12.00     0.0315\n",
       "28121      NEW YORK JFK INTL AP     49.00     0.7402\n",
       "19907     ISLIP LI MACARTHUR AP     11.00     0.0709\n",
       "41646  SYRACUSE HANCOCK INTL AP     13.00     0.0118"
      ]
     },
     "execution_count": 6,
     "metadata": {},
     "output_type": "execute_result"
    }
   ],
   "source": [
    "sample = ny[['NAME', 'TEMP (°F)','PRCP (in.)']][ny['PRCPI']>0].sample(frac=1, random_state=12892).head(5)\n",
    "sample"
   ]
  },
  {
   "cell_type": "code",
   "execution_count": 7,
   "id": "029ea437",
   "metadata": {},
   "outputs": [
    {
     "name": "stderr",
     "output_type": "stream",
     "text": [
      "C:\\Users\\story\\Anaconda3\\envs\\mplrelease\\lib\\site-packages\\cartopy\\mpl\\geoaxes.py:387: MatplotlibDeprecationWarning: \n",
      "The 'inframe' parameter of draw() was deprecated in Matplotlib 3.3 and will be removed two minor releases later. Use Axes.redraw_in_frame() instead. If any parameter follows 'inframe', they should be passed as keyword, not positionally.\n",
      "  return matplotlib.axes.Axes.draw(self, renderer=renderer,\n"
     ]
    }
   ],
   "source": [
    "fig, axd = plt.subplot_mosaic([['table', 'function', 'image'], ['0D', '1D', '2D']], figsize=(15,6), facecolor='white')\n",
    "tab = ip.plot_table(axd['table'], sample, ccolors=['k']*3)\n",
    "fig.canvas.draw()\n",
    "x = np.linspace(-0.25, 1.25, 5)\n",
    "y=[.5]*5\n",
    "axd['0D'].set(xlim=(-0.5, 1.5), ylim=(.25, .75))\n",
    "\n",
    "oc = 'C4'\n",
    "\n",
    "for i, (sn, xi, yi) in enumerate(zip(sample['NAME'], x,y)):\n",
    "    xt, yt = ip.source_cell(tab[i+1,0],'k', xr=(i/10)+.5)\n",
    "    station = tab[(i+1,0)].get_text().get_text()\n",
    "    for c in range(3):\n",
    "        tab[(i+1,c)].set_facecolor(ip.cdict[station])\n",
    "        tab[(i+1,c)].set_alpha(.25)\n",
    "        tab[(i+1,c)].get_text().set_color(\"black\")\n",
    "    ar = mpatches.ConnectionPatch(xyA=(xt,yt), coordsA=axd['table'].transData,\n",
    "                      xyB=(xi,yi), coordsB=axd['0D'].transData,  arrowstyle=\"-|>\",\n",
    "                                  mutation_scale=10, connectionstyle=\"arc3,rad=0\",\n",
    "                                 linestyle=':', color=ip.cdict[station], lw=3)\n",
    "    #fig.add_artist(ar)\n",
    "    axd['0D'].scatter(xi,yi, s=1000, color=mcolors.to_rgba(ip.cdict[station], alpha=.5), edgecolor='C0', lw=2)\n",
    "    \n",
    "\n",
    "axd['function'].text(0.5, 0.5, r'$f(x)=\\frac{1}{\\sigma\\sqrt{2\\pi}}e^{-\\frac{(x-\\mu)^2}{\\sigma^2}}$', transform=axd['function'].transAxes, fontsize=30, ha='center', va='center')\n",
    "x = np.linspace(-5,5,10000)\n",
    "y = lambda x: (1/np.sqrt(2*np.pi))*np.e**(-x**2/2)\n",
    "axd['function'].plot(x, y(x), alpha=.25, lw=10, color='C2')\n",
    "axd['1D'].plot([-5,5], [.5, .5], color='C0', lw=10)\n",
    "axd['1D'].set(xlim=(-5, 5), ylim=(.25, .75))\n",
    "axd['function'].set(xlim=(-5,5))\n",
    "\n",
    "af = mpatches.ConnectionPatch(xyA=(0,0), coordsA=axd['function'].transData, xyB=(0, .5), coordsB=axd['1D'].transData,\n",
    "                              arrowstyle='simple', mutation_scale=150, mutation_aspect=.9, facecolor=mcolors.to_rgba('C0', .25), edgecolor='C0', lw=4)\n",
    "#fig.add_artist(af)\n",
    "\n",
    "\n",
    "axd['image'] =  plt.subplot(2,3,3, projection=ccrs.Robinson())\n",
    "axd['image'].stock_img()\n",
    "axd['image'].coastlines()\n",
    "\n",
    "r = mpatches.Rectangle((.25,.25), .5, .5)\n",
    "axd['2D'].add_artist(r)\n",
    "\n",
    "x0, x1, _, _ = axd['image'].get_extent()\n",
    "\n",
    "al = mpatches.ConnectionPatch(xyA=(x0, 0), coordsA=axd['image'].transData, xyB=(.25, .5), coordsB=axd['2D'].transData,\n",
    "                              arrowstyle='-',linestyle=':', edgecolor='C0', lw=3, zorder=-1)\n",
    "#fig.add_artist(al)\n",
    "ar = mpatches.ConnectionPatch(xyA=(x1, 0), coordsA=axd['image'].transData, xyB=(.75, .5), coordsB=axd['2D'].transData,\n",
    "                              arrowstyle='-', linestyle=':', edgecolor='C0', lw=3, zorder=-1)\n",
    "#fig.add_artist(ar)\n",
    "#axd['2D'].set_aspect('equal')\n",
    "for ax in axd.values():\n",
    "    ax.axis('off')\n",
    "    ax.set_facecolor('white')\n",
    "\n",
    "\n",
    "for (n, l) in [('0D', 'a'), ('1D', 'b'), ('2D', 'c')]:\n",
    "    axd[n].set_title(f\"({l})\", fontsize='x-large', y=0)\n",
    "    \n",
    "fig.savefig(proposal_path/'k_different_types', bbox_inches='tight', facecolor='white', dpi=200)"
   ]
  },
  {
   "cell_type": "code",
   "execution_count": null,
   "id": "cc2f1576",
   "metadata": {},
   "outputs": [],
   "source": [
    "axd['image'].get_extent()"
   ]
  },
  {
   "cell_type": "code",
   "execution_count": null,
   "id": "2c69a29b",
   "metadata": {},
   "outputs": [],
   "source": []
  }
 ],
 "metadata": {
  "kernelspec": {
   "display_name": "Python [conda env:prop] *",
   "language": "python",
   "name": "conda-env-prop-py"
  },
  "language_info": {
   "codemirror_mode": {
    "name": "ipython",
    "version": 3
   },
   "file_extension": ".py",
   "mimetype": "text/x-python",
   "name": "python",
   "nbconvert_exporter": "python",
   "pygments_lexer": "ipython3",
   "version": "3.8.10"
  }
 },
 "nbformat": 4,
 "nbformat_minor": 5
}
