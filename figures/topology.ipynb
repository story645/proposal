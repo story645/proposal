{
 "cells": [
  {
   "cell_type": "code",
   "execution_count": 1,
   "id": "3b665b6a",
   "metadata": {},
   "outputs": [],
   "source": [
    "%matplotlib inline"
   ]
  },
  {
   "cell_type": "code",
   "execution_count": 2,
   "id": "5388fb58",
   "metadata": {},
   "outputs": [],
   "source": [
    "%load_ext autoreload"
   ]
  },
  {
   "cell_type": "code",
   "execution_count": 3,
   "id": "46cc9fa5",
   "metadata": {},
   "outputs": [],
   "source": [
    "%autoreload 2"
   ]
  },
  {
   "cell_type": "code",
   "execution_count": 9,
   "id": "f89b5b10",
   "metadata": {},
   "outputs": [
    {
     "ename": "SyntaxError",
     "evalue": "invalid syntax (<ipython-input-9-26ef6691366c>, line 22)",
     "output_type": "error",
     "traceback": [
      "\u001b[1;36m  File \u001b[1;32m\"<ipython-input-9-26ef6691366c>\"\u001b[1;36m, line \u001b[1;32m22\u001b[0m\n\u001b[1;33m    from .. import intro.intro_plots as ip\u001b[0m\n\u001b[1;37m                        ^\u001b[0m\n\u001b[1;31mSyntaxError\u001b[0m\u001b[1;31m:\u001b[0m invalid syntax\n"
     ]
    }
   ],
   "source": [
    "from pathlib import Path\n",
    "\n",
    "from cycler import cycler\n",
    "\n",
    "import matplotlib.pyplot as plt\n",
    "from matplotlib.collections import PatchCollection\n",
    "import matplotlib.cm as mcm\n",
    "import matplotlib.colors as mcolors\n",
    "import matplotlib.dates as mdates\n",
    "import matplotlib.lines as mlines\n",
    "import matplotlib.patches as mpatches\n",
    "\n",
    "from matplotlib import rcParams\n",
    "\n",
    "import numpy as np\n",
    "import pandas as pd\n",
    "import cmocean\n",
    "import shapely.geometry as sgeom\n",
    "import cartopy.crs as ccrs\n",
    "import cartopy.io.shapereader as shpreader\n",
    "import geopandas as gpd\n",
    "from .. import intro.intro_plots as ip\n",
    "\n",
    "paper_path = Path('../../paper/figures/')\n",
    "\n",
    "slide_path = Path('../../slides/figures/intro/')\n",
    "proposal_path = Path('../../draft/figures/intro/')\n",
    "\n",
    "proposal_path = Path('../../../draft/figures/math/')\n",
    "\n",
    "theme = themepy.Theme('paper')\n",
    "rcParams['font.family'] = 'Segoe Print'\n"
   ]
  },
  {
   "cell_type": "code",
   "execution_count": null,
   "id": "e2c857ca",
   "metadata": {},
   "outputs": [],
   "source": [
    "fig, axd = plt."
   ]
  }
 ],
 "metadata": {
  "kernelspec": {
   "display_name": "Python 3.7.4 64-bit ('mplrelease': conda)",
   "language": "python",
   "name": "python37464bitmplreleaseconda953a5d05f1cf4d5db783b13a33a22e5d"
  },
  "language_info": {
   "codemirror_mode": {
    "name": "ipython",
    "version": 3
   },
   "file_extension": ".py",
   "mimetype": "text/x-python",
   "name": "python",
   "nbconvert_exporter": "python",
   "pygments_lexer": "ipython3",
   "version": "3.8.8"
  }
 },
 "nbformat": 4,
 "nbformat_minor": 5
}
