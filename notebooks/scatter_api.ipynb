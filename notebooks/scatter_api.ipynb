{
 "cells": [
  {
   "cell_type": "code",
   "execution_count": 2,
   "metadata": {},
   "outputs": [],
   "source": [
    "import numpy as np"
   ]
  },
  {
   "cell_type": "code",
<<<<<<< HEAD
   "execution_count": 3,
=======
   "execution_count": 2,
>>>>>>> de63d82f22da05f71dbc51ef3bb954405147e67c
   "metadata": {},
   "outputs": [],
   "source": [
    "a = np.array(['help', 1, 2, \"con\"], dtype=object)"
   ]
  },
  {
   "cell_type": "code",
<<<<<<< HEAD
   "execution_count": 4,
=======
   "execution_count": 3,
>>>>>>> de63d82f22da05f71dbc51ef3bb954405147e67c
   "metadata": {},
   "outputs": [
    {
     "data": {
      "text/plain": [
       "dtype('O')"
      ]
     },
<<<<<<< HEAD
     "execution_count": 4,
=======
     "execution_count": 3,
>>>>>>> de63d82f22da05f71dbc51ef3bb954405147e67c
     "metadata": {},
     "output_type": "execute_result"
    }
   ],
   "source": [
    "a.dtype"
   ]
  },
  {
   "cell_type": "code",
<<<<<<< HEAD
   "execution_count": 5,
=======
   "execution_count": 4,
>>>>>>> de63d82f22da05f71dbc51ef3bb954405147e67c
   "metadata": {},
   "outputs": [],
   "source": [
    "import matplotlib.pyplot as plt"
   ]
  },
  {
   "cell_type": "code",
<<<<<<< HEAD
   "execution_count": 6,
=======
   "execution_count": 5,
>>>>>>> de63d82f22da05f71dbc51ef3bb954405147e67c
   "metadata": {},
   "outputs": [],
   "source": [
    "%matplotlib inline"
   ]
  },
  {
   "cell_type": "code",
<<<<<<< HEAD
   "execution_count": 10,
=======
   "execution_count": 7,
>>>>>>> de63d82f22da05f71dbc51ef3bb954405147e67c
   "metadata": {},
   "outputs": [
    {
     "data": {
      "text/plain": [
<<<<<<< HEAD
       "<matplotlib.legend.Legend at 0x7f9cd5168748>"
      ]
     },
     "execution_count": 10,
=======
       "<matplotlib.legend.Legend at 0x7fde883d8c88>"
      ]
     },
     "execution_count": 7,
>>>>>>> de63d82f22da05f71dbc51ef3bb954405147e67c
     "metadata": {},
     "output_type": "execute_result"
    },
    {
     "data": {
<<<<<<< HEAD
      "image/png": "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\n",
=======
      "image/png": "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\n",
>>>>>>> de63d82f22da05f71dbc51ef3bb954405147e67c
      "text/plain": [
       "<Figure size 432x288 with 1 Axes>"
      ]
     },
     "metadata": {
      "needs_background": "light"
     },
     "output_type": "display_data"
    }
   ],
   "source": [
    "fig, ax = plt.subplots()\n",
<<<<<<< HEAD
    "sc = ax.scatter(['a', 'b', 'c', 'a'], [1,2,3,5], s = [2, 5, 2, 5], c=[1, 0, 1,0])\n",
    "#plt.legend(['1', '0'])\n",
    "handles, labels = sc.legend_elements()\n",
    "ax.legend(handles, labels)"
=======
    "scatter = ax.scatter(['a', 'b', 'c', 'a'], [1,2,3,5], s = [25, 50, 20, 25], c=[1, 0, 1,0])\n",
    "ax.legend(*scatter.legend_elements(prop=\"colors\", alpha=0.6))"
>>>>>>> de63d82f22da05f71dbc51ef3bb954405147e67c
   ]
  },
  {
   "cell_type": "code",
   "execution_count": null,
   "metadata": {},
   "outputs": [],
   "source": [
    "#proposed \n",
    "fig, ax = plt.subplots()\n",
    "sc = ax.scatter(['a', 'b', 'c', 'a'], [1,2,3,5], s = [2, 5, 2, 5], c=[1, 0, 1,0])\n",
    "#plt.legend(['1', '0'])\n",
    "handles, labels = sc.legend_elements()\n",
    "ax.[name]_legend(handles, labels)"
   ]
  }
 ],
 "metadata": {
  "kernelspec": {
   "display_name": "Python 3",
   "language": "python",
   "name": "python3"
  },
  "language_info": {
   "codemirror_mode": {
    "name": "ipython",
    "version": 3
   },
   "file_extension": ".py",
   "mimetype": "text/x-python",
   "name": "python",
   "nbconvert_exporter": "python",
   "pygments_lexer": "ipython3",
   "version": "3.6.8"
  }
 },
 "nbformat": 4,
 "nbformat_minor": 2
}
