{
 "cells": [
  {
   "cell_type": "code",
   "execution_count": null,
   "metadata": {},
   "outputs": [],
   "source": [
    "%matplotlib widget\n",
    "\n",
    "import matplotlib.pyplot as plt\n",
    "import pandas as pd\n",
    "import scipy.stats as st\n",
    "import numpy as np"
   ]
  },
  {
   "cell_type": "code",
   "execution_count": 2,
   "metadata": {},
   "outputs": [],
   "source": [
    "%reload_ext autoreload\n",
    "%autoreload 2\n",
    "\n",
    "import dataframe_datasource as dfs\n",
    "import artist_prototypes as ap"
   ]
  },
  {
   "cell_type": "code",
   "execution_count": 31,
   "metadata": {},
   "outputs": [],
   "source": [
    "S = 100\n",
    "df = pd.DataFrame({'uniform': st.uniform.rvs(size=S), \n",
    "                   'normal': st.norm.rvs(size=S), \n",
    "                   'poisson': st.poisson.rvs(0.6, size=S),\n",
    "                   'beta': st.beta.rvs(5, 10, size=S)})\n",
    "dsf = dfs.DataSourceDataFrame(df, dependent='uniform', \n",
    "                              independent='poisson')"
   ]
  },
  {
   "cell_type": "code",
   "execution_count": 35,
   "metadata": {},
   "outputs": [
    {
     "data": {
      "application/vnd.jupyter.widget-view+json": {
       "model_id": "86a52f5af76c4a3f82f547f9caf8a191",
       "version_major": 2,
       "version_minor": 0
      },
      "text/plain": [
       "Canvas(toolbar=Toolbar(toolitems=[('Home', 'Reset original view', 'home', 'home'), ('Back', 'Back to previous …"
      ]
     },
     "metadata": {},
     "output_type": "display_data"
    }
   ],
   "source": [
    "fig, axd = plt.subplot_mosaic([[\"histx\", \".\"],[\"scat\", \"histy\"]], \n",
    "                                 gridspec_kw={'width_ratios': [7,2], 'height_ratios':[2,7]},\n",
    "                                 constrained_layout=True, figsize=(5,5))\n",
    "\n",
    "sc = ap.Scatter(dsf)\n",
    "axd['scat'].add_artist(sc)\n",
    "hx = ap.Hist1D(dsf, column=dsf.dependent)\n",
    "axd['histx'].add_artist(hx)\n",
    "hy = ap.Hist1D(dsf, column = dsf.independent, orientation='horizontal')\n",
    "axd['histy'].add_artist(hy)\n",
    "#ax.set_xlim(-1, 10)\n",
    "#ax.set_ylim(-1, 13)\n",
    "axd['scat'].set_aspect('equal')\n",
    "axd['scat'].set(xlim=(-.5, 1.5), ylim=(-.5, 1.5))\n",
    "axd['histx'].set_ylim(0,30)\n",
    "axd['histy'].set_xlim(0,45)\n",
    "\n",
    "axd['histx'].sharex(axd['scat'])\n",
    "axd['histy'].sharey(axd['scat'])"
   ]
  },
  {
   "cell_type": "code",
   "execution_count": 34,
   "metadata": {},
   "outputs": [],
   "source": [
    "dsf.dependent = 'normal'\n",
    "fig.canvas.draw_idle()"
   ]
  },
  {
   "cell_type": "code",
   "execution_count": 36,
   "metadata": {},
   "outputs": [
    {
     "data": {
      "text/plain": [
       "'normal'"
      ]
     },
     "execution_count": 36,
     "metadata": {},
     "output_type": "execute_result"
    }
   ],
   "source": [
    "dsf.independent"
   ]
  },
  {
   "cell_type": "code",
   "execution_count": null,
   "metadata": {},
   "outputs": [],
   "source": []
  }
 ],
 "metadata": {
  "kernelspec": {
   "display_name": "Python 3.7.4 64-bit ('mplrelease': conda)",
   "language": "python",
   "name": "python37464bitmplreleaseconda953a5d05f1cf4d5db783b13a33a22e5d"
  },
  "language_info": {
   "codemirror_mode": {
    "name": "ipython",
    "version": 3
   },
   "file_extension": ".py",
   "mimetype": "text/x-python",
   "name": "python",
   "nbconvert_exporter": "python",
   "pygments_lexer": "ipython3",
   "version": "3.8.3"
  }
 },
 "nbformat": 4,
 "nbformat_minor": 4
}
