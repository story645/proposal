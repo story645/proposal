{
 "cells": [
  {
   "cell_type": "code",
   "execution_count": 1,
   "metadata": {},
   "outputs": [
    {
     "name": "stdout",
     "output_type": "stream",
     "text": [
      "0.5.6\n",
      "3.3.0rc1\n"
     ]
    }
   ],
   "source": [
    "%matplotlib widget\n",
    "import ipympl\n",
    "import numpy as np\n",
    "print(ipympl.__version__)\n",
    "import matplotlib\n",
    "print(matplotlib.__version__)\n",
    "\n",
    "import matplotlib.pyplot as plt\n",
    "import matplotlib.path as mpath\n",
    "import matplotlib.patches as mpatches"
   ]
  },
  {
   "cell_type": "code",
   "execution_count": 2,
   "metadata": {},
   "outputs": [],
   "source": [
    "arr = np.tile(np.arange(13),10).reshape(10,13)"
   ]
  },
  {
   "cell_type": "code",
   "execution_count": 3,
   "metadata": {},
   "outputs": [
    {
     "data": {
      "text/plain": [
       "array([[ 0,  1,  2,  3,  4,  5,  6,  7,  8,  9, 10, 11, 12],\n",
       "       [ 0,  1,  2,  3,  4,  5,  6,  7,  8,  9, 10, 11, 12],\n",
       "       [ 0,  1,  2,  3,  4,  5,  6,  7,  8,  9, 10, 11, 12],\n",
       "       [ 0,  1,  2,  3,  4,  5,  6,  7,  8,  9, 10, 11, 12],\n",
       "       [ 0,  1,  2,  3,  4,  5,  6,  7,  8,  9, 10, 11, 12],\n",
       "       [ 0,  1,  2,  3,  4,  5,  6,  7,  8,  9, 10, 11, 12],\n",
       "       [ 0,  1,  2,  3,  4,  5,  6,  7,  8,  9, 10, 11, 12],\n",
       "       [ 0,  1,  2,  3,  4,  5,  6,  7,  8,  9, 10, 11, 12],\n",
       "       [ 0,  1,  2,  3,  4,  5,  6,  7,  8,  9, 10, 11, 12],\n",
       "       [ 0,  1,  2,  3,  4,  5,  6,  7,  8,  9, 10, 11, 12]])"
      ]
     },
     "execution_count": 3,
     "metadata": {},
     "output_type": "execute_result"
    }
   ],
   "source": [
    "arr"
   ]
  },
  {
   "cell_type": "code",
   "execution_count": 4,
   "metadata": {},
   "outputs": [
    {
     "data": {
      "application/vnd.jupyter.widget-view+json": {
       "model_id": "af4dd585b6994a5eb7fde53375fd1a7b",
       "version_major": 2,
       "version_minor": 0
      },
      "text/plain": [
       "Canvas(toolbar=Toolbar(toolitems=[('Home', 'Reset original view', 'home', 'home'), ('Back', 'Back to previous …"
      ]
     },
     "metadata": {},
     "output_type": "display_data"
    },
    {
     "data": {
      "text/plain": [
       "<matplotlib.colorbar.Colorbar at 0x1d08a186160>"
      ]
     },
     "execution_count": 4,
     "metadata": {},
     "output_type": "execute_result"
    }
   ],
   "source": [
    "layout = [['image', 'lines'], \n",
    "          ['gbar', 'sbar']]\n",
    "fig,  axes = plt.subplot_mosaic(layout, figsize=(4, 4), gridspec_kw={'width_ratios':[1,2]})\n",
    "\n",
    "im = axes['image'].imshow(arr, origin='lower')\n",
    "_ = axes['lines'].plot(arr) #rows are observations, columns variables\n",
    "for i, row in enumerate(arr):\n",
    "    _ = axes['gbar'].bar(np.arange(row.shape[0]) + (i/arr.shape[0]), row, \n",
    "                      width=(1/(arr.shape[0]))) \n",
    "    \n",
    "bottom = np.zeros(row.shape)\n",
    "for i, row in enumerate(arr):\n",
    "    _ = axes['sbar'].bar(np.arange(row.shape[0]), row, bottom=bottom)\n",
    "    bottom+=row\n",
    "    \n",
    "fig.colorbar(im, ax=axes['image'], fraction=.035)"
   ]
  },
  {
   "cell_type": "code",
   "execution_count": 5,
   "metadata": {},
   "outputs": [],
   "source": [
    "plt.close('all')"
   ]
  },
  {
   "cell_type": "code",
   "execution_count": 6,
   "metadata": {},
   "outputs": [],
   "source": [
    "%reload_ext autoreload\n",
    "%autoreload 2"
   ]
  },
  {
   "cell_type": "code",
   "execution_count": 10,
   "metadata": {},
   "outputs": [],
   "source": [
    "import array_datasource as da\n",
    "import artist_prototypes as ap"
   ]
  },
  {
   "cell_type": "code",
   "execution_count": null,
   "metadata": {},
   "outputs": [],
   "source": [
    "dsa = da.DataSourceArray(arr)"
   ]
  },
  {
   "cell_type": "code",
   "execution_count": null,
   "metadata": {},
   "outputs": [],
   "source": [
    "plt.close('all')\n",
    "\n",
    "layout = [['image', 'lines'], \n",
    "          ['gbar', 'sbar']]\n",
    "fig,  axes = plt.subplot_mosaic(layout, figsize=(4, 4), gridspec_kw={'width_ratios':[1,2]})\n",
    "\n",
    "im = ap.Image(axes['image'], dsa)\n",
    "axes['image'].add_image(im) #inside imshow\n",
    "axes['image'].set_aspect('equal') #inside imshow\n",
    "fig.colorbar(im, ax=axes['image'], fraction=.045)\n",
    "\n",
    "line = ap.Line(dsa)\n",
    "axes['lines'].add_artist(line)\n",
    "axes['lines'].set_xlim(0,dsa.data.shape[0]-1)\n",
    "axes['lines'].set_ylim(0,dsa.data.shape[1]-1)\n",
    "\n",
    "bars = ap.Bar(dsa)\n",
    "axes['gbar'].add_artist(bars)\n",
    "axes['gbar'].set_xlim(0,dsa.data.shape[0]-1)\n",
    "axes['gbar'].set_ylim(0,dsa.data.shape[1]-1)\n",
    "\n",
    "bars = ap.Bar(dsa, stacked=True)\n",
    "axes['sbar'].add_artist(bars)\n",
    "axes['sbar'].set_xlim(0,dsa.data.shape[0]-1)\n",
    "axes['sbar'].set_ylim(0, np.round(dsa.data.sum(axis=1).max(), -1))\n"
   ]
  },
  {
   "cell_type": "code",
   "execution_count": null,
   "metadata": {},
   "outputs": [],
   "source": [
    "dsa.data = arr.T\n",
    "np.random.shuffle(dsa.data)\n",
    "fig.canvas.draw_idle()"
   ]
  },
  {
   "cell_type": "code",
   "execution_count": null,
   "metadata": {},
   "outputs": [],
   "source": []
  }
 ],
 "metadata": {
  "kernelspec": {
   "display_name": "Python [conda env:mplrelease]",
   "language": "python",
   "name": "conda-env-mplrelease-py"
  },
  "language_info": {
   "codemirror_mode": {
    "name": "ipython",
    "version": 3
   },
   "file_extension": ".py",
   "mimetype": "text/x-python",
   "name": "python",
   "nbconvert_exporter": "python",
   "pygments_lexer": "ipython3",
   "version": "3.8.3"
  }
 },
 "nbformat": 4,
 "nbformat_minor": 4
}
