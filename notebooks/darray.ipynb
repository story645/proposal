{
 "cells": [
  {
   "cell_type": "code",
   "execution_count": 1,
   "metadata": {},
   "outputs": [
    {
     "name": "stdout",
     "output_type": "stream",
     "text": [
      "3.1.2\n"
     ]
    }
   ],
   "source": [
    "%matplotlib widget\n",
    "import numpy as np\n",
    "import matplotlib\n",
    "print(matplotlib.__version__)\n",
    "import matplotlib.pyplot as plt"
   ]
  },
  {
   "cell_type": "code",
   "execution_count": 2,
   "metadata": {},
   "outputs": [],
   "source": [
    "arr = np.tile(np.arange(13),10).reshape(10,13)"
   ]
  },
  {
   "cell_type": "code",
   "execution_count": 5,
   "metadata": {},
   "outputs": [
    {
     "data": {
      "application/vnd.jupyter.widget-view+json": {
       "model_id": "",
       "version_major": 2,
       "version_minor": 0
      },
      "text/plain": [
       "Canvas(toolbar=Toolbar(toolitems=[('Home', 'Reset original view', 'home', 'home'), ('Back', 'Back to previous …"
      ]
     },
     "metadata": {},
     "output_type": "display_data"
    },
    {
     "name": "stdout",
     "output_type": "stream",
     "text": [
      "[ 0.  1.  2.  3.  4.  5.  6.  7.  8.  9. 10. 11. 12.]\n",
      "[ 0.  2.  4.  6.  8. 10. 12. 14. 16. 18. 20. 22. 24.]\n",
      "[ 0.  3.  6.  9. 12. 15. 18. 21. 24. 27. 30. 33. 36.]\n",
      "[ 0.  4.  8. 12. 16. 20. 24. 28. 32. 36. 40. 44. 48.]\n",
      "[ 0.  5. 10. 15. 20. 25. 30. 35. 40. 45. 50. 55. 60.]\n",
      "[ 0.  6. 12. 18. 24. 30. 36. 42. 48. 54. 60. 66. 72.]\n",
      "[ 0.  7. 14. 21. 28. 35. 42. 49. 56. 63. 70. 77. 84.]\n",
      "[ 0.  8. 16. 24. 32. 40. 48. 56. 64. 72. 80. 88. 96.]\n",
      "[  0.   9.  18.  27.  36.  45.  54.  63.  72.  81.  90.  99. 108.]\n",
      "[  0.  10.  20.  30.  40.  50.  60.  70.  80.  90. 100. 110. 120.]\n"
     ]
    },
    {
     "data": {
      "text/plain": [
       "<matplotlib.colorbar.Colorbar at 0x7fc50e190df0>"
      ]
     },
     "execution_count": 5,
     "metadata": {},
     "output_type": "execute_result"
    }
   ],
   "source": [
    "fig,  axes = plt.subplots(ncols=2, nrows=2, figsize=(9,3), \n",
    "                               gridspec_kw={'width_ratios':[1,2]})\n",
    "im = axes[0,0].imshow(arr, origin='lower')\n",
    "_ = axes[0,1].plot(arr) #rows are observations, columns variables\n",
    "for i, row in enumerate(arr):\n",
    "    _ = axes[1,0].bar(np.arange(row.shape[0]) + (i/arr.shape[0]), row, \n",
    "                      width=(1/(arr.shape[0]))) \n",
    "    \n",
    "bottom = np.zeros(row.shape)\n",
    "for i, row in enumerate(arr):\n",
    "    _ = axes[1,1].bar(np.arange(row.shape[0]), row, bottom=bottom)\n",
    "    bottom+=row\n",
    "    print(bottom)\n",
    "    \n",
    "fig.colorbar(im, ax=axes[0,0], fraction=.035)"
   ]
  },
  {
   "cell_type": "code",
   "execution_count": 6,
   "metadata": {},
   "outputs": [],
   "source": [
    "%reload_ext autoreload\n",
    "%autoreload 2"
   ]
  },
  {
   "cell_type": "code",
   "execution_count": 7,
   "metadata": {},
   "outputs": [],
   "source": [
    "plt.close('all')"
   ]
  },
  {
   "cell_type": "code",
   "execution_count": 8,
   "metadata": {},
   "outputs": [],
   "source": [
    "import darray"
   ]
  },
  {
   "cell_type": "code",
   "execution_count": 9,
   "metadata": {},
   "outputs": [],
   "source": [
    "dsa = darray.DataSourceArray(arr)"
   ]
  },
  {
   "cell_type": "code",
   "execution_count": 11,
   "metadata": {},
   "outputs": [
    {
     "data": {
      "application/vnd.jupyter.widget-view+json": {
       "model_id": "2440498954d64ceb84ff2bd385c21b1b",
       "version_major": 2,
       "version_minor": 0
      },
      "text/plain": [
       "Canvas(toolbar=Toolbar(toolitems=[('Home', 'Reset original view', 'home', 'home'), ('Back', 'Back to previous …"
      ]
     },
     "metadata": {},
     "output_type": "display_data"
    },
    {
     "data": {
      "text/plain": [
       "<matplotlib.colorbar.Colorbar at 0x7fc50da561f0>"
      ]
     },
     "execution_count": 11,
     "metadata": {},
     "output_type": "execute_result"
    }
   ],
   "source": [
    "plt.close('all')\n",
    "fig,  axes = plt.subplots(ncols=2, nrows=2, figsize=(9,3), \n",
    "                               gridspec_kw={'width_ratios':[1,2]})\n",
    "im = darray.ArrayImage(axes[0,0], dsa)\n",
    "axes[0,0].add_image(im) #inside imshow\n",
    "axes[0,0].set_aspect('equal') #inside imshow\n",
    "line = darray.ArrayLine(dsa)\n",
    "axes[0,1].add_artist(line)\n",
    "\n",
    "axes[0,1].set_xlim(-.5,14)\n",
    "axes[0,1].set_ylim(-.5,12)\n",
    "\n",
    "#bars = darray.ArrayBar(dsa)\n",
    "#axes[1,0].add_artist(bars)\n",
    "fig.colorbar(im, ax=axes[0,0], fraction=.045)"
   ]
  },
  {
   "cell_type": "code",
   "execution_count": 14,
   "metadata": {},
   "outputs": [],
   "source": [
    "dsa.data = arr.T\n",
    "np.random.shuffle(dsa.data)\n",
    "fig.canvas.draw_idle()"
   ]
  },
  {
   "cell_type": "code",
   "execution_count": null,
   "metadata": {},
   "outputs": [],
   "source": [
    "plt.close('all')"
   ]
  },
  {
   "cell_type": "code",
   "execution_count": 141,
   "metadata": {},
   "outputs": [],
   "source": [
    "q = dsa.projectLine2D(None)"
   ]
  },
  {
   "cell_type": "code",
   "execution_count": 149,
   "metadata": {},
   "outputs": [
    {
     "data": {
      "text/plain": [
       "[array([[0, 0],\n",
       "        [1, 0],\n",
       "        [2, 0],\n",
       "        [3, 0],\n",
       "        [4, 0],\n",
       "        [5, 0],\n",
       "        [6, 0],\n",
       "        [7, 0],\n",
       "        [8, 0],\n",
       "        [9, 0]]), array([[0, 1],\n",
       "        [1, 1],\n",
       "        [2, 1],\n",
       "        [3, 1],\n",
       "        [4, 1],\n",
       "        [5, 1],\n",
       "        [6, 1],\n",
       "        [7, 1],\n",
       "        [8, 1],\n",
       "        [9, 1]]), array([[0, 2],\n",
       "        [1, 2],\n",
       "        [2, 2],\n",
       "        [3, 2],\n",
       "        [4, 2],\n",
       "        [5, 2],\n",
       "        [6, 2],\n",
       "        [7, 2],\n",
       "        [8, 2],\n",
       "        [9, 2]]), array([[0, 3],\n",
       "        [1, 3],\n",
       "        [2, 3],\n",
       "        [3, 3],\n",
       "        [4, 3],\n",
       "        [5, 3],\n",
       "        [6, 3],\n",
       "        [7, 3],\n",
       "        [8, 3],\n",
       "        [9, 3]]), array([[0, 4],\n",
       "        [1, 4],\n",
       "        [2, 4],\n",
       "        [3, 4],\n",
       "        [4, 4],\n",
       "        [5, 4],\n",
       "        [6, 4],\n",
       "        [7, 4],\n",
       "        [8, 4],\n",
       "        [9, 4]]), array([[0, 5],\n",
       "        [1, 5],\n",
       "        [2, 5],\n",
       "        [3, 5],\n",
       "        [4, 5],\n",
       "        [5, 5],\n",
       "        [6, 5],\n",
       "        [7, 5],\n",
       "        [8, 5],\n",
       "        [9, 5]]), array([[0, 6],\n",
       "        [1, 6],\n",
       "        [2, 6],\n",
       "        [3, 6],\n",
       "        [4, 6],\n",
       "        [5, 6],\n",
       "        [6, 6],\n",
       "        [7, 6],\n",
       "        [8, 6],\n",
       "        [9, 6]]), array([[0, 7],\n",
       "        [1, 7],\n",
       "        [2, 7],\n",
       "        [3, 7],\n",
       "        [4, 7],\n",
       "        [5, 7],\n",
       "        [6, 7],\n",
       "        [7, 7],\n",
       "        [8, 7],\n",
       "        [9, 7]]), array([[0, 8],\n",
       "        [1, 8],\n",
       "        [2, 8],\n",
       "        [3, 8],\n",
       "        [4, 8],\n",
       "        [5, 8],\n",
       "        [6, 8],\n",
       "        [7, 8],\n",
       "        [8, 8],\n",
       "        [9, 8]]), array([[0, 9],\n",
       "        [1, 9],\n",
       "        [2, 9],\n",
       "        [3, 9],\n",
       "        [4, 9],\n",
       "        [5, 9],\n",
       "        [6, 9],\n",
       "        [7, 9],\n",
       "        [8, 9],\n",
       "        [9, 9]]), array([[ 0, 10],\n",
       "        [ 1, 10],\n",
       "        [ 2, 10],\n",
       "        [ 3, 10],\n",
       "        [ 4, 10],\n",
       "        [ 5, 10],\n",
       "        [ 6, 10],\n",
       "        [ 7, 10],\n",
       "        [ 8, 10],\n",
       "        [ 9, 10]]), array([[ 0, 11],\n",
       "        [ 1, 11],\n",
       "        [ 2, 11],\n",
       "        [ 3, 11],\n",
       "        [ 4, 11],\n",
       "        [ 5, 11],\n",
       "        [ 6, 11],\n",
       "        [ 7, 11],\n",
       "        [ 8, 11],\n",
       "        [ 9, 11]]), array([[ 0, 12],\n",
       "        [ 1, 12],\n",
       "        [ 2, 12],\n",
       "        [ 3, 12],\n",
       "        [ 4, 12],\n",
       "        [ 5, 12],\n",
       "        [ 6, 12],\n",
       "        [ 7, 12],\n",
       "        [ 8, 12],\n",
       "        [ 9, 12]])]"
      ]
     },
     "execution_count": 149,
     "metadata": {},
     "output_type": "execute_result"
    }
   ],
   "source": [
    "[np.vstack([x,y]).T for x,y in zip(q.x, q.y)]"
   ]
  },
  {
   "cell_type": "code",
   "execution_count": null,
   "metadata": {},
   "outputs": [],
   "source": []
  }
 ],
 "metadata": {
  "kernelspec": {
   "display_name": "Python 3",
   "language": "python",
   "name": "python3"
  },
  "language_info": {
   "codemirror_mode": {
    "name": "ipython",
    "version": 3
   },
   "file_extension": ".py",
   "mimetype": "text/x-python",
   "name": "python",
   "nbconvert_exporter": "python",
   "pygments_lexer": "ipython3",
   "version": "3.8.1"
  }
 },
 "nbformat": 4,
 "nbformat_minor": 4
}
