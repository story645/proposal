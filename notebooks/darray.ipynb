{
 "cells": [
  {
   "cell_type": "code",
   "execution_count": 2,
   "metadata": {},
   "outputs": [
    {
     "name": "stdout",
     "output_type": "stream",
     "text": [
      "0.5.6\n",
      "3.2.1.post1910+g565ef667d\n"
     ]
    }
   ],
   "source": [
    "%matplotlib widget\n",
    "import ipympl\n",
    "import numpy as np\n",
    "print(ipympl.__version__)\n",
    "import matplotlib\n",
    "print(matplotlib.__version__)\n",
    "\n",
    "import matplotlib.pyplot as plt\n",
    "import matplotlib.path as mpath\n",
    "import matplotlib.patches as mpatches\n",
    "#%config InlineBackend.figure_format = 'retina'"
   ]
  },
  {
   "cell_type": "code",
   "execution_count": 3,
   "metadata": {},
   "outputs": [],
   "source": [
    "arr = np.tile(np.arange(13),10).reshape(10,13)"
   ]
  },
  {
   "cell_type": "code",
   "execution_count": 4,
   "metadata": {},
   "outputs": [
    {
     "data": {
      "text/plain": [
       "array([[ 0,  1,  2,  3,  4,  5,  6,  7,  8,  9, 10, 11, 12],\n",
       "       [ 0,  1,  2,  3,  4,  5,  6,  7,  8,  9, 10, 11, 12],\n",
       "       [ 0,  1,  2,  3,  4,  5,  6,  7,  8,  9, 10, 11, 12],\n",
       "       [ 0,  1,  2,  3,  4,  5,  6,  7,  8,  9, 10, 11, 12],\n",
       "       [ 0,  1,  2,  3,  4,  5,  6,  7,  8,  9, 10, 11, 12],\n",
       "       [ 0,  1,  2,  3,  4,  5,  6,  7,  8,  9, 10, 11, 12],\n",
       "       [ 0,  1,  2,  3,  4,  5,  6,  7,  8,  9, 10, 11, 12],\n",
       "       [ 0,  1,  2,  3,  4,  5,  6,  7,  8,  9, 10, 11, 12],\n",
       "       [ 0,  1,  2,  3,  4,  5,  6,  7,  8,  9, 10, 11, 12],\n",
       "       [ 0,  1,  2,  3,  4,  5,  6,  7,  8,  9, 10, 11, 12]])"
      ]
     },
     "execution_count": 4,
     "metadata": {},
     "output_type": "execute_result"
    }
   ],
   "source": [
    "arr"
   ]
  },
  {
   "cell_type": "code",
   "execution_count": 5,
   "metadata": {},
   "outputs": [
    {
     "data": {
      "application/vnd.jupyter.widget-view+json": {
       "model_id": "89a0cc9af3454e30bc1c3843894f9e12",
       "version_major": 2,
       "version_minor": 0
      },
      "text/plain": [
       "Canvas(toolbar=Toolbar(toolitems=[('Home', 'Reset original view', 'home', 'home'), ('Back', 'Back to previous …"
      ]
     },
     "metadata": {},
     "output_type": "display_data"
    },
    {
     "data": {
      "text/plain": [
       "<matplotlib.colorbar.Colorbar at 0x2b3d6831d00>"
      ]
     },
     "execution_count": 5,
     "metadata": {},
     "output_type": "execute_result"
    }
   ],
   "source": [
    "fig,  axes = plt.subplots(ncols=2, nrows=2,figsize=(4, 4),\n",
    "                               gridspec_kw={'width_ratios':[1,2]})\n",
    "im = axes[0,0].imshow(arr, origin='lower')\n",
    "_ = axes[0,1].plot(arr) #rows are observations, columns variables\n",
    "for i, row in enumerate(arr):\n",
    "    _ = axes[1,0].bar(np.arange(row.shape[0]) + (i/arr.shape[0]), row, \n",
    "                      width=(1/(arr.shape[0]))) \n",
    "    \n",
    "bottom = np.zeros(row.shape)\n",
    "for i, row in enumerate(arr):\n",
    "    _ = axes[1,1].bar(np.arange(row.shape[0]), row, bottom=bottom)\n",
    "    bottom+=row\n",
    "    \n",
    "fig.colorbar(im, ax=axes[0,0], fraction=.035)"
   ]
  },
  {
   "cell_type": "code",
   "execution_count": null,
   "metadata": {},
   "outputs": [],
   "source": [
    "plt.close('all')"
   ]
  },
  {
   "cell_type": "code",
   "execution_count": null,
   "metadata": {},
   "outputs": [],
   "source": [
    "%reload_ext autoreload\n",
    "%autoreload 2"
   ]
  },
  {
   "cell_type": "code",
   "execution_count": null,
   "metadata": {},
   "outputs": [],
   "source": [
    "import darray"
   ]
  },
  {
   "cell_type": "code",
   "execution_count": null,
   "metadata": {},
   "outputs": [],
   "source": [
    "dsa = darray.DataSourceArray(arr)"
   ]
  },
  {
   "cell_type": "code",
   "execution_count": null,
   "metadata": {},
   "outputs": [],
   "source": [
    "plt.close('all')\n",
    "fig,  axes = plt.subplots(ncols=2, nrows=2)\n",
    "im = darray.ArrayImage(axes[0,0], dsa)\n",
    "axes[0,0].add_image(im) #inside imshow\n",
    "axes[0,0].set_aspect('equal') #inside imshow\n",
    "line = darray.ArrayLine(dsa)\n",
    "axes[0,1].add_artist(line)\n",
    "\n",
    "axes[0,1].set_xlim(0,dsa.data.shape[0]-1)\n",
    "axes[0,1].set_ylim(0,dsa.data.shape[1]-1)\n",
    "\n",
    "bars = darray.ArrayBar(dsa)\n",
    "axes[1,0].add_artist(bars)\n",
    "axes[1,0].set_xlim(0,dsa.data.shape[0]-1)\n",
    "axes[1,0].set_ylim(0,dsa.data.shape[1]-1)\n",
    "\n",
    "bars = darray.ArrayBar(dsa, stacked=True)\n",
    "axes[1,1].add_artist(bars)\n",
    "axes[1,1].set_xlim(0,dsa.data.shape[0]-1)\n",
    "axes[1,1].set_ylim(0, np.round(dsa.data.sum(axis=1).max(), -1))\n",
    "fig.colorbar(im, ax=axes[0,0], fraction=.045)"
   ]
  },
  {
   "cell_type": "code",
   "execution_count": null,
   "metadata": {},
   "outputs": [],
   "source": [
    "#%debug\n",
    "bars.draw(fig.canvas.get_renderer())"
   ]
  },
  {
   "cell_type": "code",
   "execution_count": null,
   "metadata": {},
   "outputs": [],
   "source": [
    "dsa.data = arr.T\n",
    "np.random.shuffle(dsa.data)\n",
    "fig.canvas.draw_idle()"
   ]
  },
  {
   "cell_type": "code",
   "execution_count": null,
   "metadata": {},
   "outputs": [],
   "source": [
    "arr"
   ]
  },
  {
   "cell_type": "code",
   "execution_count": null,
   "metadata": {},
   "outputs": [],
   "source": [
    "plt.close('all')"
   ]
  },
  {
   "cell_type": "code",
   "execution_count": null,
   "metadata": {},
   "outputs": [],
   "source": [
    "np.zeros?"
   ]
  },
  {
   "cell_type": "code",
   "execution_count": null,
   "metadata": {},
   "outputs": [],
   "source": [
    "fig, ax = plt.subplots()\n",
    "path = mpath.Path([(9.923076923076923, 0.0), (9.923076923076923, 12.0), \n",
    "                   (9.984615384615385, 12.0), (9.984615384615385, 0.0),\n",
    "                  (9.923076923076923, 0.0)], closed=True\n",
    ")\n",
    "patch = mpatches.PathPatch(path)\n",
    "ax.add_patch(patch)\n",
    "ax.autoscale()"
   ]
  },
  {
   "cell_type": "code",
   "execution_count": null,
   "metadata": {},
   "outputs": [],
   "source": []
  }
 ],
 "metadata": {
  "kernelspec": {
   "display_name": "Python [conda env:mypl]",
   "language": "python",
   "name": "conda-env-mypl-py"
  },
  "language_info": {
   "codemirror_mode": {
    "name": "ipython",
    "version": 3
   },
   "file_extension": ".py",
   "mimetype": "text/x-python",
   "name": "python",
   "nbconvert_exporter": "python",
   "pygments_lexer": "ipython3",
   "version": "3.8.2"
  }
 },
 "nbformat": 4,
 "nbformat_minor": 4
}
