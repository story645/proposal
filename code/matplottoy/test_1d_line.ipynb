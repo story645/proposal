{
 "metadata": {
  "language_info": {
   "codemirror_mode": {
    "name": "ipython",
    "version": 3
   },
   "file_extension": ".py",
   "mimetype": "text/x-python",
   "name": "python",
   "nbconvert_exporter": "python",
   "pygments_lexer": "ipython3",
   "version": "3.8.5-final"
  },
  "orig_nbformat": 2,
  "kernelspec": {
   "name": "Python 3.8.5 64-bit ('mplrelease': conda)",
   "display_name": "Python 3.8.5 64-bit ('mplrelease': conda)",
   "metadata": {
    "interpreter": {
     "hash": "b093ed991850d196751d0067d1729730239ea6911752e65d7947096cb1752745"
    }
   }
  }
 },
 "nbformat": 4,
 "nbformat_minor": 2,
 "cells": [
  {
   "cell_type": "code",
   "execution_count": 1,
   "metadata": {},
   "outputs": [],
   "source": [
    "%load_ext autoreload"
   ]
  },
  {
   "cell_type": "code",
   "execution_count": 2,
   "metadata": {},
   "outputs": [],
   "source": [
    "%autoreload 2"
   ]
  },
  {
   "cell_type": "code",
   "execution_count": 48,
   "metadata": {},
   "outputs": [],
   "source": [
    "%matplotlib inline\n",
    "import matplotlib.pyplot as plt\n",
    "import data\n",
    "import channels\n",
    "import artists"
   ]
  },
  {
   "cell_type": "code",
   "execution_count": 49,
   "metadata": {},
   "outputs": [],
   "source": [
    "table = data.Edge()"
   ]
  },
  {
   "cell_type": "code",
   "execution_count": 50,
   "metadata": {},
   "outputs": [
    {
     "output_type": "execute_result",
     "data": {
      "text/plain": [
       "((0.0, 0.0),\n",
       " (1.5707963267948966, 1.5707963267948966),\n",
       " <function data.Edge.sigma.<locals>.<lambda>(x, y)>,\n",
       " 'red')"
      ]
     },
     "metadata": {},
     "execution_count": 50
    }
   ],
   "source": [
    "table.sigma(0)[1]"
   ]
  },
  {
   "cell_type": "code",
   "execution_count": 61,
   "metadata": {},
   "outputs": [
    {
     "output_type": "execute_result",
     "data": {
      "text/plain": [
       "defaultdict(list,\n",
       "            {'index': 3,\n",
       "             'edge': [<function data.Edge.sigma.<locals>.<lambda>(x, y)>,\n",
       "              <function data.Edge.sigma.<locals>.<lambda>(x, y)>,\n",
       "              <function data.Edge.sigma.<locals>.<lambda>(x, y)>,\n",
       "              <function data.Edge.sigma.<locals>.<lambda>(x, y)>],\n",
       "             'color': ['red', 'green', 'orange', 'blue']})"
      ]
     },
     "metadata": {},
     "execution_count": 61
    }
   ],
   "source": [
    "table.view(\"edges\")"
   ]
  },
  {
   "cell_type": "code",
   "execution_count": 53,
   "metadata": {},
   "outputs": [],
   "source": [
    "transforms = {'y': (['x','y'], channels.Position()),\n",
    "              'color': ('color', channels.IdentityColor())}"
   ]
  },
  {
   "cell_type": "code",
   "execution_count": 41,
   "metadata": {},
   "outputs": [],
   "source": [
    "fig, ax = plt.subplots()\n",
    "\n",
    "artist = artists.Line(table_1d, transforms_1d)\n",
    "ax.add_artist(artist)\n",
    "ax.set(xlim = (table_1d.FB.F[transforms_1d['x'][0]].min, \n",
    "               table_1d.FB.F[transforms_1d['x'][0]].max), \n",
    "       ylim = (table_1d.FB.F[transforms_1d['y'][0]].min, \n",
    "               table_1d.FB.F[transforms_1d['y'][0]].max),       \n",
    "       xlabel = transforms_1d['x'][0], \n",
    "       ylabel = transforms_1d['y'][0], \n",
    "       aspect='equal')\n"
   ]
  }
 ]
}