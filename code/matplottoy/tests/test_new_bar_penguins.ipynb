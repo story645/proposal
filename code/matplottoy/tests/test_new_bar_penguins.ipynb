{
 "cells": [
  {
   "cell_type": "code",
   "execution_count": 1,
   "metadata": {},
   "outputs": [],
   "source": [
    "%load_ext autoreload"
   ]
  },
  {
   "cell_type": "code",
   "execution_count": 2,
   "metadata": {},
   "outputs": [],
   "source": [
    "%autoreload 2"
   ]
  },
  {
   "cell_type": "code",
   "execution_count": 7,
   "metadata": {},
   "outputs": [],
   "source": [
    "%matplotlib inline\n",
    "from pathlib import Path\n",
    "import itertools\n",
    "\n",
    "import numpy as np\n",
    "import matplotlib.pyplot as plt\n",
    "from matplotlib import rcParams \n",
    "\n",
    "import seaborn as sns\n",
    "\n",
    "from palmerpenguins import load_penguins\n",
    "\n",
    "from matplottoy.data import iris\n",
    "from matplottoy.encoders import color, position\n",
    "from matplottoy.artists import point, bar, utils\n",
    "\n",
    "\n",
    "spath = Path(\"../../../draft/figures/code/\")\n",
    "rcParams['figure.dpi'] = 200"
   ]
  },
  {
   "cell_type": "code",
   "execution_count": 8,
   "metadata": {},
   "outputs": [],
   "source": [
    "penguins = load_penguins()"
   ]
  },
  {
   "cell_type": "code",
   "execution_count": 9,
   "metadata": {},
   "outputs": [
    {
     "data": {
      "text/plain": "{'species': dtype('O'),\n 'island': dtype('O'),\n 'bill_length_mm': dtype('float64'),\n 'bill_depth_mm': dtype('float64'),\n 'flipper_length_mm': dtype('float64'),\n 'body_mass_g': dtype('float64'),\n 'sex': dtype('O'),\n 'year': dtype('int64')}"
     },
     "execution_count": 9,
     "metadata": {},
     "output_type": "execute_result"
    }
   ],
   "source": [
    "dict(penguins.dtypes)"
   ]
  },
  {
   "cell_type": "code",
   "execution_count": 10,
   "metadata": {},
   "outputs": [
    {
     "data": {
      "text/html": "<div>\n<style scoped>\n    .dataframe tbody tr th:only-of-type {\n        vertical-align: middle;\n    }\n\n    .dataframe tbody tr th {\n        vertical-align: top;\n    }\n\n    .dataframe thead th {\n        text-align: right;\n    }\n</style>\n<table border=\"1\" class=\"dataframe\">\n  <thead>\n    <tr style=\"text-align: right;\">\n      <th></th>\n      <th>index</th>\n      <th>species</th>\n    </tr>\n  </thead>\n  <tbody>\n    <tr>\n      <th>0</th>\n      <td>Adelie</td>\n      <td>152</td>\n    </tr>\n    <tr>\n      <th>1</th>\n      <td>Gentoo</td>\n      <td>124</td>\n    </tr>\n    <tr>\n      <th>2</th>\n      <td>Chinstrap</td>\n      <td>68</td>\n    </tr>\n  </tbody>\n</table>\n</div>",
      "text/plain": "       index  species\n0     Adelie      152\n1     Gentoo      124\n2  Chinstrap       68"
     },
     "execution_count": 10,
     "metadata": {},
     "output_type": "execute_result"
    }
   ],
   "source": [
    "penguins['species'].value_counts().reset_index()"
   ]
  },
  {
   "cell_type": "code",
   "execution_count": 11,
   "metadata": {},
   "outputs": [],
   "source": [
    "table = iris.DataFrame(penguins['species'].value_counts().reset_index())"
   ]
  },
  {
   "cell_type": "code",
   "execution_count": 12,
   "metadata": {},
   "outputs": [
    {
     "data": {
      "text/plain": "Index(['index', 'species'], dtype='object')"
     },
     "execution_count": 12,
     "metadata": {},
     "output_type": "execute_result"
    }
   ],
   "source": [
    "table.view().keys()"
   ]
  },
  {
   "cell_type": "code",
   "execution_count": 13,
   "metadata": {},
   "outputs": [],
   "source": [
    "fts = {'position':{'name':'index', \n",
    "                   'encoder': position.Nominal({'Adelie': 0,  'Chinstrap': 1, 'Gentoo': 2})},  \n",
    "        'length': {'name': 'species'},\n",
    "        'facecolors': {'name':'index', \n",
    "                       'encoder': color.Categorical({'Adelie':'#FF8C00',\n",
    "                                                'Gentoo':'#159090',\n",
    "                                                'Chinstrap':'#A034F0'})}}"
   ]
  },
  {
   "cell_type": "code",
   "execution_count": 14,
   "metadata": {},
   "outputs": [
    {
     "data": {
      "text/plain": "0       Adelie\n1       Gentoo\n2    Chinstrap\nName: index, dtype: object"
     },
     "execution_count": 14,
     "metadata": {},
     "output_type": "execute_result"
    }
   ],
   "source": [
    "table.view()['index']"
   ]
  },
  {
   "cell_type": "code",
   "execution_count": 15,
   "metadata": {},
   "outputs": [
    {
     "data": {
      "image/png": "[encoded data removed]",
      "text/plain": "<Figure size 1200x800 with 1 Axes>"
     },
     "metadata": {
      "needs_background": "light"
     },
     "output_type": "display_data"
    }
   ],
   "source": [
    "fig, ax = plt.subplots()\r\n",
    "\r\n",
    "artistv = bar.BarArtist(table, fts, orientation='v')\r\n"
   ]
  },
  {
   "cell_type": "code",
   "execution_count": 31,
   "metadata": {},
   "outputs": [
    {
     "data": {
      "text/plain": "GraphicCollection(paths=[Path(array([[1. , 0. ],\n       [1. , 4. ],\n       [1.8, 4. ],\n       [1.8, 0. ],\n       [1. , 0. ]]), array([ 1,  2,  2,  2, 79], dtype=uint8)), Path(array([[2. , 0. ],\n       [2. , 5. ],\n       [2.8, 5. ],\n       [2.8, 0. ],\n       [2. , 0. ]]), array([ 1,  2,  2,  2, 79], dtype=uint8)), Path(array([[3. , 0. ],\n       [3. , 6. ],\n       [3.8, 6. ],\n       [3.8, 0. ],\n       [3. , 0. ]]), array([ 1,  2,  2,  2, 79], dtype=uint8))], transforms=[<matplotlib.transforms.IdentityTransform object at 0x00000136754BA520>, <matplotlib.transforms.IdentityTransform object at 0x00000136754BA2B0>, <matplotlib.transforms.IdentityTransform object at 0x00000136754BA070>], offsets=[(0, 0), (0, 0), (0, 0)], offsetTrans=[<matplotlib.transforms.IdentityTransform object at 0x00000136754BACA0>, <matplotlib.transforms.IdentityTransform object at 0x00000136754BAC70>, <matplotlib.transforms.IdentityTransform object at 0x00000136754BAF40>], facecolors=['C0', 'C0', 'C0'], edgecolors=['k', 'k', 'k'], linewidths=[1, 1, 1], linestyles=[0, 0, 0], antialiaseds=[True, True, True], urls=None, offset_position='screen')"
     },
     "execution_count": 31,
     "metadata": {},
     "output_type": "execute_result"
    }
   ],
   "source": [
    "artistv.assemble([1,2,3], [4,5,6])"
   ]
  },
  {
   "cell_type": "code",
   "execution_count": 34,
   "metadata": {},
   "outputs": [
    {
     "name": "stdout",
     "output_type": "stream",
     "text": [
      "> \u001b[1;32mc:\\users\\story\\anaconda3\\envs\\mplrelease\\lib\\site-packages\\matplotlib\\backends\\backend_agg.py\u001b[0m(174)\u001b[0;36mdraw_path_collection\u001b[1;34m()\u001b[0m\n",
      "\u001b[1;32m    172 \u001b[1;33m                \u001b[1;34m\"3.3\"\u001b[0m\u001b[1;33m,\u001b[0m \u001b[0mmessage\u001b[0m\u001b[1;33m=\u001b[0m\u001b[1;34m\"Support for offset_position='data' is \"\u001b[0m\u001b[1;33m\u001b[0m\u001b[1;33m\u001b[0m\u001b[0m\n",
      "\u001b[0m\u001b[1;32m    173 \u001b[1;33m                \"deprecated since %(since)s and will be removed %(removal)s.\")\n",
      "\u001b[0m\u001b[1;32m--> 174 \u001b[1;33m        return self._renderer.draw_path_collection(\n",
      "\u001b[0m\u001b[1;32m    175 \u001b[1;33m            \u001b[0mgc\u001b[0m\u001b[1;33m,\u001b[0m \u001b[0mmaster_transform\u001b[0m\u001b[1;33m,\u001b[0m \u001b[0mpaths\u001b[0m\u001b[1;33m,\u001b[0m \u001b[0mall_transforms\u001b[0m\u001b[1;33m,\u001b[0m \u001b[0moffsets\u001b[0m\u001b[1;33m,\u001b[0m \u001b[0moffsetTrans\u001b[0m\u001b[1;33m,\u001b[0m\u001b[1;33m\u001b[0m\u001b[1;33m\u001b[0m\u001b[0m\n",
      "\u001b[0m\u001b[1;32m    176 \u001b[1;33m            \u001b[0mfacecolors\u001b[0m\u001b[1;33m,\u001b[0m \u001b[0medgecolors\u001b[0m\u001b[1;33m,\u001b[0m \u001b[0mlinewidths\u001b[0m\u001b[1;33m,\u001b[0m \u001b[0mlinestyles\u001b[0m\u001b[1;33m,\u001b[0m \u001b[0mantialiaseds\u001b[0m\u001b[1;33m,\u001b[0m \u001b[0murls\u001b[0m\u001b[1;33m,\u001b[0m\u001b[1;33m\u001b[0m\u001b[1;33m\u001b[0m\u001b[0m\n",
      "\u001b[0m\n",
      "> \u001b[1;32mc:\\users\\story\\projects\\proposal\\code\\matplottoy\\artists\\bar.py\u001b[0m(95)\u001b[0;36mdraw\u001b[1;34m()\u001b[0m\n",
      "\u001b[1;32m     93 \u001b[1;33m        \u001b[0mgc\u001b[0m \u001b[1;33m=\u001b[0m \u001b[0mrenderer\u001b[0m\u001b[1;33m.\u001b[0m\u001b[0mnew_gc\u001b[0m\u001b[1;33m(\u001b[0m\u001b[1;33m)\u001b[0m\u001b[1;33m\u001b[0m\u001b[1;33m\u001b[0m\u001b[0m\n",
      "\u001b[0m\u001b[1;32m     94 \u001b[1;33m        \u001b[1;31m#offset_position data is deprecated\u001b[0m\u001b[1;33m\u001b[0m\u001b[1;33m\u001b[0m\u001b[1;33m\u001b[0m\u001b[0m\n",
      "\u001b[0m\u001b[1;32m---> 95 \u001b[1;33m        renderer.draw_path_collection(gc, \n",
      "\u001b[0m\u001b[1;32m     96 \u001b[1;33m        \u001b[0mmaster_transform\u001b[0m\u001b[1;33m=\u001b[0m\u001b[0mmtransforms\u001b[0m\u001b[1;33m.\u001b[0m\u001b[0mIdentityTransform\u001b[0m\u001b[1;33m(\u001b[0m\u001b[1;33m)\u001b[0m\u001b[1;33m,\u001b[0m\u001b[1;33m\u001b[0m\u001b[1;33m\u001b[0m\u001b[0m\n",
      "\u001b[0m\u001b[1;32m     97 \u001b[1;33m        \u001b[0mpaths\u001b[0m\u001b[1;33m=\u001b[0m\u001b[0mgraphic\u001b[0m\u001b[1;33m.\u001b[0m\u001b[0mpaths\u001b[0m\u001b[1;33m,\u001b[0m\u001b[1;33m\u001b[0m\u001b[1;33m\u001b[0m\u001b[0m\n",
      "\u001b[0m\n",
      "*** NameError: name 'offsets' is not defined\n",
      "> \u001b[1;32mc:\\users\\story\\anaconda3\\envs\\mplrelease\\lib\\site-packages\\matplotlib\\image.py\u001b[0m(132)\u001b[0;36m_draw_list_compositing_images\u001b[1;34m()\u001b[0m\n",
      "\u001b[1;32m    130 \u001b[1;33m    \u001b[1;32mif\u001b[0m \u001b[0mnot_composite\u001b[0m \u001b[1;32mor\u001b[0m \u001b[1;32mnot\u001b[0m \u001b[0mhas_images\u001b[0m\u001b[1;33m:\u001b[0m\u001b[1;33m\u001b[0m\u001b[1;33m\u001b[0m\u001b[0m\n",
      "\u001b[0m\u001b[1;32m    131 \u001b[1;33m        \u001b[1;32mfor\u001b[0m \u001b[0ma\u001b[0m \u001b[1;32min\u001b[0m \u001b[0martists\u001b[0m\u001b[1;33m:\u001b[0m\u001b[1;33m\u001b[0m\u001b[1;33m\u001b[0m\u001b[0m\n",
      "\u001b[0m\u001b[1;32m--> 132 \u001b[1;33m            \u001b[0ma\u001b[0m\u001b[1;33m.\u001b[0m\u001b[0mdraw\u001b[0m\u001b[1;33m(\u001b[0m\u001b[0mrenderer\u001b[0m\u001b[1;33m)\u001b[0m\u001b[1;33m\u001b[0m\u001b[1;33m\u001b[0m\u001b[0m\n",
      "\u001b[0m\u001b[1;32m    133 \u001b[1;33m    \u001b[1;32melse\u001b[0m\u001b[1;33m:\u001b[0m\u001b[1;33m\u001b[0m\u001b[1;33m\u001b[0m\u001b[0m\n",
      "\u001b[0m\u001b[1;32m    134 \u001b[1;33m        \u001b[1;31m# Composite any adjacent images together\u001b[0m\u001b[1;33m\u001b[0m\u001b[1;33m\u001b[0m\u001b[1;33m\u001b[0m\u001b[0m\n",
      "\u001b[0m\n",
      "> \u001b[1;32mc:\\users\\story\\anaconda3\\envs\\mplrelease\\lib\\site-packages\\matplotlib\\axes\\_base.py\u001b[0m(2925)\u001b[0;36mdraw\u001b[1;34m()\u001b[0m\n",
      "\u001b[1;32m   2923 \u001b[1;33m            \u001b[0mrenderer\u001b[0m\u001b[1;33m.\u001b[0m\u001b[0mstop_rasterizing\u001b[0m\u001b[1;33m(\u001b[0m\u001b[1;33m)\u001b[0m\u001b[1;33m\u001b[0m\u001b[1;33m\u001b[0m\u001b[0m\n",
      "\u001b[0m\u001b[1;32m   2924 \u001b[1;33m\u001b[1;33m\u001b[0m\u001b[0m\n",
      "\u001b[0m\u001b[1;32m-> 2925 \u001b[1;33m        \u001b[0mmimage\u001b[0m\u001b[1;33m.\u001b[0m\u001b[0m_draw_list_compositing_images\u001b[0m\u001b[1;33m(\u001b[0m\u001b[0mrenderer\u001b[0m\u001b[1;33m,\u001b[0m \u001b[0mself\u001b[0m\u001b[1;33m,\u001b[0m \u001b[0martists\u001b[0m\u001b[1;33m)\u001b[0m\u001b[1;33m\u001b[0m\u001b[1;33m\u001b[0m\u001b[0m\n",
      "\u001b[0m\u001b[1;32m   2926 \u001b[1;33m\u001b[1;33m\u001b[0m\u001b[0m\n",
      "\u001b[0m\u001b[1;32m   2927 \u001b[1;33m        \u001b[0mrenderer\u001b[0m\u001b[1;33m.\u001b[0m\u001b[0mclose_group\u001b[0m\u001b[1;33m(\u001b[0m\u001b[1;34m'axes'\u001b[0m\u001b[1;33m)\u001b[0m\u001b[1;33m\u001b[0m\u001b[1;33m\u001b[0m\u001b[0m\n",
      "\u001b[0m\n",
      "> \u001b[1;32mc:\\users\\story\\anaconda3\\envs\\mplrelease\\lib\\site-packages\\matplotlib\\_api\\deprecation.py\u001b[0m(431)\u001b[0;36mwrapper\u001b[1;34m()\u001b[0m\n",
      "\u001b[1;32m    429 \u001b[1;33m                         \u001b[1;32melse\u001b[0m \u001b[0mdeprecation_addendum\u001b[0m\u001b[1;33m,\u001b[0m\u001b[1;33m\u001b[0m\u001b[1;33m\u001b[0m\u001b[0m\n",
      "\u001b[0m\u001b[1;32m    430 \u001b[1;33m                **kwargs)\n",
      "\u001b[0m\u001b[1;32m--> 431 \u001b[1;33m        \u001b[1;32mreturn\u001b[0m \u001b[0mfunc\u001b[0m\u001b[1;33m(\u001b[0m\u001b[1;33m*\u001b[0m\u001b[0minner_args\u001b[0m\u001b[1;33m,\u001b[0m \u001b[1;33m**\u001b[0m\u001b[0minner_kwargs\u001b[0m\u001b[1;33m)\u001b[0m\u001b[1;33m\u001b[0m\u001b[1;33m\u001b[0m\u001b[0m\n",
      "\u001b[0m\u001b[1;32m    432 \u001b[1;33m\u001b[1;33m\u001b[0m\u001b[0m\n",
      "\u001b[0m\u001b[1;32m    433 \u001b[1;33m    \u001b[1;32mreturn\u001b[0m \u001b[0mwrapper\u001b[0m\u001b[1;33m\u001b[0m\u001b[1;33m\u001b[0m\u001b[0m\n",
      "\u001b[0m\n",
      "> \u001b[1;32mc:\\users\\story\\anaconda3\\envs\\mplrelease\\lib\\site-packages\\matplotlib\\artist.py\u001b[0m(51)\u001b[0;36mdraw_wrapper\u001b[1;34m()\u001b[0m\n",
      "\u001b[1;32m     49 \u001b[1;33m                \u001b[0mrenderer\u001b[0m\u001b[1;33m.\u001b[0m\u001b[0mstart_filter\u001b[0m\u001b[1;33m(\u001b[0m\u001b[1;33m)\u001b[0m\u001b[1;33m\u001b[0m\u001b[1;33m\u001b[0m\u001b[0m\n",
      "\u001b[0m\u001b[1;32m     50 \u001b[1;33m\u001b[1;33m\u001b[0m\u001b[0m\n",
      "\u001b[0m\u001b[1;32m---> 51 \u001b[1;33m            \u001b[1;32mreturn\u001b[0m \u001b[0mdraw\u001b[0m\u001b[1;33m(\u001b[0m\u001b[0martist\u001b[0m\u001b[1;33m,\u001b[0m \u001b[0mrenderer\u001b[0m\u001b[1;33m,\u001b[0m \u001b[1;33m*\u001b[0m\u001b[0margs\u001b[0m\u001b[1;33m,\u001b[0m \u001b[1;33m**\u001b[0m\u001b[0mkwargs\u001b[0m\u001b[1;33m)\u001b[0m\u001b[1;33m\u001b[0m\u001b[1;33m\u001b[0m\u001b[0m\n",
      "\u001b[0m\u001b[1;32m     52 \u001b[1;33m        \u001b[1;32mfinally\u001b[0m\u001b[1;33m:\u001b[0m\u001b[1;33m\u001b[0m\u001b[1;33m\u001b[0m\u001b[0m\n",
      "\u001b[0m\u001b[1;32m     53 \u001b[1;33m            \u001b[1;32mif\u001b[0m \u001b[0martist\u001b[0m\u001b[1;33m.\u001b[0m\u001b[0mget_agg_filter\u001b[0m\u001b[1;33m(\u001b[0m\u001b[1;33m)\u001b[0m \u001b[1;32mis\u001b[0m \u001b[1;32mnot\u001b[0m \u001b[1;32mNone\u001b[0m\u001b[1;33m:\u001b[0m\u001b[1;33m\u001b[0m\u001b[1;33m\u001b[0m\u001b[0m\n",
      "\u001b[0m\n",
      "> \u001b[1;32mc:\\users\\story\\anaconda3\\envs\\mplrelease\\lib\\site-packages\\matplotlib\\image.py\u001b[0m(132)\u001b[0;36m_draw_list_compositing_images\u001b[1;34m()\u001b[0m\n",
      "\u001b[1;32m    130 \u001b[1;33m    \u001b[1;32mif\u001b[0m \u001b[0mnot_composite\u001b[0m \u001b[1;32mor\u001b[0m \u001b[1;32mnot\u001b[0m \u001b[0mhas_images\u001b[0m\u001b[1;33m:\u001b[0m\u001b[1;33m\u001b[0m\u001b[1;33m\u001b[0m\u001b[0m\n",
      "\u001b[0m\u001b[1;32m    131 \u001b[1;33m        \u001b[1;32mfor\u001b[0m \u001b[0ma\u001b[0m \u001b[1;32min\u001b[0m \u001b[0martists\u001b[0m\u001b[1;33m:\u001b[0m\u001b[1;33m\u001b[0m\u001b[1;33m\u001b[0m\u001b[0m\n",
      "\u001b[0m\u001b[1;32m--> 132 \u001b[1;33m            \u001b[0ma\u001b[0m\u001b[1;33m.\u001b[0m\u001b[0mdraw\u001b[0m\u001b[1;33m(\u001b[0m\u001b[0mrenderer\u001b[0m\u001b[1;33m)\u001b[0m\u001b[1;33m\u001b[0m\u001b[1;33m\u001b[0m\u001b[0m\n",
      "\u001b[0m\u001b[1;32m    133 \u001b[1;33m    \u001b[1;32melse\u001b[0m\u001b[1;33m:\u001b[0m\u001b[1;33m\u001b[0m\u001b[1;33m\u001b[0m\u001b[0m\n",
      "\u001b[0m\u001b[1;32m    134 \u001b[1;33m        \u001b[1;31m# Composite any adjacent images together\u001b[0m\u001b[1;33m\u001b[0m\u001b[1;33m\u001b[0m\u001b[1;33m\u001b[0m\u001b[0m\n",
      "\u001b[0m\n",
      "> \u001b[1;32mc:\\users\\story\\anaconda3\\envs\\mplrelease\\lib\\site-packages\\matplotlib\\figure.py\u001b[0m(2737)\u001b[0;36mdraw\u001b[1;34m()\u001b[0m\n",
      "\u001b[1;32m   2735 \u001b[1;33m\u001b[1;33m\u001b[0m\u001b[0m\n",
      "\u001b[0m\u001b[1;32m   2736 \u001b[1;33m            \u001b[0mself\u001b[0m\u001b[1;33m.\u001b[0m\u001b[0mpatch\u001b[0m\u001b[1;33m.\u001b[0m\u001b[0mdraw\u001b[0m\u001b[1;33m(\u001b[0m\u001b[0mrenderer\u001b[0m\u001b[1;33m)\u001b[0m\u001b[1;33m\u001b[0m\u001b[1;33m\u001b[0m\u001b[0m\n",
      "\u001b[0m\u001b[1;32m-> 2737 \u001b[1;33m            mimage._draw_list_compositing_images(\n",
      "\u001b[0m\u001b[1;32m   2738 \u001b[1;33m                renderer, self, artists, self.suppressComposite)\n",
      "\u001b[0m\u001b[1;32m   2739 \u001b[1;33m\u001b[1;33m\u001b[0m\u001b[0m\n",
      "\u001b[0m\n"
     ]
    }
   ],
   "source": [
    "%debug\r\n",
    "fig, ax = plt.subplots()\r\n",
    "\r\n",
    "artistv = bar.BarArtist(table, fts, orientation='v')\r\n",
    "ax.add_artist(artistv)\r\n",
    "#ax.set(xlim = (-0.5, 3.5), ylim = (0,200),\r\n",
    "#       xticks = [.4, 1.4, 2.4],xticklabels = table.view(None)['index'])\r\n",
    "#fig.savefig(spath/\"bar_v.png\",  bbox_inches='tight')"
   ]
  },
  {
   "cell_type": "code",
   "execution_count": null,
   "metadata": {},
   "outputs": [],
   "source": [
    "fig, ax = plt.subplots()\n",
    "\n",
    "artisth = bar.Bar(table, fts, orientation='horizontal')\n",
    "ax.add_artist(artisth)\n",
    "ax.set(ylim = (-0.5, 3.5), \n",
    "       xlim = (0,200),\n",
    "       yticks = [.4, 1.4, 2.4],\n",
    "       yticklabels = table.view(None)['index'])\n",
    "fig.savefig(spath/\"bar_h.png\",  bbox_inches='tight')"
   ]
  },
  {
   "cell_type": "markdown",
   "metadata": {},
   "source": [
    "# grouped bar"
   ]
  },
  {
   "cell_type": "code",
   "execution_count": null,
   "metadata": {},
   "outputs": [],
   "source": [
    "penguins"
   ]
  },
  {
   "cell_type": "code",
   "execution_count": null,
   "metadata": {},
   "outputs": [],
   "source": [
    "df = penguins.groupby(['island','species']).count()['sex'].reset_index()"
   ]
  },
  {
   "cell_type": "code",
   "execution_count": null,
   "metadata": {},
   "outputs": [],
   "source": [
    "sb = penguins.groupby(['species', 'sex']).count()['year'].reset_index()"
   ]
  },
  {
   "cell_type": "code",
   "execution_count": null,
   "metadata": {},
   "outputs": [],
   "source": [
    "sb.pivot(index=['sex'], columns=['species'], values = 'year').reset_index().plot.bar(stacked=False)"
   ]
  },
  {
   "cell_type": "code",
   "execution_count": null,
   "metadata": {},
   "outputs": [],
   "source": [
    "sb.pivot(index=['sex'], columns=['species'], values = 'year').reset_index().plot.bar(stacked=True)"
   ]
  },
  {
   "cell_type": "code",
   "execution_count": null,
   "metadata": {},
   "outputs": [],
   "source": [
    "sb"
   ]
  },
  {
   "cell_type": "code",
   "execution_count": null,
   "metadata": {},
   "outputs": [],
   "source": [
    "wide_table = sb.pivot(index=['sex'], columns=['species'], values='year').reset_index()\n",
    "for s in ['Adelie', 'Chinstrap', 'Gentoo']:\n",
    "    wide_table[f'{s}_c'] = s"
   ]
  },
  {
   "cell_type": "code",
   "execution_count": null,
   "metadata": {},
   "outputs": [],
   "source": [
    "bt = iris.DataFrame(wide_table)"
   ]
  },
  {
   "cell_type": "code",
   "execution_count": null,
   "metadata": {},
   "outputs": [],
   "source": [
    "print(bt.view().to_latex())"
   ]
  },
  {
   "cell_type": "code",
   "execution_count": null,
   "metadata": {},
   "outputs": [],
   "source": [
    "cmap = color.Categorical({'Adelie':'#FF8C00', 'Gentoo':'#159090','Chinstrap':'#A034F0'})\n",
    "ts = {'position': {'name':'sex',\n",
    "                    'encoder': position.Nominal({'female':0, 'male':1})}} \n",
    "mgts = {'length': {'name': ['Adelie', 'Chinstrap', 'Gentoo']},\n",
    "        'facecolors': {'name': ['Adelie', 'Chinstrap', 'Gentoo'], \n",
    "                       'encoder': cmap}} \n",
    "sgts = {'length':{'name': ['Adelie']},\n",
    "        'facecolors' :{'name':['Adelie'], 'encoder':cmap}}"
   ]
  },
  {
   "cell_type": "code",
   "execution_count": null,
   "metadata": {},
   "outputs": [],
   "source": [
    "group_transforms =  [{'length': {'name':'Adelie'},\n",
    "                      'facecolors': {'name':\"Adelie_c\", 'encoder':cmap}},\n",
    "                     {'length': {'name':'Chinstrap'},\n",
    "                      'facecolors': {'name':\"Chinstrap_c\", 'encoder':cmap}}, \n",
    "                     {'length': {'name':'Gentoo'},\n",
    "                      'facecolors': {'name':\"Gentoo_c\", 'encoder':cmap}}]"
   ]
  },
  {
   "cell_type": "code",
   "execution_count": null,
   "metadata": {},
   "outputs": [],
   "source": [
    "# to do - this should just work\n",
    "should_do = {'position': {'name':'sex',  'encoder': position.Nominal({'female':0, 'male':1})}, \n",
    "      'length': {'name': 'year'},\n",
    "      'facecolors':{'name': 'species', 'encoder': cmap}}"
   ]
  },
  {
   "cell_type": "code",
   "execution_count": null,
   "metadata": {},
   "outputs": [],
   "source": [
    "fig, ax = plt.subplots()\n",
    "artistSB = bar.StackedBar(bt, ts, group_transforms)\n",
    "ax.add_artist(artistSB)\n",
    "_ = ax.set(ylim = (0, 175), \n",
    "       xlim = (-.2, 2),  \n",
    "        xticks = (.4, 1.4),\n",
    "        xticklabels = ['female', 'male'],\n",
    "       xlabel = \"\")\n",
    "ax.set_ylabel(\"# penguins\", fontsize=14 )\n",
    "ax.tick_params(labelsize=12)\n",
    "fig.savefig(spath/\"bar_stacked.png\",  bbox_inches='tight')"
   ]
  },
  {
   "cell_type": "code",
   "execution_count": null,
   "metadata": {},
   "outputs": [],
   "source": [
    "fig, ax = plt.subplots()\n",
    "artistGB = bar.GroupedBar(bt, ts, group_transforms)\n",
    "ax.add_artist(artistGB)\n",
    "_ = ax.set(ylim = (0, 80), \n",
    "       xlim = (-.2, 2),  \n",
    "            xticks = (.4, 1.4),\n",
    "        xticklabels = ['female', 'male'],\n",
    "       xlabel = \"\")\n",
    "ax.set_ylabel(\"# penguins\", fontsize=14 )\n",
    "ax.tick_params(labelsize=12)\n",
    "fig.savefig(spath/\"bar_grouped.png\",  bbox_inches='tight')"
   ]
  },
  {
   "cell_type": "code",
   "execution_count": null,
   "metadata": {},
   "outputs": [],
   "source": [
    "%matplotlib inline\n",
    "import matplotlib.path as mpath\n",
    "import matplotlib.patches as mpatches\n",
    "\n",
    "fig, (ax1, ax2, ax3) = plt.subplots(nrows=3, constrained_layout=True)\n",
    "for a in artistv._paths:\n",
    "    path = mpath.Path(a.vertices, a.codes, closed=True)\n",
    "    patch = mpatches.PathPatch(path)\n",
    "    ax1.add_patch(patch)\n",
    "_ = ax1.set(ylim = (0, 160), xlim = (-0.25, 3))\n",
    "for c, col in zip(artistSB.children, ['C0', 'C1', 'C2']):\n",
    "    for a in c._paths:\n",
    "        path = mpath.Path(a.vertices, a.codes, closed=True)\n",
    "        patch = mpatches.PathPatch(path, color=col)\n",
    "        ax2.add_patch(patch)\n",
    "_ = ax2.set(ylim = (0, 170), xlim = (-0, 3))\n",
    "for c, col in zip(artistGB.children, ['C0', 'C1', 'C2']):\n",
    "    for a in c._paths:\n",
    "        path = mpath.Path(a.vertices, a.codes, closed=True)\n",
    "        patch = mpatches.PathPatch(path, color=col)\n",
    "        ax3.add_patch(patch)\n",
    "_ = ax3.set(ylim = (0, 170), xlim = (-0, 3))"
   ]
  },
  {
   "cell_type": "code",
   "execution_count": null,
   "metadata": {},
   "outputs": [],
   "source": []
  }
 ],
 "metadata": {
  "kernelspec": {
   "display_name": "Python 3.8.8 64-bit ('mplrelease': conda)",
   "name": "python37464bitmplreleaseconda953a5d05f1cf4d5db783b13a33a22e5d"
  },
  "language_info": {
   "codemirror_mode": {
    "name": "ipython",
    "version": 3
   },
   "file_extension": ".py",
   "mimetype": "text/x-python",
   "name": "python",
   "nbconvert_exporter": "python",
   "pygments_lexer": "ipython3",
   "version": "3.8.8"
  },
  "metadata": {
   "interpreter": {
    "hash": "b093ed991850d196751d0067d1729730239ea6911752e65d7947096cb1752745"
   }
  }
 },
 "nbformat": 4,
 "nbformat_minor": 4
}