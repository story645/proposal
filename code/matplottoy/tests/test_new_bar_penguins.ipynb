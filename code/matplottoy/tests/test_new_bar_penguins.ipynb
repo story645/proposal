{
 "cells": [
  {
   "cell_type": "code",
   "execution_count": null,
   "metadata": {},
   "outputs": [],
   "source": [
    "%load_ext autoreload"
   ]
  },
  {
   "cell_type": "code",
   "execution_count": null,
   "metadata": {},
   "outputs": [],
   "source": [
    "%autoreload 2"
   ]
  },
  {
   "cell_type": "code",
   "execution_count": null,
   "metadata": {},
   "outputs": [],
   "source": [
    "%matplotlib inline\n",
    "from pathlib import Path\n",
    "import itertools\n",
    "\n",
    "import numpy as np\n",
    "import matplotlib.pyplot as plt\n",
    "from matplotlib import rcParams \n",
    "\n",
    "import seaborn as sns\n",
    "\n",
    "from palmerpenguins import load_penguins\n",
    "\n",
    "from matplottoy.data import iris\n",
    "from matplottoy.encoders import color, position\n",
    "from matplottoy.artists import point, bar, utils\n",
    "\n",
    "\n",
    "spath = Path(\"../../../draft/figures/code/\")\n",
    "rcParams['figure.dpi'] = 200"
   ]
  },
  {
   "cell_type": "code",
   "execution_count": null,
   "metadata": {},
   "outputs": [],
   "source": [
    "penguins = load_penguins()"
   ]
  },
  {
   "cell_type": "code",
   "execution_count": null,
   "metadata": {},
   "outputs": [],
   "source": [
    "dict(penguins.dtypes)"
   ]
  },
  {
   "cell_type": "code",
   "execution_count": null,
   "metadata": {},
   "outputs": [],
   "source": [
    "penguins['species'].value_counts().reset_index()"
   ]
  },
  {
   "cell_type": "code",
   "execution_count": null,
   "metadata": {},
   "outputs": [],
   "source": [
    "table = iris.DataFrame(penguins['species'].value_counts().reset_index())"
   ]
  },
  {
   "cell_type": "code",
   "execution_count": null,
   "metadata": {},
   "outputs": [],
   "source": [
    "table.view().keys()"
   ]
  },
  {
   "cell_type": "code",
   "execution_count": null,
   "metadata": {},
   "outputs": [],
   "source": [
    "fts = {'position':{'name':'index', \n",
    "                   'encoder': position.Nominal({'Adelie': 0,  'Chinstrap': 1, 'Gentoo': 2})},  \n",
    "        'length': {'name': 'species'},\n",
    "        'facecolors': {'name':'index', \n",
    "                       'encoder': color.Categorical({'Adelie':'#FF8C00',\n",
    "                                                'Gentoo':'#159090',\n",
    "                                                'Chinstrap':'#A034F0'})}}"
   ]
  },
  {
   "cell_type": "code",
   "execution_count": null,
   "metadata": {},
   "outputs": [],
   "source": [
    "table.view()['index']"
   ]
  },
  {
   "cell_type": "code",
   "execution_count": null,
   "metadata": {},
   "outputs": [],
   "source": [
    "fig, ax = plt.subplots()\r\n",
    "\r\n",
    "artistv = bar.BarArtist(table, fts, orientation='v')"
   ]
  },
  {
   "cell_type": "code",
   "execution_count": 45,
   "metadata": {},
   "outputs": [
    {
     "name": "stderr",
     "output_type": "stream",
     "text": [
      "[autoreload of matplottoy.artists.bar failed: Traceback (most recent call last):\n",
      "  File \"C:\\Users\\story\\Anaconda3\\envs\\mplrelease\\lib\\site-packages\\IPython\\extensions\\autoreload.py\", line 245, in check\n",
      "    superreload(m, reload, self.old_objects)\n",
      "  File \"C:\\Users\\story\\Anaconda3\\envs\\mplrelease\\lib\\site-packages\\IPython\\extensions\\autoreload.py\", line 394, in superreload\n",
      "    module = reload(module)\n",
      "  File \"C:\\Users\\story\\Anaconda3\\envs\\mplrelease\\lib\\imp.py\", line 314, in reload\n",
      "    return importlib.reload(module)\n",
      "  File \"C:\\Users\\story\\Anaconda3\\envs\\mplrelease\\lib\\importlib\\__init__.py\", line 169, in reload\n",
      "    _bootstrap._exec(spec, module)\n",
      "  File \"<frozen importlib._bootstrap>\", line 604, in _exec\n",
      "  File \"<frozen importlib._bootstrap_external>\", line 779, in exec_module\n",
      "  File \"<frozen importlib._bootstrap_external>\", line 916, in get_code\n",
      "  File \"<frozen importlib._bootstrap_external>\", line 846, in source_to_code\n",
      "  File \"<frozen importlib._bootstrap>\", line 219, in _call_with_frames_removed\n",
      "  File \"c:\\users\\story\\projects\\proposal\\code\\matplottoy\\artists\\bar.py\", line 88\n",
      "    graphic = self.assemble(**))\n",
      "                              ^\n",
      "SyntaxError: invalid syntax\n",
      "]\n"
     ]
    },
    {
     "name": "stdout",
     "output_type": "stream",
     "text": [
      "> \u001b[1;32mc:\\users\\story\\projects\\proposal\\code\\matplottoy\\artists\\bar.py\u001b[0m(86)\u001b[0;36mdraw\u001b[1;34m()\u001b[0m\n",
      "\u001b[1;32m     84 \u001b[1;33m\u001b[1;33m\u001b[0m\u001b[0m\n",
      "\u001b[0m\u001b[1;32m     85 \u001b[1;33m        \u001b[1;32mfor\u001b[0m \u001b[0mparams\u001b[0m \u001b[1;32min\u001b[0m \u001b[0mzip\u001b[0m\u001b[1;33m(\u001b[0m\u001b[0mvisual\u001b[0m\u001b[1;33m.\u001b[0m\u001b[0mvalues\u001b[0m\u001b[1;33m(\u001b[0m\u001b[1;33m)\u001b[0m\u001b[1;33m)\u001b[0m\u001b[1;33m:\u001b[0m\u001b[1;33m\u001b[0m\u001b[1;33m\u001b[0m\u001b[0m\n",
      "\u001b[0m\u001b[1;32m---> 86 \u001b[1;33m            \u001b[0mvv\u001b[0m \u001b[1;33m=\u001b[0m \u001b[0mdict\u001b[0m\u001b[1;33m(\u001b[0m\u001b[0mzip\u001b[0m\u001b[1;33m(\u001b[0m\u001b[0mvisual\u001b[0m\u001b[1;33m.\u001b[0m\u001b[0mkeys\u001b[0m\u001b[1;33m(\u001b[0m\u001b[1;33m)\u001b[0m\u001b[1;33m,\u001b[0m \u001b[0mparams\u001b[0m\u001b[1;33m)\u001b[0m\u001b[1;33m)\u001b[0m\u001b[1;33m\u001b[0m\u001b[1;33m\u001b[0m\u001b[0m\n",
      "\u001b[0m\u001b[1;32m     87 \u001b[1;33m            \u001b[0mprint\u001b[0m\u001b[1;33m(\u001b[0m\u001b[0mvv\u001b[0m\u001b[1;33m)\u001b[0m\u001b[1;33m\u001b[0m\u001b[1;33m\u001b[0m\u001b[0m\n",
      "\u001b[0m\u001b[1;32m     88 \u001b[1;33m            graphic = self.assemble(**))    \n",
      "\u001b[0m\n"
     ]
    }
   ],
   "source": [
    "%debug\r\n",
    "fig, ax = plt.subplots()\r\n",
    "artistv = bar.BarArtist(table, fts, orientation='v')\r\n",
    "ax.add_artist(artistv)"
   ]
  },
  {
   "cell_type": "code",
   "execution_count": null,
   "metadata": {},
   "outputs": [],
   "source": [
    "%debug\r\n",
    "fig, ax = plt.subplots()\r\n",
    "\r\n",
    "artistv = bar.BarArtist(table, fts)\r\n",
    "ax.add_artist(artistv)"
   ]
  },
  {
   "cell_type": "markdown",
   "metadata": {},
   "source": [
    "# grouped bar"
   ]
  },
  {
   "cell_type": "code",
   "execution_count": null,
   "metadata": {},
   "outputs": [],
   "source": [
    "penguins"
   ]
  },
  {
   "cell_type": "code",
   "execution_count": null,
   "metadata": {},
   "outputs": [],
   "source": [
    "df = penguins.groupby(['island','species']).count()['sex'].reset_index()"
   ]
  },
  {
   "cell_type": "code",
   "execution_count": null,
   "metadata": {},
   "outputs": [],
   "source": [
    "sb = penguins.groupby(['species', 'sex']).count()['year'].reset_index()"
   ]
  },
  {
   "cell_type": "code",
   "execution_count": null,
   "metadata": {},
   "outputs": [],
   "source": [
    "sb.pivot(index=['sex'], columns=['species'], values = 'year').reset_index().plot.bar(stacked=False)"
   ]
  },
  {
   "cell_type": "code",
   "execution_count": null,
   "metadata": {},
   "outputs": [],
   "source": [
    "sb.pivot(index=['sex'], columns=['species'], values = 'year').reset_index().plot.bar(stacked=True)"
   ]
  },
  {
   "cell_type": "code",
   "execution_count": null,
   "metadata": {},
   "outputs": [],
   "source": [
    "sb"
   ]
  },
  {
   "cell_type": "code",
   "execution_count": null,
   "metadata": {},
   "outputs": [],
   "source": [
    "wide_table = sb.pivot(index=['sex'], columns=['species'], values='year').reset_index()\n",
    "for s in ['Adelie', 'Chinstrap', 'Gentoo']:\n",
    "    wide_table[f'{s}_c'] = s"
   ]
  },
  {
   "cell_type": "code",
   "execution_count": null,
   "metadata": {},
   "outputs": [],
   "source": [
    "bt = iris.DataFrame(wide_table)"
   ]
  },
  {
   "cell_type": "code",
   "execution_count": null,
   "metadata": {},
   "outputs": [],
   "source": [
    "print(bt.view().to_latex())"
   ]
  },
  {
   "cell_type": "code",
   "execution_count": null,
   "metadata": {},
   "outputs": [],
   "source": [
    "cmap = color.Categorical({'Adelie':'#FF8C00', 'Gentoo':'#159090','Chinstrap':'#A034F0'})\n",
    "ts = {'position': {'name':'sex',\n",
    "                    'encoder': position.Nominal({'female':0, 'male':1})}} \n",
    "mgts = {'length': {'name': ['Adelie', 'Chinstrap', 'Gentoo']},\n",
    "        'facecolors': {'name': ['Adelie', 'Chinstrap', 'Gentoo'], \n",
    "                       'encoder': cmap}} \n",
    "sgts = {'length':{'name': ['Adelie']},\n",
    "        'facecolors' :{'name':['Adelie'], 'encoder':cmap}}"
   ]
  },
  {
   "cell_type": "code",
   "execution_count": null,
   "metadata": {},
   "outputs": [],
   "source": [
    "group_transforms =  [{'length': {'name':'Adelie'},\n",
    "                      'facecolors': {'name':\"Adelie_c\", 'encoder':cmap}},\n",
    "                     {'length': {'name':'Chinstrap'},\n",
    "                      'facecolors': {'name':\"Chinstrap_c\", 'encoder':cmap}}, \n",
    "                     {'length': {'name':'Gentoo'},\n",
    "                      'facecolors': {'name':\"Gentoo_c\", 'encoder':cmap}}]"
   ]
  },
  {
   "cell_type": "code",
   "execution_count": null,
   "metadata": {},
   "outputs": [],
   "source": [
    "# to do - this should just work\n",
    "should_do = {'position': {'name':'sex',  'encoder': position.Nominal({'female':0, 'male':1})}, \n",
    "      'length': {'name': 'year'},\n",
    "      'facecolors':{'name': 'species', 'encoder': cmap}}"
   ]
  },
  {
   "cell_type": "code",
   "execution_count": null,
   "metadata": {},
   "outputs": [],
   "source": [
    "fig, ax = plt.subplots()\n",
    "artistSB = bar.StackedBar(bt, ts, group_transforms)\n",
    "ax.add_artist(artistSB)\n",
    "_ = ax.set(ylim = (0, 175), \n",
    "       xlim = (-.2, 2),  \n",
    "        xticks = (.4, 1.4),\n",
    "        xticklabels = ['female', 'male'],\n",
    "       xlabel = \"\")\n",
    "ax.set_ylabel(\"# penguins\", fontsize=14 )\n",
    "ax.tick_params(labelsize=12)\n",
    "fig.savefig(spath/\"bar_stacked.png\",  bbox_inches='tight')"
   ]
  },
  {
   "cell_type": "code",
   "execution_count": null,
   "metadata": {},
   "outputs": [],
   "source": [
    "fig, ax = plt.subplots()\n",
    "artistGB = bar.GroupedBar(bt, ts, group_transforms)\n",
    "ax.add_artist(artistGB)\n",
    "_ = ax.set(ylim = (0, 80), \n",
    "       xlim = (-.2, 2),  \n",
    "            xticks = (.4, 1.4),\n",
    "        xticklabels = ['female', 'male'],\n",
    "       xlabel = \"\")\n",
    "ax.set_ylabel(\"# penguins\", fontsize=14 )\n",
    "ax.tick_params(labelsize=12)\n",
    "fig.savefig(spath/\"bar_grouped.png\",  bbox_inches='tight')"
   ]
  },
  {
   "cell_type": "code",
   "execution_count": null,
   "metadata": {},
   "outputs": [],
   "source": [
    "%matplotlib inline\n",
    "import matplotlib.path as mpath\n",
    "import matplotlib.patches as mpatches\n",
    "\n",
    "fig, (ax1, ax2, ax3) = plt.subplots(nrows=3, constrained_layout=True)\n",
    "for a in artistv._paths:\n",
    "    path = mpath.Path(a.vertices, a.codes, closed=True)\n",
    "    patch = mpatches.PathPatch(path)\n",
    "    ax1.add_patch(patch)\n",
    "_ = ax1.set(ylim = (0, 160), xlim = (-0.25, 3))\n",
    "for c, col in zip(artistSB.children, ['C0', 'C1', 'C2']):\n",
    "    for a in c._paths:\n",
    "        path = mpath.Path(a.vertices, a.codes, closed=True)\n",
    "        patch = mpatches.PathPatch(path, color=col)\n",
    "        ax2.add_patch(patch)\n",
    "_ = ax2.set(ylim = (0, 170), xlim = (-0, 3))\n",
    "for c, col in zip(artistGB.children, ['C0', 'C1', 'C2']):\n",
    "    for a in c._paths:\n",
    "        path = mpath.Path(a.vertices, a.codes, closed=True)\n",
    "        patch = mpatches.PathPatch(path, color=col)\n",
    "        ax3.add_patch(patch)\n",
    "_ = ax3.set(ylim = (0, 170), xlim = (-0, 3))"
   ]
  },
  {
   "cell_type": "code",
   "execution_count": null,
   "metadata": {},
   "outputs": [],
   "source": []
  }
 ],
 "metadata": {
  "kernelspec": {
   "display_name": "Python 3.8.8 64-bit ('mplrelease': conda)",
   "name": "python37464bitmplreleaseconda953a5d05f1cf4d5db783b13a33a22e5d"
  },
  "language_info": {
   "codemirror_mode": {
    "name": "ipython",
    "version": 3
   },
   "file_extension": ".py",
   "mimetype": "text/x-python",
   "name": "python",
   "nbconvert_exporter": "python",
   "pygments_lexer": "ipython3",
   "version": "3.8.8"
  },
  "metadata": {
   "interpreter": {
    "hash": "b093ed991850d196751d0067d1729730239ea6911752e65d7947096cb1752745"
   }
  }
 },
 "nbformat": 4,
 "nbformat_minor": 4
}