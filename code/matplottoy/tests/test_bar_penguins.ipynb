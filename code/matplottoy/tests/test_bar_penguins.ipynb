{
 "cells": [
  {
   "cell_type": "code",
   "execution_count": 2,
   "metadata": {},
   "outputs": [],
   "source": [
    "%load_ext autoreload"
   ]
  },
  {
   "cell_type": "code",
   "execution_count": 3,
   "metadata": {},
   "outputs": [],
   "source": [
    "%autoreload 2"
   ]
  },
  {
   "cell_type": "code",
   "execution_count": 4,
   "metadata": {},
   "outputs": [],
   "source": [
    "%matplotlib inline\n",
    "from pathlib import Path\n",
    "import itertools\n",
    "\n",
    "import numpy as np\n",
    "import matplotlib.pyplot as plt\n",
    "import seaborn as sns\n",
    "\n",
    "from palmerpenguins import load_penguins\n",
    "\n",
    "from matplottoy.data import iris\n",
    "from matplottoy.encoders import color, position\n",
    "from matplottoy.artists import point, bar, utils\n",
    "\n",
    "spath = Path(\"../../../draft/figures/code/\")"
   ]
  },
  {
   "cell_type": "code",
   "execution_count": 5,
   "metadata": {},
   "outputs": [],
   "source": [
    "penguins = load_penguins()"
   ]
  },
  {
   "cell_type": "code",
   "execution_count": 6,
   "metadata": {},
   "outputs": [
    {
     "data": {
      "text/plain": [
       "{'species': dtype('O'),\n",
       " 'island': dtype('O'),\n",
       " 'bill_length_mm': dtype('float64'),\n",
       " 'bill_depth_mm': dtype('float64'),\n",
       " 'flipper_length_mm': dtype('float64'),\n",
       " 'body_mass_g': dtype('float64'),\n",
       " 'sex': dtype('O'),\n",
       " 'year': dtype('int64')}"
      ]
     },
     "execution_count": 6,
     "metadata": {},
     "output_type": "execute_result"
    }
   ],
   "source": [
    "dict(penguins.dtypes)"
   ]
  },
  {
   "cell_type": "code",
   "execution_count": 7,
   "metadata": {},
   "outputs": [
    {
     "data": {
      "text/html": [
       "<div>\n",
       "<style scoped>\n",
       "    .dataframe tbody tr th:only-of-type {\n",
       "        vertical-align: middle;\n",
       "    }\n",
       "\n",
       "    .dataframe tbody tr th {\n",
       "        vertical-align: top;\n",
       "    }\n",
       "\n",
       "    .dataframe thead th {\n",
       "        text-align: right;\n",
       "    }\n",
       "</style>\n",
       "<table border=\"1\" class=\"dataframe\">\n",
       "  <thead>\n",
       "    <tr style=\"text-align: right;\">\n",
       "      <th></th>\n",
       "      <th>index</th>\n",
       "      <th>species</th>\n",
       "    </tr>\n",
       "  </thead>\n",
       "  <tbody>\n",
       "    <tr>\n",
       "      <th>0</th>\n",
       "      <td>Adelie</td>\n",
       "      <td>152</td>\n",
       "    </tr>\n",
       "    <tr>\n",
       "      <th>1</th>\n",
       "      <td>Gentoo</td>\n",
       "      <td>124</td>\n",
       "    </tr>\n",
       "    <tr>\n",
       "      <th>2</th>\n",
       "      <td>Chinstrap</td>\n",
       "      <td>68</td>\n",
       "    </tr>\n",
       "  </tbody>\n",
       "</table>\n",
       "</div>"
      ],
      "text/plain": [
       "       index  species\n",
       "0     Adelie      152\n",
       "1     Gentoo      124\n",
       "2  Chinstrap       68"
      ]
     },
     "execution_count": 7,
     "metadata": {},
     "output_type": "execute_result"
    }
   ],
   "source": [
    "penguins['species'].value_counts().reset_index()"
   ]
  },
  {
   "cell_type": "code",
   "execution_count": 8,
   "metadata": {},
   "outputs": [],
   "source": [
    "table = iris.DataFrame(penguins['species'].value_counts().reset_index())"
   ]
  },
  {
   "cell_type": "code",
   "execution_count": 9,
   "metadata": {},
   "outputs": [
    {
     "data": {
      "text/plain": [
       "Index(['index', 'species'], dtype='object')"
      ]
     },
     "execution_count": 9,
     "metadata": {},
     "output_type": "execute_result"
    }
   ],
   "source": [
    "table.view().keys()"
   ]
  },
  {
   "cell_type": "code",
   "execution_count": 10,
   "metadata": {},
   "outputs": [],
   "source": [
    "fts = {'position':{'name':'index', \n",
    "                   'encoder': position.Nominal({'Adelie': 0,  'Chinstrap': 1, 'Gentoo': 2})},  \n",
    "        'length': {'name': 'species'},\n",
    "        'facecolors': {'name':'index', \n",
    "                       'encoder': color.Categorical({'Adelie':'#FF8C00',\n",
    "                                                'Gentoo':'#159090',\n",
    "                                                'Chinstrap':'#A034F0'})}}"
   ]
  },
  {
   "cell_type": "code",
   "execution_count": 11,
   "metadata": {},
   "outputs": [
    {
     "data": {
      "text/plain": [
       "0       Adelie\n",
       "1       Gentoo\n",
       "2    Chinstrap\n",
       "Name: index, dtype: object"
      ]
     },
     "execution_count": 11,
     "metadata": {},
     "output_type": "execute_result"
    }
   ],
   "source": [
    "table.view()['index']"
   ]
  },
  {
   "cell_type": "code",
   "execution_count": 12,
   "metadata": {},
   "outputs": [
    {
     "data": {
      "text/plain": [
       "<Figure size 432x288 with 1 Axes>"
      ]
     },
     "metadata": {
      "needs_background": "light"
     },
     "output_type": "display_data"
    },
    {
     "ename": "TypeError",
     "evalue": "assemble() missing 1 required positional argument: 'length'",
     "output_type": "error",
     "traceback": [
      "\u001b[0;31m---------------------------------------------------------------------------\u001b[0m\n\u001b[0;31mTypeError\u001b[0m                                 Traceback (most recent call last)",
      "File \u001b[0;34mC:\\Users\\story\\Anaconda3\\envs\\debug\\lib\\site-packages\\IPython\\core\\formatters.py\u001b[0m, in \u001b[0;32mcatch_format_error\u001b[0m:\nLine \u001b[0;34m224\u001b[0m:   r = method(\u001b[36mself\u001b[39;49;00m, *args, **kwargs)\n",
      "File \u001b[0;34mC:\\Users\\story\\Anaconda3\\envs\\debug\\lib\\site-packages\\IPython\\core\\formatters.py\u001b[0m, in \u001b[0;32m__call__\u001b[0m:\nLine \u001b[0;34m341\u001b[0m:   \u001b[34mreturn\u001b[39;49;00m printer(obj)\n",
      "File \u001b[0;34mC:\\Users\\story\\Anaconda3\\envs\\debug\\lib\\site-packages\\IPython\\core\\pylabtools.py\u001b[0m, in \u001b[0;32m<lambda>\u001b[0m:\nLine \u001b[0;34m248\u001b[0m:   png_formatter.for_type(Figure, \u001b[34mlambda\u001b[39;49;00m fig: print_figure(fig, \u001b[33m'\u001b[39;49;00m\u001b[33mpng\u001b[39;49;00m\u001b[33m'\u001b[39;49;00m, **kwargs))\n",
      "File \u001b[0;34mC:\\Users\\story\\Anaconda3\\envs\\debug\\lib\\site-packages\\IPython\\core\\pylabtools.py\u001b[0m, in \u001b[0;32mprint_figure\u001b[0m:\nLine \u001b[0;34m132\u001b[0m:   fig.canvas.print_figure(bytes_io, **kw)\n",
      "File \u001b[0;34mC:\\Users\\story\\Anaconda3\\envs\\debug\\lib\\site-packages\\matplotlib\\backend_bases.py\u001b[0m, in \u001b[0;32mprint_figure\u001b[0m:\nLine \u001b[0;34m2193\u001b[0m:  \u001b[36mself\u001b[39;49;00m.figure.draw(renderer)\n",
      "File \u001b[0;34mC:\\Users\\story\\Anaconda3\\envs\\debug\\lib\\site-packages\\matplotlib\\artist.py\u001b[0m, in \u001b[0;32mdraw_wrapper\u001b[0m:\nLine \u001b[0;34m41\u001b[0m:    \u001b[34mreturn\u001b[39;49;00m draw(artist, renderer, *args, **kwargs)\n",
      "File \u001b[0;34mC:\\Users\\story\\Anaconda3\\envs\\debug\\lib\\site-packages\\matplotlib\\figure.py\u001b[0m, in \u001b[0;32mdraw\u001b[0m:\nLine \u001b[0;34m1863\u001b[0m:  mimage._draw_list_compositing_images(\n",
      "File \u001b[0;34mC:\\Users\\story\\Anaconda3\\envs\\debug\\lib\\site-packages\\matplotlib\\image.py\u001b[0m, in \u001b[0;32m_draw_list_compositing_images\u001b[0m:\nLine \u001b[0;34m131\u001b[0m:   a.draw(renderer)\n",
      "File \u001b[0;34mC:\\Users\\story\\Anaconda3\\envs\\debug\\lib\\site-packages\\matplotlib\\artist.py\u001b[0m, in \u001b[0;32mdraw_wrapper\u001b[0m:\nLine \u001b[0;34m41\u001b[0m:    \u001b[34mreturn\u001b[39;49;00m draw(artist, renderer, *args, **kwargs)\n",
      "File \u001b[0;34mC:\\Users\\story\\Anaconda3\\envs\\debug\\lib\\site-packages\\matplotlib\\cbook\\deprecation.py\u001b[0m, in \u001b[0;32mwrapper\u001b[0m:\nLine \u001b[0;34m411\u001b[0m:   \u001b[34mreturn\u001b[39;49;00m func(*inner_args, **inner_kwargs)\n",
      "File \u001b[0;34mC:\\Users\\story\\Anaconda3\\envs\\debug\\lib\\site-packages\\matplotlib\\axes\\_base.py\u001b[0m, in \u001b[0;32mdraw\u001b[0m:\nLine \u001b[0;34m2747\u001b[0m:  mimage._draw_list_compositing_images(renderer, \u001b[36mself\u001b[39;49;00m, artists)\n",
      "File \u001b[0;34mC:\\Users\\story\\Anaconda3\\envs\\debug\\lib\\site-packages\\matplotlib\\image.py\u001b[0m, in \u001b[0;32m_draw_list_compositing_images\u001b[0m:\nLine \u001b[0;34m131\u001b[0m:   a.draw(renderer)\n",
      "File \u001b[0;34mc:\\users\\story\\projects\\proposal\\code\\matplottoy\\artists\\bar.py\u001b[0m, in \u001b[0;32mdraw\u001b[0m:\nLine \u001b[0;34m77\u001b[0m:    \u001b[36mself\u001b[39;49;00m.assemble(**visual)\n",
      "\u001b[0;31mTypeError\u001b[0m: assemble() missing 1 required positional argument: 'length'\n\u001b[0;31m---------------------------------------------------------------------------\u001b[0m"
     ]
    }
   ],
   "source": [
    "fig, ax = plt.subplots()\n",
    "\n",
    "artistv = bar.Bar(table, fts, orientation='v')\n",
    "ax.add_artist(artistv)\n",
    "ax.set(xlim = (-0.5, 3.5), \n",
    "       ylim = (0,200),\n",
    "       xticks = [.4, 1.4, 2.4],\n",
    "       xticklabels = table.view(None)['index'])\n",
    "fig.savefig(spath/\"bar_v.png\")"
   ]
  },
  {
   "cell_type": "code",
   "execution_count": null,
   "metadata": {},
   "outputs": [],
   "source": [
    "[ k, {e, n} for k, {e,n} in transforms.items()"
   ]
  },
  {
   "cell_type": "code",
   "execution_count": null,
   "metadata": {},
   "outputs": [],
   "source": [
    "fig, ax = plt.subplots()\n",
    "\n",
    "artisth = bar.Bar(table, fts, orientation='horizontal')\n",
    "ax.add_artist(artisth)\n",
    "ax.set(ylim = (-0.5, 3.5), \n",
    "       xlim = (0,200),\n",
    "       yticks = [.4, 1.4, 2.4],\n",
    "       yticklabels = table.view(None)['index'])\n",
    "fig.savefig(spath/\"bar_h.png\")"
   ]
  },
  {
   "cell_type": "markdown",
   "metadata": {},
   "source": [
    "# grouped bar"
   ]
  },
  {
   "cell_type": "code",
   "execution_count": null,
   "metadata": {},
   "outputs": [],
   "source": [
    "penguins"
   ]
  },
  {
   "cell_type": "code",
   "execution_count": null,
   "metadata": {},
   "outputs": [],
   "source": [
    "df = penguins.groupby(['island','species']).count()['sex'].reset_index()"
   ]
  },
  {
   "cell_type": "code",
   "execution_count": null,
   "metadata": {},
   "outputs": [],
   "source": [
    "tb = df.pivot(index=['island'], columns=['species'], values = 'sex').reset_index().fillna(0)"
   ]
  },
  {
   "cell_type": "code",
   "execution_count": null,
   "metadata": {},
   "outputs": [],
   "source": [
    "tb['Adelie_s'] = 'Adelie'\n",
    "tb['Chinstrap_s'] = 'Chinstrap'\n",
    "tb['Gentoo_s'] = 'Gentoo'"
   ]
  },
  {
   "cell_type": "code",
   "execution_count": null,
   "metadata": {},
   "outputs": [],
   "source": [
    " df.pivot(index=['island'], columns=['species'], values = 'sex').reset_index().plot.bar(stacked=True)"
   ]
  },
  {
   "cell_type": "code",
   "execution_count": null,
   "metadata": {},
   "outputs": [],
   "source": [
    "df.pivot(index=['island'], columns=['species'], values = 'sex').reset_index().plot.bar(stacked=False)"
   ]
  },
  {
   "cell_type": "code",
   "execution_count": null,
   "metadata": {},
   "outputs": [],
   "source": [
    "bt = iris.DataFrame(tb)"
   ]
  },
  {
   "cell_type": "code",
   "execution_count": null,
   "metadata": {},
   "outputs": [],
   "source": [
    "bt.view()"
   ]
  },
  {
   "cell_type": "code",
   "execution_count": null,
   "metadata": {},
   "outputs": [],
   "source": [
    "cmap = color.Categorical({'Adelie':'#FF8C00', 'Gentoo':'#159090','Chinstrap':'#A034F0'})\n",
    "ts = {'position': {'name':'island',\n",
    "                    'encoder': position.Nominal({'Biscoe':0.1, 'Dream':1.1, 'Torgersen':2.1})}} \n",
    "mgts = {'length': {'name': ['Adelie', 'Chinstrap', 'Gentoo']},\n",
    "        'facecolors': {'name': ['Adelie_s', 'Chinstrap_s', 'Gentoo_s'], \n",
    "                       'encoder': cmap}} \n",
    "sgts = {'length':{'name': ['Adelie']},\n",
    "        'facecolors' :{'name':['Adelie_s'], 'encoder':cmap}}"
   ]
  },
  {
   "cell_type": "code",
   "execution_count": null,
   "metadata": {},
   "outputs": [],
   "source": [
    "group_transforms =  [{'length': {'name':'Adelie'},\n",
    "                      'facecolors': {'name':\"Adelie_s\", 'encoder':cmap}},\n",
    "                     {'length': {'name':'Chinstrap'},\n",
    "                      'facecolors': {'name':\"Chinstrap_s\", 'encoder':cmap}}, \n",
    "                     {'length': {'name':'Gentoo'},\n",
    "                      'facecolors': {'name':\"Gentoo_s\", 'encoder':cmap}}]"
   ]
  },
  {
   "cell_type": "code",
   "execution_count": null,
   "metadata": {},
   "outputs": [],
   "source": [
    "fig, ax = plt.subplots()\n",
    "artistSB = bar.StackedBar(bt, ts, group_transforms)\n",
    "ax.add_artist(artistSB)\n",
    "_ = ax.set(ylim = (0, 170), \n",
    "       xlim = (-.5, 3.5),   \n",
    "       xlabel = fts['position']['name'], \n",
    "       ylabel = fts['length']['name'], )"
   ]
  },
  {
   "cell_type": "code",
   "execution_count": null,
   "metadata": {},
   "outputs": [],
   "source": [
    "fig, ax = plt.subplots()\n",
    "artistGB = bar.GroupedBar(bt, ts, group_transforms)\n",
    "ax.add_artist(artistGB)\n",
    "_ = ax.set(ylim = (0, 170), \n",
    "       xlim = (-.5, 3.5),   \n",
    "       xlabel = fts['position']['name'], \n",
    "       ylabel = fts['length']['name'], )"
   ]
  },
  {
   "cell_type": "code",
   "execution_count": null,
   "metadata": {},
   "outputs": [],
   "source": [
    "ax.add_artist?"
   ]
  },
  {
   "cell_type": "code",
   "execution_count": null,
   "metadata": {},
   "outputs": [],
   "source": [
    "%matplotlib inline\n",
    "import matplotlib.path as mpath\n",
    "import matplotlib.patches as mpatches\n",
    "\n",
    "fig, (ax1, ax2, ax3) = plt.subplots(nrows=3, constrained_layout=True)\n",
    "for a in artistv._paths:\n",
    "    path = mpath.Path(a.vertices, a.codes, closed=True)\n",
    "    patch = mpatches.PathPatch(path)\n",
    "    ax1.add_patch(patch)\n",
    "_ = ax1.set(ylim = (0, 160), xlim = (-0.25, 3))\n",
    "for c, col in zip(artistSB.children, ['C0', 'C1', 'C2']):\n",
    "    for a in c._paths:\n",
    "        path = mpath.Path(a.vertices, a.codes, closed=True)\n",
    "        patch = mpatches.PathPatch(path, color=col)\n",
    "        ax2.add_patch(patch)\n",
    "_ = ax2.set(ylim = (0, 170), xlim = (-0, 3))\n",
    "for c, col in zip(artistGB.children, ['C0', 'C1', 'C2']):\n",
    "    for a in c._paths:\n",
    "        path = mpath.Path(a.vertices, a.codes, closed=True)\n",
    "        patch = mpatches.PathPatch(path, color=col)\n",
    "        ax3.add_patch(patch)\n",
    "_ = ax3.set(ylim = (0, 170), xlim = (-0, 3))"
   ]
  },
  {
   "cell_type": "code",
   "execution_count": null,
   "metadata": {},
   "outputs": [],
   "source": []
  }
 ],
 "metadata": {
  "kernelspec": {
   "display_name": "Python 3.9 (XPython)",
   "language": "python",
   "name": "xpython"
  },
  "language_info": {
   "file_extension": ".py",
   "mimetype": "text/x-python",
   "name": "python",
   "version": "3.9.1"
  }
 },
 "nbformat": 4,
 "nbformat_minor": 4
}
