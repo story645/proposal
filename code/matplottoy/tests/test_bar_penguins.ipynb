{
 "cells": [
  {
   "cell_type": "code",
   "execution_count": null,
   "metadata": {},
   "outputs": [],
   "source": [
    "%load_ext autoreload"
   ]
  },
  {
   "cell_type": "code",
   "execution_count": null,
   "metadata": {},
   "outputs": [],
   "source": [
    "%autoreload 2"
   ]
  },
  {
   "cell_type": "code",
   "execution_count": 1,
   "metadata": {},
   "outputs": [
    {
     "ename": "ModuleNotFoundError",
     "evalue": "No module named 'matplottoy'",
     "output_type": "error",
     "traceback": [
      "\u001b[0;31m---------------------------------------------------------------------------\u001b[0m\n\u001b[0;31mModuleNotFoundError\u001b[0m                       Traceback (most recent call last)",
      "File \u001b[0;34mC:\\Users\\story\\Anaconda3\\envs\\debug\\lib\\site-packages\\IPython\\core\\interactiveshell.py\u001b[0m, in \u001b[0;32mrun_code\u001b[0m:\nLine \u001b[0;34m3427\u001b[0m:  exec(code_obj, \u001b[36mself\u001b[39;49;00m.user_global_ns, \u001b[36mself\u001b[39;49;00m.user_ns)\n",
      "In  \u001b[0;34m[1]\u001b[0m:\nLine \u001b[0;34m12\u001b[0m:    \u001b[34mfrom\u001b[39;49;00m \u001b[04m\u001b[36mmatplottoy\u001b[39;49;00m\u001b[04m\u001b[36m.\u001b[39;49;00m\u001b[04m\u001b[36mdata\u001b[39;49;00m \u001b[34mimport\u001b[39;49;00m iris\n",
      "\u001b[0;31mModuleNotFoundError\u001b[0m: No module named 'matplottoy'\n\u001b[0;31m---------------------------------------------------------------------------\u001b[0m"
     ]
    }
   ],
   "source": [
    "%matplotlib inline\n",
    "\n",
    "from pathlib import Path\n",
    "import itertools\n",
    "\n",
    "import numpy as np\n",
    "import matplotlib.pyplot as plt\n",
    "import seaborn as sns\n",
    "\n",
    "from palmerpenguins import load_penguins\n",
    "\n",
    "from matplottoy.data import iris\n",
    "from matplottoy.encoders import color, position\n",
    "from matplottoy.artists import point, bar, utils\n",
    "\n",
    "spath = Path(\"../../../draft/figures/code/\")"
   ]
  },
  {
   "cell_type": "code",
   "execution_count": null,
   "metadata": {},
   "outputs": [],
   "source": [
    "penguins = load_penguins()"
   ]
  },
  {
   "cell_type": "code",
   "execution_count": null,
   "metadata": {},
   "outputs": [],
   "source": [
    "penguins['species'].value_counts().reset_index()"
   ]
  },
  {
   "cell_type": "code",
   "execution_count": null,
   "metadata": {},
   "outputs": [],
   "source": [
    "table = iris.DataFrame(penguins['species'].value_counts().reset_index())"
   ]
  },
  {
   "cell_type": "code",
   "execution_count": null,
   "metadata": {},
   "outputs": [],
   "source": [
    "fts = {'position':{'name':'index', \n",
    "                   'encoder': position.Nominal({'Adelie': 0,  'Chinstrap': 1, 'Gentoo': 2})},  \n",
    "        'length': {'name': 'species'},\n",
    "        'facecolors': {'name':'index', \n",
    "                       'encoder': color.Categorical({'Adelie':'#FF8C00',\n",
    "                                                'Gentoo':'#159090',\n",
    "                                                'Chinstrap':'#A034F0'})}}"
   ]
  },
  {
   "cell_type": "code",
   "execution_count": null,
   "metadata": {},
   "outputs": [],
   "source": [
    "table.view()['index']"
   ]
  },
  {
   "cell_type": "code",
   "execution_count": null,
   "metadata": {},
   "outputs": [],
   "source": [
    "fig, ax = plt.subplots()\n",
    "\n",
    "artistv = bar.Bar(table, fts, orientation='v')\n",
    "ax.add_artist(artistv)\n",
    "ax.set(xlim = (-0.5, 3.5), \n",
    "       ylim = (0,200),\n",
    "       xticks = [.4, 1.4, 2.4],\n",
    "       xticklabels = table.view(None)['index'])\n",
    "fig.savefig(spath/\"bar_v.png\")"
   ]
  },
  {
   "cell_type": "code",
   "execution_count": null,
   "metadata": {},
   "outputs": [],
   "source": [
    "fig, ax = plt.subplots()\n",
    "\n",
    "artisth = bar.Bar(table, fts, orientation='horizontal')\n",
    "ax.add_artist(artisth)\n",
    "ax.set(ylim = (-0.5, 3.5), \n",
    "       xlim = (0,200),\n",
    "       yticks = [.4, 1.4, 2.4],\n",
    "       yticklabels = table.view(None)['index'])\n",
    "fig.savefig(spath/\"bar_h.png\")"
   ]
  },
  {
   "cell_type": "markdown",
   "metadata": {},
   "source": [
    "# grouped bar"
   ]
  },
  {
   "cell_type": "code",
   "execution_count": null,
   "metadata": {},
   "outputs": [],
   "source": [
    "penguins"
   ]
  },
  {
   "cell_type": "code",
   "execution_count": null,
   "metadata": {},
   "outputs": [],
   "source": [
    "df = penguins.groupby(['island','species']).count()['sex'].reset_index()"
   ]
  },
  {
   "cell_type": "code",
   "execution_count": null,
   "metadata": {},
   "outputs": [],
   "source": [
    "tb = df.pivot(index=['island'], columns=['species'], values = 'sex').reset_index().fillna(0)"
   ]
  },
  {
   "cell_type": "code",
   "execution_count": null,
   "metadata": {},
   "outputs": [],
   "source": [
    "tb['Adelie_s'] = 'Adelie'\n",
    "tb['Chinstrap_s'] = 'Chinstrap'\n",
    "tb['Gentoo_s'] = 'Gentoo'"
   ]
  },
  {
   "cell_type": "code",
   "execution_count": null,
   "metadata": {},
   "outputs": [],
   "source": [
    " df.pivot(index=['island'], columns=['species'], values = 'sex').reset_index().plot.bar(stacked=True)"
   ]
  },
  {
   "cell_type": "code",
   "execution_count": null,
   "metadata": {},
   "outputs": [],
   "source": [
    "bt = iris.DataFrame(tb)"
   ]
  },
  {
   "cell_type": "code",
   "execution_count": null,
   "metadata": {},
   "outputs": [],
   "source": [
    "bt.view()"
   ]
  },
  {
   "cell_type": "code",
   "execution_count": null,
   "metadata": {},
   "outputs": [],
   "source": [
    "cmap = color.Categorical({'Adelie':'#FF8C00', 'Gentoo':'#159090','Chinstrap':'#A034F0'})\n",
    "ts = {'position': {'name':'island',\n",
    "                    'encoder': position.Nominal({'Biscoe':0, 'Dream':1, 'Torgersen':2})}} \n",
    "mgts = {'length': {'name': ['Adelie', 'Chinstrap', 'Gentoo']},\n",
    "        'facecolors': {'name': ['Adelie_s', 'Chinstrap_s', 'Gentoo_s'], \n",
    "                       'encoder': cmap}} \n",
    "sgts = {'length':{'name': ['Adelie']},\n",
    "        'facecolors' :{'name':['Adelie_s'], 'encoder':cmap}}"
   ]
  },
  {
   "cell_type": "code",
   "execution_count": null,
   "metadata": {},
   "outputs": [],
   "source": [
    "group_transforms =  [{'length': {'name':'Adelie'},\n",
    "                      'facecolors': {'name':\"Adelie_s\", 'encoder':cmap}},\n",
    "                     {'length': {'name':'Chinstrap'},\n",
    "                      'facecolors': {'name':\"Chinstrap_s\", 'encoder':cmap}}, \n",
    "                     {'length': {'name':'Gentoo'},\n",
    "                      'facecolors': {'name':\"Gentoo_s\", 'encoder':cmap}}]"
   ]
  },
  {
   "cell_type": "code",
   "execution_count": null,
   "metadata": {},
   "outputs": [],
   "source": [
    "fig, ax = plt.subplots()\n",
    "artists = bar.StackedBar(bt, ts, group_transforms[:2])\n",
    "ax.add_artist(artists)\n",
    "_ = ax.set(ylim = (0, 140), \n",
    "       xlim = (-.5, 3.5),   \n",
    "       xlabel = fts['position']['name'], \n",
    "       ylabel = fts['length']['name'], )"
   ]
  },
  {
   "cell_type": "code",
   "execution_count": null,
   "metadata": {},
   "outputs": [],
   "source": [
    "artists.children[0]._paths"
   ]
  },
  {
   "cell_type": "code",
   "execution_count": null,
   "metadata": {},
   "outputs": [],
   "source": [
    "%matplotlib inline\n",
    "import matplotlib.path as mpath\n",
    "import matplotlib.patches as mpatches\n",
    "\n",
    "fig, (ax1, ax2) = plt.subplots(nrows=2)\n",
    "for a in artistv._paths:\n",
    "    path = mpath.Path(a.vertices, a.codes, closed=True)\n",
    "    patch = mpatches.PathPatch(path)\n",
    "    ax1.add_patch(patch)\n",
    "_ = ax1.set(ylim = (0, 160), xlim = (-.5, 3.5))\n",
    "for c, col in zip(artists.children, ['C0', 'C1', 'C2']):\n",
    "    for a in c._paths:\n",
    "        path = mpath.Path(a.vertices, a.codes, closed=True)\n",
    "        patch = mpatches.PathPatch(path, color=col)\n",
    "        ax2.add_patch(patch)\n",
    "\n",
    "_ = ax2.set(ylim = (0, 200), xlim = (-.5, 3.5))"
   ]
  },
  {
   "cell_type": "code",
   "execution_count": null,
   "metadata": {},
   "outputs": [],
   "source": [
    "artists.children[0]._paths"
   ]
  },
  {
   "cell_type": "code",
   "execution_count": null,
   "metadata": {},
   "outputs": [],
   "source": [
    "np.array(artists.children[1].transforms['floor'])"
   ]
  },
  {
   "cell_type": "code",
   "execution_count": null,
   "metadata": {},
   "outputs": [],
   "source": [
    "np.array(artists.children[0].transforms['floor'])"
   ]
  },
  {
   "cell_type": "code",
   "execution_count": null,
   "metadata": {},
   "outputs": [],
   "source": [
    "bt.view()[artists.children[0].transforms['length']['name']]"
   ]
  },
  {
   "cell_type": "markdown",
   "metadata": {},
   "source": [
    "# "
   ]
  },
  {
   "cell_type": "code",
   "execution_count": null,
   "metadata": {},
   "outputs": [],
   "source": [
    "bt.view()[artists.children[1].transforms['length']['name']]"
   ]
  },
  {
   "cell_type": "code",
   "execution_count": null,
   "metadata": {},
   "outputs": [],
   "source": [
    "bt.view()[artists.children[2].transforms['length']['name']]"
   ]
  },
  {
   "cell_type": "code",
   "execution_count": null,
   "metadata": {},
   "outputs": [],
   "source": [
    "list(zip([1,2,3], [2,3], [1]))"
   ]
  },
  {
   "cell_type": "code",
   "execution_count": null,
   "metadata": {},
   "outputs": [],
   "source": [
    "list(itertools.zip_longest([1,2,3], [2,3], [1]))"
   ]
  },
  {
   "cell_type": "code",
   "execution_count": null,
   "metadata": {},
   "outputs": [],
   "source": []
  }
 ],
 "metadata": {
  "kernelspec": {
   "display_name": "Python 3.9 (XPython)",
   "language": "python",
   "name": "xpython"
  },
  "language_info": {
   "file_extension": ".py",
   "mimetype": "text/x-python",
   "name": "python",
   "version": "3.9.1"
  }
 },
 "nbformat": 4,
 "nbformat_minor": 4
}
