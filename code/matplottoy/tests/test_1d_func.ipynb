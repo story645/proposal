{
 "cells": [
  {
   "cell_type": "code",
   "execution_count": 4,
   "metadata": {},
   "outputs": [
    {
     "name": "stdout",
     "output_type": "stream",
     "text": [
      "The autoreload extension is already loaded. To reload it, use:\n",
      "  %reload_ext autoreload\n"
     ]
    }
   ],
   "source": [
    "%load_ext autoreload"
   ]
  },
  {
   "cell_type": "code",
   "execution_count": 5,
   "metadata": {},
   "outputs": [],
   "source": [
    "%autoreload 2"
   ]
  },
  {
   "cell_type": "code",
   "execution_count": 23,
   "metadata": {},
   "outputs": [],
   "source": [
    "%matplotlib inline\n",
    "\n",
    "from functools import partial\n",
    "import itertools\n",
    "from pathlib import Path\n",
    "\n",
    "import numpy as np\n",
    "import matplotlib.pyplot as plt\n",
    "\n",
    "from matplottoy.data import simplex\n",
    "from matplottoy.encoders import position, color\n",
    "from matplottoy.artists import line, point\n",
    "\n",
    "import utils\n",
    "spath = Path(\"../../../draft/figures/code/\")"
   ]
  },
  {
   "cell_type": "code",
   "execution_count": 24,
   "metadata": {},
   "outputs": [],
   "source": [
    "x = [lambda distances: distances, \n",
    "     lambda distances: np.cos(distances*(np.pi-np.pi/2) + np.pi/2)+2,\n",
    "     lambda distances: np.cos(distances*(np.pi/2-np.pi)+np.pi/2)+2,\n",
    "     lambda distances: distances + edge]"
   ]
  },
  {
   "cell_type": "code",
   "execution_count": 25,
   "metadata": {},
   "outputs": [],
   "source": [
    "y = [lambda distance: 0 * distances, \n",
    "     lambda distances: np.sin(distances*(np.pi-np.pi/2) + np.pi/2),\n",
    "     lambda distances: np.sin(distances*(np.pi/2-np.pi)+np.pi/2),\n",
    "     lambda distances: 0 * distances\n",
    "     ]"
   ]
  },
  {
   "cell_type": "code",
   "execution_count": 26,
   "metadata": {},
   "outputs": [],
   "source": [
    "colors = [lambda distances : \"red\",\n",
    "         lambda distances : \"green\",\n",
    "         lambda distances : \"orange\",\n",
    "         lambda distances : \"blue\"\n",
    "]"
   ]
  },
  {
   "cell_type": "code",
   "execution_count": 27,
   "metadata": {},
   "outputs": [
    {
     "data": {
      "image/png": "[encoded data removed]",
      "text/plain": [
       "<Figure size 432x288 with 1 Axes>"
      ]
     },
     "metadata": {
      "needs_background": "light"
     },
     "output_type": "display_data"
    }
   ],
   "source": [
    "fig, ax = plt.subplots()\n",
    "distances = np.linspace(0,1,1000)\n",
    "for edge in range(4):\n",
    "    ax.plot(x[edge](distances), y[edge](distances), color=colors[edge](distances))\n",
    "ax.set_aspect('equal')"
   ]
  },
  {
   "cell_type": "code",
   "execution_count": 28,
   "metadata": {},
   "outputs": [],
   "source": [
    "#implict edge id is the index/loc in the array\n",
    "vertex_table = [(0,1), (1,2), (2,3), (3,4)]\n",
    "edge_table = {'x':x, 'y':y, 'color':colors}"
   ]
  },
  {
   "cell_type": "code",
   "execution_count": 29,
   "metadata": {},
   "outputs": [],
   "source": [
    "data = simplex.ContinuousLine(edge_table, vertex_table)"
   ]
  },
  {
   "cell_type": "code",
   "execution_count": 30,
   "metadata": {},
   "outputs": [],
   "source": [
    "# data subsamples, \n",
    "# tau converts to axis coordinates\n",
    "transforms = {'x': ('x', position.Identity()),\n",
    "              'y': ('y', position.Identity()),\n",
    "              'color': ('color', color.Identity())}"
   ]
  },
  {
   "cell_type": "code",
   "execution_count": 31,
   "metadata": {},
   "outputs": [
    {
     "data": {
      "text/plain": [
       "dict_keys(['index', 'x', 'y', 'color'])"
      ]
     },
     "execution_count": 31,
     "metadata": {},
     "output_type": "execute_result"
    }
   ],
   "source": [
    "data.view(\"edge\").keys()"
   ]
  },
  {
   "cell_type": "code",
   "execution_count": 32,
   "metadata": {},
   "outputs": [
    {
     "data": {
      "image/png": "[encoded data removed]",
      "text/plain": [
       "<Figure size 432x288 with 1 Axes>"
      ]
     },
     "metadata": {
      "needs_background": "light"
     },
     "output_type": "display_data"
    }
   ],
   "source": [
    "fig, ax = plt.subplots()\n",
    "\n",
    "artist = line.Line(data, transforms)\n",
    "ax.add_artist(artist)\n",
    "ax.set(xlim = utils.mnx(data.FB.F[transforms['x'][0]]['range']),\n",
    "       ylim = (-.25, 1.25), \n",
    "       xlabel = transforms['x'][0], \n",
    "       ylabel = transforms['y'][0], \n",
    "       aspect='equal')\n",
    "fig.savefig(spath/\"line_1.png\")"
   ]
  },
  {
   "cell_type": "code",
   "execution_count": 33,
   "metadata": {},
   "outputs": [],
   "source": [
    "transforms_0d = {'x': ('x', position.Identity()),       \n",
    "                 'y': ('y', position.Identity()),\n",
    "                 'facecolors': ('color', color.Identity()),\n",
    "                 's': (None, lambda x: itertools.repeat(.05))} "
   ]
  },
  {
   "cell_type": "code",
   "execution_count": 34,
   "metadata": {},
   "outputs": [
    {
     "data": {
      "text/plain": [
       "[(0.0, 4.0), (-0.25, 1.25), Text(0.5, 0, 'x'), Text(0, 0.5, 'y'), None]"
      ]
     },
     "execution_count": 34,
     "metadata": {},
     "output_type": "execute_result"
    },
    {
     "data": {
      "image/png": "[encoded data removed]",
      "text/plain": [
       "<Figure size 432x288 with 1 Axes>"
      ]
     },
     "metadata": {
      "needs_background": "light"
     },
     "output_type": "display_data"
    }
   ],
   "source": [
    "fig, ax = plt.subplots()\n",
    "\n",
    "artist = point.Point(data, transforms_0d)\n",
    "ax.add_artist(artist)\n",
    "ax.set(xlim = utils.mnx(data.FB.F[transforms['x'][0]]['range']),\n",
    "       ylim = (-.25, 1.25), \n",
    "       xlabel = transforms['x'][0], \n",
    "       ylabel = transforms['y'][0], \n",
    "       aspect='equal')\n"
   ]
  },
  {
   "cell_type": "code",
   "execution_count": 35,
   "metadata": {},
   "outputs": [],
   "source": [
    "transforms_0df = {'y': ('x', position.Identity()),       \n",
    "                  'x': ('y', position.Identity()),\n",
    "                 'facecolors': ('color', color.Identity())} "
   ]
  },
  {
   "cell_type": "code",
   "execution_count": null,
   "metadata": {},
   "outputs": [],
   "source": [
    "fig, ax = plt.subplots()\n",
    "\n",
    "artist = point.Point(data, transforms_0df)\n",
    "ax.add_artist(artist)\n",
    "ax.set(xlim = (-.25,1.25),\n",
    "       ylim = (0,4), \n",
    "       xlabel = transforms['x'][0], \n",
    "       ylabel = transforms['y'][0], \n",
    "       aspect='equal')"
   ]
  },
  {
   "cell_type": "code",
   "execution_count": null,
   "metadata": {},
   "outputs": [],
   "source": [
    "import random\n",
    "shuffled_data = list(zip(x,y,colors, vertex_table))\n",
    "random.shuffle(shuffled_data)\n",
    "xs, ys, cs, vs = zip(*shuffled_data)"
   ]
  },
  {
   "cell_type": "code",
   "execution_count": null,
   "metadata": {},
   "outputs": [],
   "source": [
    "vs"
   ]
  },
  {
   "cell_type": "code",
   "execution_count": null,
   "metadata": {},
   "outputs": [],
   "source": [
    "table = simplex.ContinuousLine({'x':xs, 'y':ys, 'color':cs}, vs)"
   ]
  },
  {
   "cell_type": "code",
   "execution_count": null,
   "metadata": {},
   "outputs": [],
   "source": [
    "cmap = {'red':'hotpink', 'green':'lightblue', 'orange':'hotpink', 'blue':'lightblue'}\n",
    "transforms = {'x': ('x', position.Identity()),\n",
    "              'y': ('y', position.Identity()),\n",
    "              'color': ('color', color.Categorical(cmap))}"
   ]
  },
  {
   "cell_type": "code",
   "execution_count": null,
   "metadata": {},
   "outputs": [],
   "source": [
    "fig, ax = plt.subplots()\n",
    "\n",
    "artist = line.Line(data, transforms)\n",
    "ax.add_artist(artist)\n",
    "ax.set(xlim = utils.mnx(data.FB.F[transforms['x'][0]]['range']),\n",
    "       ylim = (-.25, 1.25), \n",
    "       xlabel = transforms['x'][0], \n",
    "       ylabel = transforms['y'][0], \n",
    "       aspect='equal')"
   ]
  },
  {
   "cell_type": "code",
   "execution_count": null,
   "metadata": {},
   "outputs": [],
   "source": [
    "np.linspace(0,1,2)"
   ]
  },
  {
   "cell_type": "code",
   "execution_count": null,
   "metadata": {},
   "outputs": [],
   "source": [
    "def sline(distances, start, stop):\n",
    "    return distances*(stop-start) + start\n",
    "\n",
    "def const(distances, pos):\n",
    "    if isinstance(distances, float):\n",
    "        return pos\n",
    "    return np.ones(distances.shape)*pos\n",
    "\n",
    "x = [lambda distances: const(distances, 0),\n",
    "     lambda distances: sline(distances, 0, 2),\n",
    "     lambda distances: const(distances, 2),\n",
    "     lambda distances: sline(distances, 2, 5),\n",
    "     lambda distances: const(distances, 5),\n",
    "     lambda distances: sline(distances, 5, 9),\n",
    "     lambda distances: const(distances, 9), \n",
    "     lambda distances: sline(distances, 9, 10),\n",
    "     lambda distances: const(distances, 10),\n",
    "     lambda distances: sline(distances, 10,12),]\n",
    "\n",
    "y = [lambda distances: sline(distances, 0, 1),\n",
    "     lambda distances: const(distances, 1),\n",
    "     lambda distances: sline(distances, 1, 0),\n",
    "     lambda distances: const(distances, 0),\n",
    "     lambda distances: sline(distances, 0, 1),\n",
    "     lambda distances: const(distances, 1),\n",
    "     lambda distances: sline(distances, 1, 2),\n",
    "     lambda distances: const(distances, 2),\n",
    "     lambda distances: sline(distances, 2 , 0), \n",
    "     lambda distances: const(distances, 0)]\n",
    "vertex_table = list(zip(range(len(x)), range(1, len(y)+1)))"
   ]
  },
  {
   "cell_type": "code",
   "execution_count": null,
   "metadata": {},
   "outputs": [],
   "source": [
    "data = simplex.DiscontinousLine({'x':x, 'y':y}, vertex_table)"
   ]
  },
  {
   "cell_type": "code",
   "execution_count": null,
   "metadata": {},
   "outputs": [],
   "source": [
    "transforms = {'x': ('x', position.Identity()),\n",
    "              'y': ('y', position.Identity())}"
   ]
  },
  {
   "cell_type": "code",
   "execution_count": null,
   "metadata": {},
   "outputs": [],
   "source": [
    "data.view()"
   ]
  },
  {
   "cell_type": "code",
   "execution_count": null,
   "metadata": {},
   "outputs": [],
   "source": [
    "fig, ax = plt.subplots()\n",
    "\n",
    "artist = line.Line(data, transforms)\n",
    "ax.add_artist(artist)\n",
    "ax.set(xlim=(-0.5,12.5), ylim=(-0.25,2.5))"
   ]
  },
  {
   "cell_type": "code",
   "execution_count": null,
   "metadata": {},
   "outputs": [],
   "source": []
  }
 ],
 "metadata": {
  "kernelspec": {
   "display_name": "Python 3.7.4 64-bit ('mplrelease': conda)",
   "language": "python",
   "name": "python37464bitmplreleaseconda953a5d05f1cf4d5db783b13a33a22e5d"
  },
  "language_info": {
   "codemirror_mode": {
    "name": "ipython",
    "version": 3
   },
   "file_extension": ".py",
   "mimetype": "text/x-python",
   "name": "python",
   "nbconvert_exporter": "python",
   "pygments_lexer": "ipython3",
   "version": "3.8.5-final"
  }
 },
 "nbformat": 4,
 "nbformat_minor": 4
}
