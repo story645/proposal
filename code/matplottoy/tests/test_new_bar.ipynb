{
 "cells": [
  {
   "cell_type": "code",
   "execution_count": 1,
   "source": [
    "%load_ext autoreload"
   ],
   "outputs": [],
   "metadata": {}
  },
  {
   "cell_type": "code",
   "execution_count": 2,
   "source": [
    "%autoreload 2"
   ],
   "outputs": [],
   "metadata": {}
  },
  {
   "cell_type": "code",
   "execution_count": 16,
   "source": [
    "%matplotlib inline\r\n",
    "from pathlib import Path\r\n",
    "import functools\r\n",
    "import itertools\r\n",
    "from dataclasses import dataclass, fields\r\n",
    "\r\n",
    "import pandas as pd\r\n",
    "import numpy as np\r\n",
    "\r\n",
    "import matplotlib.colors as mcolors\r\n",
    "import matplotlib.pyplot as plt\r\n",
    "from matplotlib import rcParams \r\n",
    "\r\n",
    "from matplottoy.data import fruit\r\n",
    "from matplottoy.encoders import color, position\r\n",
    "from matplottoy.artists import point, bar, utils\r\n",
    "\r\n",
    "\r\n",
    "spath = Path(\"../../../draft/figures/code/\")\r\n",
    "rcParams['figure.dpi'] = 200"
   ],
   "outputs": [],
   "metadata": {}
  },
  {
   "cell_type": "code",
   "execution_count": 17,
   "source": [
    "data = {'fruit': ['apple', 'orange', 'lemon', 'lime'], \r\n",
    "       'calories':[95, 67, 17, 20], \r\n",
    "       'juice':[True, True, False, False]}\r\n",
    "df = pd.DataFrame(data)"
   ],
   "outputs": [],
   "metadata": {}
  },
  {
   "cell_type": "code",
   "execution_count": 18,
   "source": [
    "data = fruit.FruitSection(df)"
   ],
   "outputs": [],
   "metadata": {}
  },
  {
   "cell_type": "code",
   "execution_count": 19,
   "source": [
    "df.index.inferred_type"
   ],
   "outputs": [
    {
     "output_type": "execute_result",
     "data": {
      "text/plain": [
       "'integer'"
      ]
     },
     "metadata": {},
     "execution_count": 19
    }
   ],
   "metadata": {}
  },
  {
   "cell_type": "code",
   "execution_count": 20,
   "source": [
    "data.local_section({'calories':(17, 20)})"
   ],
   "outputs": [
    {
     "output_type": "execute_result",
     "data": {
      "text/plain": [
       "FruitSection(section=   fruit  calories  juice\n",
       "2  lemon        17  False\n",
       "3   lime        20  False)"
      ]
     },
     "metadata": {},
     "execution_count": 20
    }
   ],
   "metadata": {}
  },
  {
   "cell_type": "code",
   "execution_count": 21,
   "source": [
    "data.projection('fruit').values()"
   ],
   "outputs": [
    {
     "output_type": "execute_result",
     "data": {
      "text/plain": [
       "array(['apple', 'orange', 'lemon', 'lime'], dtype=object)"
      ]
     },
     "metadata": {},
     "execution_count": 21
    }
   ],
   "metadata": {}
  },
  {
   "cell_type": "code",
   "execution_count": 22,
   "source": [
    "# should K be up front or last?\r\n",
    "def constant_color(c):\r\n",
    "     return lambda x: [mcolors.to_rgba(c) for _ in x]\r\n",
    "\r\n",
    "def constant_value(v):\r\n",
    "     return lambda x: [v for _ in x]"
   ],
   "outputs": [],
   "metadata": {}
  },
  {
   "cell_type": "code",
   "execution_count": 23,
   "source": [
    "constant_color('k')([1,2,3,4])\r\n",
    "constant_value(1)([1,2,3,4])"
   ],
   "outputs": [
    {
     "output_type": "execute_result",
     "data": {
      "text/plain": [
       "[1, 1, 1, 1]"
      ]
     },
     "metadata": {},
     "execution_count": 23
    }
   ],
   "metadata": {}
  },
  {
   "cell_type": "code",
   "execution_count": 24,
   "source": [
    "V = {'height': bar.Mu(lambda x : x, 'calories'), \r\n",
    "     'position': bar.Mu(position.Nominal({'apple': 0, 'orange': 2, 'lemon': 4, 'lime': 6}), 'fruit'),\r\n",
    "     'floor': bar.Mu(constant_value(0), None), \r\n",
    "     'width': bar.Mu(constant_value(.8), None),\r\n",
    "     'facecolor': bar.Mu(color.Nominal({True: 'orange', False: 'blue'}), 'juice'), \r\n",
    "     'edgecolor':bar.Mu(constant_color('k'), None),\r\n",
    "     'linewidth':bar.Mu(constant_value(2), None),\r\n",
    "     'linestyle':bar.Mu(constant_value((None, None)),  None)}"
   ],
   "outputs": [],
   "metadata": {}
  },
  {
   "cell_type": "code",
   "execution_count": 25,
   "source": [
    "BB = bar.Bar()"
   ],
   "outputs": [],
   "metadata": {}
  },
  {
   "cell_type": "code",
   "execution_count": 26,
   "source": [
    "BB.V"
   ],
   "outputs": [
    {
     "output_type": "execute_result",
     "data": {
      "text/plain": [
       "{'width': Mu(nu=None, F=None),\n",
       " 'position': Mu(nu=None, F=None),\n",
       " 'floor': Mu(nu=None, F=None),\n",
       " 'height': Mu(nu=None, F=None),\n",
       " 'edgecolor': Mu(nu=None, F=None),\n",
       " 'linestyle': Mu(nu=None, F=None),\n",
       " 'linewidth': Mu(nu=None, F=None),\n",
       " 'facecolor': Mu(nu=None, F=None)}"
      ]
     },
     "metadata": {},
     "execution_count": 26
    }
   ],
   "metadata": {}
  },
  {
   "cell_type": "code",
   "execution_count": 27,
   "source": [
    "BN = BB.compose_with_nu(**V)"
   ],
   "outputs": [],
   "metadata": {}
  },
  {
   "cell_type": "code",
   "execution_count": 28,
   "source": [
    "BN.V"
   ],
   "outputs": [
    {
     "output_type": "execute_result",
     "data": {
      "text/plain": [
       "{'width': Mu(nu=<function constant_value.<locals>.<lambda> at 0x0000023F37815CA0>, F=None),\n",
       " 'position': Mu(nu=<matplottoy.encoders.position.Nominal object at 0x0000023F38423220>, F='fruit'),\n",
       " 'floor': Mu(nu=<function constant_value.<locals>.<lambda> at 0x0000023F37815E50>, F=None),\n",
       " 'height': Mu(nu=<function <lambda> at 0x0000023F34852F70>, F='calories'),\n",
       " 'edgecolor': Mu(nu=<function constant_color.<locals>.<lambda> at 0x0000023F3842F040>, F=None),\n",
       " 'linestyle': Mu(nu=<function constant_value.<locals>.<lambda> at 0x0000023F3842F160>, F=None),\n",
       " 'linewidth': Mu(nu=<function constant_value.<locals>.<lambda> at 0x0000023F3842F0D0>, F=None),\n",
       " 'facecolor': Mu(nu=<matplottoy.encoders.color.Nominal object at 0x0000023F384232E0>, F='juice')}"
      ]
     },
     "metadata": {},
     "execution_count": 28
    }
   ],
   "metadata": {}
  },
  {
   "cell_type": "code",
   "execution_count": 29,
   "source": [
    "BB.V"
   ],
   "outputs": [
    {
     "output_type": "execute_result",
     "data": {
      "text/plain": [
       "{'width': Mu(nu=None, F=None),\n",
       " 'position': Mu(nu=None, F=None),\n",
       " 'floor': Mu(nu=None, F=None),\n",
       " 'height': Mu(nu=None, F=None),\n",
       " 'edgecolor': Mu(nu=None, F=None),\n",
       " 'linestyle': Mu(nu=None, F=None),\n",
       " 'linewidth': Mu(nu=None, F=None),\n",
       " 'facecolor': Mu(nu=None, F=None)}"
      ]
     },
     "metadata": {},
     "execution_count": 29
    }
   ],
   "metadata": {}
  },
  {
   "cell_type": "code",
   "execution_count": 30,
   "source": [
    "BN = BN.compose_with_nu(\r\n",
    "    edgecolor=bar.Mu(F=None, nu=constant_color('darkgray')))"
   ],
   "outputs": [
    {
     "output_type": "error",
     "ename": "SyntaxError",
     "evalue": "unexpected EOF while parsing (<ipython-input-30-62362a2841eb>, line 2)",
     "traceback": [
      "\u001b[1;36m  File \u001b[1;32m\"<ipython-input-30-62362a2841eb>\"\u001b[1;36m, line \u001b[1;32m2\u001b[0m\n\u001b[1;33m    edgecolor=bar.Mu(F=None, nu=constant_color('darkgray'))\u001b[0m\n\u001b[1;37m                                                           ^\u001b[0m\n\u001b[1;31mSyntaxError\u001b[0m\u001b[1;31m:\u001b[0m unexpected EOF while parsing\n"
     ]
    }
   ],
   "metadata": {}
  },
  {
   "cell_type": "code",
   "execution_count": null,
   "source": [
    "BB.V['edgecolor']"
   ],
   "outputs": [],
   "metadata": {}
  },
  {
   "cell_type": "code",
   "execution_count": null,
   "source": [
    "BN.V['edgecolor']"
   ],
   "outputs": [],
   "metadata": {}
  },
  {
   "cell_type": "code",
   "execution_count": null,
   "source": [
    "BN.make_mu(data.local_section())"
   ],
   "outputs": [],
   "metadata": {}
  },
  {
   "cell_type": "code",
   "execution_count": null,
   "source": [
    "for (k, v) in BN.V.items():\r\n",
    "    print(k, v.F, data.local_section().projection(v.F).values())\r\n",
    "    v.nu(data.local_section().projection(v.F).values())"
   ],
   "outputs": [],
   "metadata": {}
  },
  {
   "cell_type": "code",
   "execution_count": null,
   "source": [
    "bar.QHatData(BN)"
   ],
   "outputs": [],
   "metadata": {}
  },
  {
   "cell_type": "code",
   "execution_count": null,
   "source": [
    "bwd = bar.QHatData(BN).compose_with_tau(data)"
   ],
   "outputs": [],
   "metadata": {}
  },
  {
   "cell_type": "code",
   "execution_count": null,
   "source": [
    "bwd.query()"
   ],
   "outputs": [],
   "metadata": {}
  },
  {
   "cell_type": "code",
   "execution_count": null,
   "source": [
    "A = bar.GenericArtist(bwd)"
   ],
   "outputs": [],
   "metadata": {}
  },
  {
   "cell_type": "code",
   "execution_count": null,
   "source": [
    "dir(bwd.graphic)"
   ],
   "outputs": [],
   "metadata": {}
  },
  {
   "cell_type": "code",
   "execution_count": null,
   "source": [
    "A.topArt"
   ],
   "outputs": [],
   "metadata": {}
  },
  {
   "cell_type": "code",
   "execution_count": null,
   "source": [
    "f = lambda x : np.zeros(len(x))\r\n",
    "f(bwd.section.projection(None).values())"
   ],
   "outputs": [],
   "metadata": {}
  },
  {
   "cell_type": "code",
   "execution_count": null,
   "source": [
    "A.draw(None)"
   ],
   "outputs": [],
   "metadata": {}
  },
  {
   "cell_type": "code",
   "execution_count": null,
   "source": [
    "from matplottoy.artists import bar "
   ],
   "outputs": [],
   "metadata": {}
  },
  {
   "cell_type": "code",
   "execution_count": null,
   "source": [
    "fig, ax = plt.subplots()\r\n",
    "ax.add_artist(A)"
   ],
   "outputs": [],
   "metadata": {}
  },
  {
   "cell_type": "code",
   "execution_count": null,
   "source": [
    "A.draw(None)"
   ],
   "outputs": [],
   "metadata": {}
  },
  {
   "cell_type": "code",
   "execution_count": null,
   "source": [],
   "outputs": [],
   "metadata": {}
  }
 ],
 "metadata": {
  "interpreter": {
   "hash": "7cea9f571e0344ece82ed7033289576376b8a2ba334b8743df74c8683c2af35f"
  },
  "kernelspec": {
   "name": "python3",
   "display_name": "Python 3.8.10 64-bit ('prop': conda)"
  },
  "language_info": {
   "codemirror_mode": {
    "name": "ipython",
    "version": 3
   },
   "file_extension": ".py",
   "mimetype": "text/x-python",
   "name": "python",
   "nbconvert_exporter": "python",
   "pygments_lexer": "ipython3",
   "version": "3.8.10"
  }
 },
 "nbformat": 4,
 "nbformat_minor": 5
}