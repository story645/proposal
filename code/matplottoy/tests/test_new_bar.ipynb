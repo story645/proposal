{
 "cells": [
  {
   "cell_type": "code",
   "execution_count": 2,
   "id": "db166227-9927-422b-b495-fa38d66f892a",
   "metadata": {},
   "outputs": [],
   "source": [
    "%load_ext autoreload"
   ]
  },
  {
   "cell_type": "code",
   "execution_count": 3,
   "id": "d88c5ade-0076-4d90-b71d-b812a4c890f5",
   "metadata": {},
   "outputs": [],
   "source": [
    "%autoreload 2"
   ]
  },
  {
   "cell_type": "code",
   "execution_count": 8,
   "id": "1ca734dc-2987-4957-b9a8-eb8c3598cc75",
   "metadata": {},
   "outputs": [],
   "source": [
    "%matplotlib inline\n",
    "from pathlib import Path\n",
    "import itertools\n",
    "from dataclasses import dataclass, fields\n",
    "\n",
    "import pandas as pd\n",
    "import numpy as np\n",
    "import matplotlib.pyplot as plt\n",
    "from matplotlib import rcParams \n",
    "\n",
    "from matplottoy.data import iris\n",
    "from matplottoy.encoders import color, position\n",
    "from matplottoy.artists import point, bar, utils\n",
    "\n",
    "\n",
    "spath = Path(\"../../../draft/figures/code/\")\n",
    "rcParams['figure.dpi'] = 200"
   ]
  },
  {
   "cell_type": "code",
   "execution_count": 9,
   "id": "44758f22-579c-4e76-9249-a9c2e61700c2",
   "metadata": {},
   "outputs": [],
   "source": [
    "data = {'fruit': ['apple', 'orange', 'lemon', 'lime'], \n",
    "       'calories':[95, 67, 17, 20], \n",
    "       'juice':[True, True, False, False]}\n",
    "df = pd.DataFrame(data)"
   ]
  },
  {
   "cell_type": "code",
   "execution_count": 14,
   "id": "09b3276d-1ea3-430b-a59c-244a236cea09",
   "metadata": {},
   "outputs": [],
   "source": [
    "data = iris.DataFrame(df)"
   ]
  },
  {
   "cell_type": "code",
   "execution_count": 19,
   "id": "54e739be-355f-4fa9-b6d2-341cf7b1045f",
   "metadata": {},
   "outputs": [
    {
     "data": {
      "text/html": [
       "<div>\n",
       "<style scoped>\n",
       "    .dataframe tbody tr th:only-of-type {\n",
       "        vertical-align: middle;\n",
       "    }\n",
       "\n",
       "    .dataframe tbody tr th {\n",
       "        vertical-align: top;\n",
       "    }\n",
       "\n",
       "    .dataframe thead th {\n",
       "        text-align: right;\n",
       "    }\n",
       "</style>\n",
       "<table border=\"1\" class=\"dataframe\">\n",
       "  <thead>\n",
       "    <tr style=\"text-align: right;\">\n",
       "      <th></th>\n",
       "      <th>fruit</th>\n",
       "      <th>calories</th>\n",
       "      <th>juice</th>\n",
       "    </tr>\n",
       "  </thead>\n",
       "  <tbody>\n",
       "    <tr>\n",
       "      <th>0</th>\n",
       "      <td>apple</td>\n",
       "      <td>95</td>\n",
       "      <td>True</td>\n",
       "    </tr>\n",
       "    <tr>\n",
       "      <th>1</th>\n",
       "      <td>orange</td>\n",
       "      <td>67</td>\n",
       "      <td>True</td>\n",
       "    </tr>\n",
       "    <tr>\n",
       "      <th>2</th>\n",
       "      <td>lemon</td>\n",
       "      <td>17</td>\n",
       "      <td>False</td>\n",
       "    </tr>\n",
       "    <tr>\n",
       "      <th>3</th>\n",
       "      <td>lime</td>\n",
       "      <td>20</td>\n",
       "      <td>False</td>\n",
       "    </tr>\n",
       "  </tbody>\n",
       "</table>\n",
       "</div>"
      ],
      "text/plain": [
       "    fruit  calories  juice\n",
       "0   apple        95   True\n",
       "1  orange        67   True\n",
       "2   lemon        17  False\n",
       "3    lime        20  False"
      ]
     },
     "execution_count": 19,
     "metadata": {},
     "output_type": "execute_result"
    }
   ],
   "source": [
    "aes = {'position': ['fruit'],\n",
    "       'length': ['calories'],\n",
    "       'floor': None, \n",
    "       'width': None,\n",
    "       'facecolors': ['juice'],\n",
    "       'edgecolors': None,\n",
    "       'linewidths' None,\n",
    "       'linestyle': None}\n"
   ]
  },
  {
   "cell_type": "code",
   "execution_count": 21,
   "id": "09dc3b80-f3a5-4e85-96b1-c9e2278958ec",
   "metadata": {},
   "outputs": [],
   "source": [
    "position = position.Identity()\n",
    "mapping = {'apple': 0, 'orange': 2, 'lemon': 4, 'lime': 6}\n",
    "length = position.Nominal(mapping)\n",
    "color = color.Nominal({True:orange, False:blue})\n",
    "floor  = \n",
    "width =\n",
    "facecolor=\n",
    "edgecolor=\n",
    "linewidth = \n",
    "linestyle = \n",
    "       \n"
   ]
  },
  {
   "cell_type": "code",
   "execution_count": 23,
   "id": "71aabc04-5d3e-40b3-a341-f9bd45d3eb23",
   "metadata": {},
   "outputs": [
    {
     "data": {
      "text/plain": [
       "{'apple': 0, 'orange': 2, 'lemon': 4, 'lime': 6}"
      ]
     },
     "execution_count": 23,
     "metadata": {},
     "output_type": "execute_result"
    }
   ],
   "source": [
    "dict(zip(df['fruit'].to_list(), range(0,10,2)))"
   ]
  },
  {
   "cell_type": "code",
   "execution_count": null,
   "id": "7ac265ed-1f68-4449-93f3-5e4f8fe22257",
   "metadata": {},
   "outputs": [],
   "source": []
  }
 ],
 "metadata": {
  "kernelspec": {
   "display_name": "Python [conda env:prop] *",
   "language": "python",
   "name": "conda-env-prop-py"
  },
  "language_info": {
   "codemirror_mode": {
    "name": "ipython",
    "version": 3
   },
   "file_extension": ".py",
   "mimetype": "text/x-python",
   "name": "python",
   "nbconvert_exporter": "python",
   "pygments_lexer": "ipython3",
   "version": "3.8.10"
  }
 },
 "nbformat": 4,
 "nbformat_minor": 5
}
