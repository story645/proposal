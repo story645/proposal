{
 "cells": [
  {
   "cell_type": "code",
   "execution_count": 1,
   "id": "f6565e0f",
   "metadata": {},
   "outputs": [],
   "source": [
    "%load_ext autoreload"
   ]
  },
  {
   "cell_type": "code",
   "execution_count": 2,
   "id": "73f1bdaa",
   "metadata": {},
   "outputs": [],
   "source": [
    "%autoreload 2"
   ]
  },
  {
   "cell_type": "code",
   "execution_count": 9,
   "id": "94bbb0c5",
   "metadata": {},
   "outputs": [],
   "source": [
    "%matplotlib inline\r\n",
    "from pathlib import Path\r\n",
    "import itertools\r\n",
    "from dataclasses import dataclass, fields\r\n",
    "\r\n",
    "import pandas as pd\r\n",
    "import numpy as np\r\n",
    "import matplotlib.pyplot as plt\r\n",
    "from matplotlib import rcParams \r\n",
    "\r\n",
    "from matplottoy.data import fruit\r\n",
    "from matplottoy.encoders import color, position\r\n",
    "from matplottoy.artists import point, bar, utils\r\n",
    "\r\n",
    "\r\n",
    "spath = Path(\"../../../draft/figures/code/\")\r\n",
    "rcParams['figure.dpi'] = 200"
   ]
  },
  {
   "cell_type": "code",
   "execution_count": 13,
   "id": "a13fea58",
   "metadata": {},
   "outputs": [],
   "source": [
    "data = {'fruit': ['apple', 'orange', 'lemon', 'lime'], \n",
    "       'calories':[95, 67, 17, 20], \n",
    "       'juice':[True, True, False, False]}\n",
    "df = pd.DataFrame(data)"
   ]
  },
  {
   "cell_type": "code",
   "execution_count": 28,
   "id": "41f15da7",
   "metadata": {},
   "outputs": [
    {
     "data": {
      "text/plain": [
       "0     True\n",
       "1     True\n",
       "2    False\n",
       "3    False\n",
       "Name: juice, dtype: bool"
      ]
     },
     "execution_count": 28,
     "metadata": {},
     "output_type": "execute_result"
    }
   ],
   "source": [
    "fruit.fiberbundle(fruit.Section(df))(None)('juice')()"
   ]
  },
  {
   "cell_type": "code",
   "execution_count": null,
   "id": "50eb85d8-e533-4d44-ac04-64f3cb617ec3",
   "metadata": {},
   "outputs": [],
   "source": []
  },
  {
   "cell_type": "code",
   "execution_count": 15,
   "id": "138b5ceb",
   "metadata": {},
   "outputs": [],
   "source": [
    "aes = {'position': ['fruit'],\r\n",
    "       'length': ['calories'],\r\n",
    "       'floor': None, \r\n",
    "       'width': None,\r\n",
    "       'facecolor': ['juice'],\r\n",
    "       'edgecolor': None,\r\n",
    "       'linewidth': None,\r\n",
    "       'linestyle': None}"
   ]
  },
  {
   "cell_type": "code",
   "execution_count": 16,
   "id": "5dbe9a88",
   "metadata": {},
   "outputs": [],
   "source": [
    "#rewrite nu __call__ to be  ufuncs\r\n",
    "# rewrite Q as compute graph that doesn't get executed in draw\r\n",
    "# pull up projection function (nu, projection function)\r\n",
    "# remove placeholder arguments \r\n",
    "nus = {'position': lambda x : x, \r\n",
    "       'length' : position.Nominal({'apple': 0, 'orange': 2, 'lemon': 4, 'lime': 6}),\r\n",
    "       'floor': lambda _: 0,\r\n",
    "       'width': lambda _ : .8,\r\n",
    "       'facecolor' : color.Nominal({True: 'orange', False: 'blue'}), \r\n",
    "       'edgecolor' : lambda _ : 'k', \r\n",
    "       'linewidth' :  lambda _ : 2,\r\n",
    "       'linestyle' : lambda _ : (None, None)}"
   ]
  },
  {
   "cell_type": "code",
   "execution_count": 17,
   "id": "8e07fdb0",
   "metadata": {},
   "outputs": [
    {
     "ename": "NameError",
     "evalue": "name 'iris' is not defined",
     "output_type": "error",
     "traceback": [
      "\u001b[1;31m---------------------------------------------------------------------------\u001b[0m",
      "\u001b[1;31mNameError\u001b[0m                                 Traceback (most recent call last)",
      "\u001b[1;32m<ipython-input-17-1c591e310c25>\u001b[0m in \u001b[0;36m<module>\u001b[1;34m\u001b[0m\n\u001b[1;32m----> 1\u001b[1;33m \u001b[0miris\u001b[0m\u001b[1;33m.\u001b[0m\u001b[0mfiberbundle\u001b[0m\u001b[1;33m(\u001b[0m\u001b[0mdf\u001b[0m\u001b[1;33m)\u001b[0m\u001b[1;33m(\u001b[0m\u001b[1;32mNone\u001b[0m\u001b[1;33m)\u001b[0m\u001b[1;33m(\u001b[0m\u001b[1;34m'juice'\u001b[0m\u001b[1;33m)\u001b[0m\u001b[1;33m(\u001b[0m\u001b[1;33m)\u001b[0m\u001b[1;33m\u001b[0m\u001b[1;33m\u001b[0m\u001b[0m\n\u001b[0m",
      "\u001b[1;31mNameError\u001b[0m: name 'iris' is not defined"
     ]
    }
   ],
   "source": [
    "iris.fiberbundle(df)(None)('juice')()"
   ]
  },
  {
   "cell_type": "code",
   "execution_count": 19,
   "id": "21cb8cc1-2d29-4480-8a1f-26b7e8df49b2",
   "metadata": {},
   "outputs": [
    {
     "ename": "TypeError",
     "evalue": "'module' object is not callable",
     "output_type": "error",
     "traceback": [
      "\u001b[1;31m---------------------------------------------------------------------------\u001b[0m",
      "\u001b[1;31mTypeError\u001b[0m                                 Traceback (most recent call last)",
      "\u001b[1;32m<ipython-input-19-0f1223b139b2>\u001b[0m in \u001b[0;36m<module>\u001b[1;34m\u001b[0m\n\u001b[1;32m----> 1\u001b[1;33m \u001b[0mfruit\u001b[0m\u001b[1;33m(\u001b[0m\u001b[1;32mNone\u001b[0m\u001b[1;33m)\u001b[0m\u001b[1;33m(\u001b[0m\u001b[1;34m'juice'\u001b[0m\u001b[1;33m)\u001b[0m\u001b[1;33m\u001b[0m\u001b[1;33m\u001b[0m\u001b[0m\n\u001b[0m",
      "\u001b[1;31mTypeError\u001b[0m: 'module' object is not callable"
     ]
    }
   ],
   "source": [
    "fruit(None)('juice')"
   ]
  },
  {
   "cell_type": "code",
   "execution_count": 16,
   "id": "13ab4a2f",
   "metadata": {},
   "outputs": [
    {
     "data": {
      "text/plain": [
       "0   NaN\n",
       "1   NaN\n",
       "2   NaN\n",
       "3   NaN\n",
       "dtype: float64"
      ]
     },
     "execution_count": 16,
     "metadata": {},
     "output_type": "execute_result"
    }
   ],
   "source": [
    "iris.fiberbundle(df)(None)(None)()"
   ]
  },
  {
   "cell_type": "code",
   "execution_count": 20,
   "id": "eb4850ff",
   "metadata": {},
   "outputs": [
    {
     "data": {
      "text/plain": [
       "{'fruit': dtype('O'), 'calories': dtype('int64'), 'juice': dtype('bool')}"
      ]
     },
     "execution_count": 20,
     "metadata": {},
     "output_type": "execute_result"
    }
   ],
   "source": [
    "df.dtypes.to_dict()"
   ]
  },
  {
   "cell_type": "code",
   "execution_count": 23,
   "id": "f6709e57",
   "metadata": {},
   "outputs": [
    {
     "data": {
      "text/plain": [
       "pandas.core.indexes.range.RangeIndex"
      ]
     },
     "execution_count": 23,
     "metadata": {},
     "output_type": "execute_result"
    }
   ],
   "source": [
    "type(df.index)"
   ]
  },
  {
   "cell_type": "code",
   "execution_count": null,
   "id": "4f310ada",
   "metadata": {},
   "outputs": [],
   "source": [
    "np.dty"
   ]
  }
 ],
 "metadata": {
  "interpreter": {
   "hash": "7cea9f571e0344ece82ed7033289576376b8a2ba334b8743df74c8683c2af35f"
  },
  "kernelspec": {
   "display_name": "Python 3",
   "language": "python",
   "name": "python3"
  },
  "language_info": {
   "codemirror_mode": {
    "name": "ipython",
    "version": 3
   },
   "file_extension": ".py",
   "mimetype": "text/x-python",
   "name": "python",
   "nbconvert_exporter": "python",
   "pygments_lexer": "ipython3",
   "version": "3.8.10"
  }
 },
 "nbformat": 4,
 "nbformat_minor": 5
}
