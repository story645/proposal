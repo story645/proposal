{
 "cells": [
  {
   "cell_type": "code",
   "execution_count": 1,
   "metadata": {},
   "outputs": [],
   "source": [
    "%load_ext autoreload"
   ]
  },
  {
   "cell_type": "code",
   "execution_count": 2,
   "metadata": {},
   "outputs": [],
   "source": [
    "%autoreload 2"
   ]
  },
  {
   "cell_type": "code",
   "execution_count": 3,
   "metadata": {},
   "outputs": [],
   "source": [
    "%matplotlib inline\n",
    "from pathlib import Path\n",
    "import itertools\n",
    "from dataclasses import dataclass, fields\n",
    "\n",
    "import pandas as pd\n",
    "import numpy as np\n",
    "import matplotlib.pyplot as plt\n",
    "from matplotlib import rcParams \n",
    "\n",
    "from matplottoy.data import iris\n",
    "from matplottoy.encoders import color, position\n",
    "from matplottoy.artists import point, bar, utils\n",
    "\n",
    "\n",
    "spath = Path(\"../../../draft/figures/code/\")\n",
    "rcParams['figure.dpi'] = 200"
   ]
  },
  {
   "cell_type": "code",
   "execution_count": 4,
   "metadata": {},
   "outputs": [],
   "source": [
    "data = {'fruit': ['apple', 'orange', 'lemon', 'lime'], \n",
    "       'calories':[95, 67, 17, 20], \n",
    "       'juice':[True, True, False, False]}\n",
    "df = pd.DataFrame(data)"
   ]
  },
  {
   "cell_type": "code",
   "execution_count": 5,
   "metadata": {},
   "outputs": [],
   "source": [
    "data = iris.DataFrame(df)"
   ]
  },
  {
   "cell_type": "code",
   "execution_count": 6,
   "metadata": {},
   "outputs": [],
   "source": [
    "aes = {'position': ['fruit'],\r\n",
    "       'length': ['calories'],\r\n",
    "       'floor': None, \r\n",
    "       'width': None,\r\n",
    "       'facecolor': ['juice'],\r\n",
    "       'edgecolor': None,\r\n",
    "       'linewidth': None,\r\n",
    "       'linestyle': None}\r\n"
   ]
  },
  {
   "cell_type": "code",
   "execution_count": 8,
   "metadata": {},
   "outputs": [],
   "source": [
    "#rewrite nu __call__ to be  ufuncs\r\n",
    "# rewrite Q as compute graph that doesn't get executed in draw\r\n",
    "# pull up projection function (nu, projection function)\r\n",
    "# remove placeholder arguments \r\n",
    "{'position': position.Identity(), \r\n",
    " 'mapping' : {'apple': 0, 'orange': 2, 'lemon': 4, 'lime': 6},\r\n",
    " 'length' : position.Nominal(mapping),\r\n",
    " 'floor': lambda _: 0,\r\n",
    " 'width': lambda _ : .8,\r\n",
    " 'facecolor' : color.Nominal({True: 'orange', False: 'blue'}), \r\n",
    " 'edgecolor' : lambda _ : 'k', \r\n",
    " 'linewidth' :  lambda _ : 2,\r\n",
    " 'linestyle' : lambda _ : (None, None)}"
   ]
  },
  {
   "cell_type": "code",
   "execution_count": 23,
   "metadata": {},
   "outputs": [
    {
     "data": {
      "text/plain": [
       "{'apple': 0, 'orange': 2, 'lemon': 4, 'lime': 6}"
      ]
     },
     "execution_count": 23,
     "metadata": {},
     "output_type": "execute_result"
    }
   ],
   "source": []
  },
  {
   "cell_type": "code",
   "execution_count": null,
   "metadata": {},
   "outputs": [],
   "source": []
  }
 ],
 "metadata": {
  "interpreter": {
   "hash": "7cea9f571e0344ece82ed7033289576376b8a2ba334b8743df74c8683c2af35f"
  },
  "kernelspec": {
   "display_name": "Python 3.8.10 64-bit ('prop': conda)",
   "name": "python3"
  },
  "language_info": {
   "codemirror_mode": {
    "name": "ipython",
    "version": 3
   },
   "file_extension": ".py",
   "mimetype": "text/x-python",
   "name": "python",
   "nbconvert_exporter": "python",
   "pygments_lexer": "ipython3",
   "version": "3.8.10"
  }
 },
 "nbformat": 4,
 "nbformat_minor": 5
}