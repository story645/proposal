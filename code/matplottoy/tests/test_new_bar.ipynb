{
 "cells": [
  {
   "cell_type": "code",
   "execution_count": 59,
   "source": [
    "%load_ext autoreload"
   ],
   "outputs": [
    {
     "output_type": "stream",
     "name": "stdout",
     "text": [
      "The autoreload extension is already loaded. To reload it, use:\n",
      "  %reload_ext autoreload\n"
     ]
    }
   ],
   "metadata": {}
  },
  {
   "cell_type": "code",
   "execution_count": 60,
   "source": [
    "%autoreload 2"
   ],
   "outputs": [],
   "metadata": {}
  },
  {
   "cell_type": "code",
   "execution_count": 222,
   "source": [
    "%matplotlib inline\r\n",
    "from pathlib import Path\r\n",
    "import functools\r\n",
    "import itertools\r\n",
    "from dataclasses import dataclass, fields\r\n",
    "\r\n",
    "import pandas as pd\r\n",
    "import numpy as np\r\n",
    "import matplotlib.pyplot as plt\r\n",
    "from matplotlib import rcParams \r\n",
    "\r\n",
    "from matplottoy.data import fruit\r\n",
    "#from matplottoy.encoders import color, position\r\n",
    "from matplottoy.artists import point, bar, utils\r\n",
    "\r\n",
    "\r\n",
    "spath = Path(\"../../../draft/figures/code/\")\r\n",
    "rcParams['figure.dpi'] = 200"
   ],
   "outputs": [],
   "metadata": {}
  },
  {
   "cell_type": "code",
   "execution_count": 223,
   "source": [
    "data = {'fruit': ['apple', 'orange', 'lemon', 'lime'], \r\n",
    "       'calories':[95, 67, 17, 20], \r\n",
    "       'juice':[True, True, False, False]}\r\n",
    "df = pd.DataFrame(data)"
   ],
   "outputs": [],
   "metadata": {}
  },
  {
   "cell_type": "code",
   "execution_count": 224,
   "source": [
    "data = fruit.FruitSection(df)"
   ],
   "outputs": [],
   "metadata": {}
  },
  {
   "cell_type": "code",
   "execution_count": 225,
   "source": [
    "df.index.inferred_type"
   ],
   "outputs": [
    {
     "output_type": "execute_result",
     "data": {
      "text/plain": [
       "'integer'"
      ]
     },
     "metadata": {},
     "execution_count": 225
    }
   ],
   "metadata": {}
  },
  {
   "cell_type": "code",
   "execution_count": 226,
   "source": [
    "data.local_section({'calories':(17, 20)})"
   ],
   "outputs": [
    {
     "output_type": "execute_result",
     "data": {
      "text/plain": [
       "FruitSection(section=   fruit  calories  juice\n",
       "2  lemon        17  False\n",
       "3   lime        20  False)"
      ]
     },
     "metadata": {},
     "execution_count": 226
    }
   ],
   "metadata": {}
  },
  {
   "cell_type": "code",
   "execution_count": 227,
   "source": [
    "data.projection('fruit').values()"
   ],
   "outputs": [
    {
     "output_type": "execute_result",
     "data": {
      "text/plain": [
       "array(['apple', 'orange', 'lemon', 'lime'], dtype=object)"
      ]
     },
     "metadata": {},
     "execution_count": 227
    }
   ],
   "metadata": {}
  },
  {
   "cell_type": "code",
   "execution_count": 269,
   "source": [
    "# should K be up front or last?\r\n",
    "\r\n",
    "V = {'height': bar.Mu(lambda x : x, 'calories'), \r\n",
    "     'position': bar.Mu(position.Nominal({'apple': 0, 'orange': 2, 'lemon': 4, 'lime': 6}), 'fruit'),\r\n",
    "     'floor': bar.Mu(lambda x: np.repeat(0, len(x)), None), \r\n",
    "     'width': bar.Mu(lambda x: np.repeat(.8, len(x)), None),\r\n",
    "     'facecolor': bar.Mu(color.Nominal({True: 'orange', False: 'blue'}), 'juice'), \r\n",
    "     'edgecolor':bar.Mu(lambda x: np.repeat('k', len(x)), None),\r\n",
    "     'linewidth':bar.Mu(lambda x: np.repeat(2, len(x)), None),\r\n",
    "     'linestyle':bar.Mu(lambda x: np.repeat((None, None), len(x)),  None)}"
   ],
   "outputs": [],
   "metadata": {}
  },
  {
   "cell_type": "code",
   "execution_count": 270,
   "source": [
    "BB = bar.Bar()"
   ],
   "outputs": [],
   "metadata": {}
  },
  {
   "cell_type": "code",
   "execution_count": 271,
   "source": [
    "BB.V"
   ],
   "outputs": [
    {
     "output_type": "execute_result",
     "data": {
      "text/plain": [
       "{'height': Mu(nu=None, F=None),\n",
       " 'linewidth': Mu(nu=None, F=None),\n",
       " 'floor': Mu(nu=None, F=None),\n",
       " 'linestyle': Mu(nu=None, F=None),\n",
       " 'edgecolor': Mu(nu=None, F=None),\n",
       " 'width': Mu(nu=None, F=None),\n",
       " 'facecolor': Mu(nu=None, F=None),\n",
       " 'position': Mu(nu=None, F=None)}"
      ]
     },
     "metadata": {},
     "execution_count": 271
    }
   ],
   "metadata": {}
  },
  {
   "cell_type": "code",
   "execution_count": 272,
   "source": [
    "BN = BB.compose_with_nu(**V)"
   ],
   "outputs": [],
   "metadata": {}
  },
  {
   "cell_type": "code",
   "execution_count": 274,
   "source": [
    "BN.V"
   ],
   "outputs": [
    {
     "output_type": "execute_result",
     "data": {
      "text/plain": [
       "{'height': Mu(nu=<function <lambda> at 0x000002A5196B9160>, F='calories'),\n",
       " 'linewidth': Mu(nu=<function <lambda> at 0x000002A5197C6940>, F=None),\n",
       " 'floor': Mu(nu=<function <lambda> at 0x000002A5197C6C10>, F=None),\n",
       " 'linestyle': Mu(nu=<function <lambda> at 0x000002A5197C6160>, F=None),\n",
       " 'edgecolor': Mu(nu=<function <lambda> at 0x000002A5197C6EE0>, F=None),\n",
       " 'width': Mu(nu=<function <lambda> at 0x000002A5197C6790>, F=None),\n",
       " 'facecolor': Mu(nu=<matplottoy.encoders.color.Nominal object at 0x000002A5197D1A60>, F='juice'),\n",
       " 'position': Mu(nu=<matplottoy.encoders.position.Nominal object at 0x000002A5197D1F70>, F='fruit')}"
      ]
     },
     "metadata": {},
     "execution_count": 274
    }
   ],
   "metadata": {}
  },
  {
   "cell_type": "code",
   "execution_count": 275,
   "source": [
    "BB.V"
   ],
   "outputs": [
    {
     "output_type": "execute_result",
     "data": {
      "text/plain": [
       "{'height': Mu(nu=None, F=None),\n",
       " 'linewidth': Mu(nu=None, F=None),\n",
       " 'floor': Mu(nu=None, F=None),\n",
       " 'linestyle': Mu(nu=None, F=None),\n",
       " 'edgecolor': Mu(nu=None, F=None),\n",
       " 'width': Mu(nu=None, F=None),\n",
       " 'facecolor': Mu(nu=None, F=None),\n",
       " 'position': Mu(nu=None, F=None)}"
      ]
     },
     "metadata": {},
     "execution_count": 275
    }
   ],
   "metadata": {}
  },
  {
   "cell_type": "code",
   "execution_count": 276,
   "source": [
    "BN = BN.compose_with_nu(edgecolor=bar.Mu(F=None, nu=lambda _: 'darkgray'))"
   ],
   "outputs": [],
   "metadata": {}
  },
  {
   "cell_type": "code",
   "execution_count": 277,
   "source": [
    "BB.V['edgecolor']"
   ],
   "outputs": [
    {
     "output_type": "execute_result",
     "data": {
      "text/plain": [
       "Mu(nu=None, F=None)"
      ]
     },
     "metadata": {},
     "execution_count": 277
    }
   ],
   "metadata": {}
  },
  {
   "cell_type": "code",
   "execution_count": 278,
   "source": [
    "BN.V['edgecolor']"
   ],
   "outputs": [
    {
     "output_type": "execute_result",
     "data": {
      "text/plain": [
       "Mu(nu=<function <lambda> at 0x000002A5196A1DC0>, F=None)"
      ]
     },
     "metadata": {},
     "execution_count": 278
    }
   ],
   "metadata": {}
  },
  {
   "cell_type": "code",
   "execution_count": 279,
   "source": [
    "BN.make_mu(data.local_section())"
   ],
   "outputs": [
    {
     "output_type": "execute_result",
     "data": {
      "text/plain": [
       "{'orientation': 'v',\n",
       " 'height': array([95, 67, 17, 20], dtype=int64),\n",
       " 'linewidth': array([2, 2, 2, 2]),\n",
       " 'floor': array([0, 0, 0, 0]),\n",
       " 'linestyle': array([None, None, None, None, None, None, None, None], dtype=object),\n",
       " 'edgecolor': 'darkgray',\n",
       " 'width': array([0.8, 0.8, 0.8, 0.8]),\n",
       " 'facecolor': [RGBA(r=1.0, g=0.6470588235294118, b=0.0, a=1.0),\n",
       "  RGBA(r=1.0, g=0.6470588235294118, b=0.0, a=1.0),\n",
       "  RGBA(r=0.0, g=0.0, b=1.0, a=1.0),\n",
       "  RGBA(r=0.0, g=0.0, b=1.0, a=1.0)],\n",
       " 'position': array([0, 2, 4, 6])}"
      ]
     },
     "metadata": {},
     "execution_count": 279
    }
   ],
   "metadata": {}
  },
  {
   "cell_type": "code",
   "execution_count": 280,
   "source": [
    "for (k, v) in BN.V.items():\r\n",
    "    print(k, v.F, data.local_section().projection(v.F).values())\r\n",
    "    v.nu(data.local_section().projection(v.F).values())"
   ],
   "outputs": [
    {
     "output_type": "stream",
     "name": "stdout",
     "text": [
      "height calories [95 67 17 20]\n",
      "linewidth None [nan nan nan nan]\n",
      "floor None [nan nan nan nan]\n",
      "linestyle None [nan nan nan nan]\n",
      "edgecolor None [nan nan nan nan]\n",
      "width None [nan nan nan nan]\n",
      "facecolor juice [ True  True False False]\n",
      "position fruit ['apple' 'orange' 'lemon' 'lime']\n"
     ]
    }
   ],
   "metadata": {}
  },
  {
   "cell_type": "code",
   "execution_count": 281,
   "source": [
    "bar.QHatData(BN)"
   ],
   "outputs": [
    {
     "output_type": "execute_result",
     "data": {
      "text/plain": [
       "<matplottoy.artists.bar.QHatData at 0x2a5197d47c0>"
      ]
     },
     "metadata": {},
     "execution_count": 281
    }
   ],
   "metadata": {}
  },
  {
   "cell_type": "code",
   "execution_count": 282,
   "source": [
    "bwd = bar.QHatData(BN).compose_with_tau(data)"
   ],
   "outputs": [],
   "metadata": {}
  },
  {
   "cell_type": "code",
   "execution_count": 283,
   "source": [
    "bwd.query()"
   ],
   "outputs": [
    {
     "output_type": "execute_result",
     "data": {
      "text/plain": [
       "FruitSection(section=    fruit  calories  juice\n",
       "0   apple        95   True\n",
       "1  orange        67   True\n",
       "2   lemon        17  False\n",
       "3    lime        20  False)"
      ]
     },
     "metadata": {},
     "execution_count": 283
    }
   ],
   "metadata": {}
  },
  {
   "cell_type": "code",
   "execution_count": 284,
   "source": [
    "A = bar.GenericArtist(bwd)"
   ],
   "outputs": [],
   "metadata": {}
  },
  {
   "cell_type": "code",
   "execution_count": 285,
   "source": [
    "dir(bwd.graphic)"
   ],
   "outputs": [
    {
     "output_type": "execute_result",
     "data": {
      "text/plain": [
       "['P',\n",
       " 'V',\n",
       " '_V',\n",
       " '__class__',\n",
       " '__delattr__',\n",
       " '__dict__',\n",
       " '__dir__',\n",
       " '__doc__',\n",
       " '__eq__',\n",
       " '__format__',\n",
       " '__ge__',\n",
       " '__getattribute__',\n",
       " '__gt__',\n",
       " '__hash__',\n",
       " '__init__',\n",
       " '__init_subclass__',\n",
       " '__le__',\n",
       " '__lt__',\n",
       " '__module__',\n",
       " '__ne__',\n",
       " '__new__',\n",
       " '__reduce__',\n",
       " '__reduce_ex__',\n",
       " '__repr__',\n",
       " '__setattr__',\n",
       " '__sizeof__',\n",
       " '__slotnames__',\n",
       " '__str__',\n",
       " '__subclasshook__',\n",
       " '__weakref__',\n",
       " 'compose_with_nu',\n",
       " 'make_mu',\n",
       " 'orientation',\n",
       " 'qhat']"
      ]
     },
     "metadata": {},
     "execution_count": 285
    }
   ],
   "metadata": {}
  },
  {
   "cell_type": "code",
   "execution_count": 286,
   "source": [
    "A.topArt"
   ],
   "outputs": [
    {
     "output_type": "execute_result",
     "data": {
      "text/plain": [
       "<matplottoy.artists.bar.QHatData at 0x2a5197d49d0>"
      ]
     },
     "metadata": {},
     "execution_count": 286
    }
   ],
   "metadata": {}
  },
  {
   "cell_type": "code",
   "execution_count": 287,
   "source": [
    "f = lambda x : np.zeros(len(x))\r\n",
    "f(bwd.section.projection(None).values())"
   ],
   "outputs": [
    {
     "output_type": "execute_result",
     "data": {
      "text/plain": [
       "array([0., 0., 0., 0.])"
      ]
     },
     "metadata": {},
     "execution_count": 287
    }
   ],
   "metadata": {}
  },
  {
   "cell_type": "code",
   "execution_count": 291,
   "source": [
    "A.draw(None)"
   ],
   "outputs": [],
   "metadata": {}
  },
  {
   "cell_type": "code",
   "execution_count": null,
   "source": [],
   "outputs": [],
   "metadata": {}
  }
 ],
 "metadata": {
  "interpreter": {
   "hash": "7cea9f571e0344ece82ed7033289576376b8a2ba334b8743df74c8683c2af35f"
  },
  "kernelspec": {
   "name": "python3",
   "display_name": "Python 3.8.10 64-bit ('prop': conda)"
  },
  "language_info": {
   "codemirror_mode": {
    "name": "ipython",
    "version": 3
   },
   "file_extension": ".py",
   "mimetype": "text/x-python",
   "name": "python",
   "nbconvert_exporter": "python",
   "pygments_lexer": "ipython3",
   "version": "3.8.10"
  }
 },
 "nbformat": 4,
 "nbformat_minor": 5
}