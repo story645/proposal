{
 "cells": [
  {
   "cell_type": "code",
   "execution_count": null,
   "metadata": {},
   "outputs": [],
   "source": [
    "%load_ext autoreload"
   ]
  },
  {
   "cell_type": "code",
   "execution_count": null,
   "metadata": {},
   "outputs": [],
   "source": [
    "%autoreload 2"
   ]
  },
  {
   "cell_type": "code",
   "execution_count": null,
   "metadata": {},
   "outputs": [],
   "source": [
    "%matplotlib inline\n",
    "\n",
    "from pathlib import Path\n",
    "\n",
    "import numpy as np\n",
    "import matplotlib.pyplot as plt\n",
    "import seaborn as sns\n",
    "\n",
    "from matplottoy.data import iris\n",
    "from matplottoy.encoders import color, position\n",
    "from matplottoy.artists import point, bar, utils\n",
    "\n",
    "spath = Path(\"../../../draft/figures/code/\")"
   ]
  },
  {
   "cell_type": "code",
   "execution_count": null,
   "metadata": {},
   "outputs": [],
   "source": [
    "\n",
    "sns_iris = sns.load_dataset(\"iris\")"
   ]
  },
  {
   "cell_type": "code",
   "execution_count": null,
   "metadata": {},
   "outputs": [],
   "source": [
    "table = iris.Iris(sns_iris)"
   ]
  },
  {
   "cell_type": "code",
   "execution_count": null,
   "metadata": {},
   "outputs": [],
   "source": [
    "cmap = {'setosa':'C0', 'versicolor':'C1', 'virginica':'C2'}\n",
    "transforms = {'x': ('sepal_length', position.Identity()),       \n",
    "              'y': ('sepal_width', position.Identity()),\n",
    "              'facecolors':('species', color.Nominal(cmap))}\n"
   ]
  },
  {
   "cell_type": "code",
   "execution_count": null,
   "metadata": {
    "tags": []
   },
   "outputs": [],
   "source": [
    "fig, ax = plt.subplots()\n",
    "\n",
    "artist = point.Point(table, transforms)\n",
    "ax.add_artist(artist)\n",
    "ax.set(xlim = (table.view()[transforms['x'][0]].min(), \n",
    "               table.view()[transforms['x'][0]].max()), \n",
    "       ylim = (table.view()[transforms['y'][0]].min(), \n",
    "               table.view()[transforms['y'][0]].max()),       \n",
    "       xlabel = transforms['x'][0], \n",
    "       ylabel = transforms['y'][0], \n",
    "       aspect='equal')\n"
   ]
  },
  {
   "cell_type": "code",
   "execution_count": null,
   "metadata": {},
   "outputs": [],
   "source": [
    "freq = sns_iris['species'].value_counts()"
   ]
  },
  {
   "cell_type": "code",
   "execution_count": null,
   "metadata": {},
   "outputs": [],
   "source": [
    "tfreq = iris.FrequencyBar(freq.index, freq.values)"
   ]
  },
  {
   "cell_type": "code",
   "execution_count": null,
   "metadata": {},
   "outputs": [],
   "source": [
    "tfreq.view()"
   ]
  },
  {
   "cell_type": "code",
   "execution_count": null,
   "metadata": {},
   "outputs": [],
   "source": [
    "plt.scatter(freq.index, freq.values)"
   ]
  },
  {
   "cell_type": "code",
   "execution_count": null,
   "metadata": {},
   "outputs": [],
   "source": [
    "locs = {k:i for i,k in enumerate(tfreq.FB.F['category'].categories)}\n",
    "fts = {'x':('category', position.Nominal(locs)),  \n",
    "            'y':('count', position.Identity())}"
   ]
  },
  {
   "cell_type": "code",
   "execution_count": null,
   "metadata": {},
   "outputs": [],
   "source": [
    "fig, ax = plt.subplots()\n",
    "\n",
    "artist = point.Point(tfreq, fts)\n",
    "ax.add_artist(artist)\n",
    "ax.set(xlim = (-1,4), ylim=(45,55), aspect='equal')\n"
   ]
  },
  {
   "cell_type": "code",
   "execution_count": null,
   "metadata": {},
   "outputs": [],
   "source": [
    "fts = {'position':('category', position.Nominal(locs)),  \n",
    "        'length':('count', position.Identity())}"
   ]
  },
  {
   "cell_type": "code",
   "execution_count": null,
   "metadata": {},
   "outputs": [],
   "source": [
    "fig, ax = plt.subplots()\n",
    "\n",
    "artist = bar.Bar(tfreq, fts)\n",
    "ax.add_artist(artist)\n",
    "ax.set(xlim = (-0.5, 3.5), \n",
    "       ylim = (tfreq.view()[fts['length'][0]].min(), \n",
    "               tfreq.view()[fts['length'][0]].max()),       \n",
    "       xlabel = fts['position'][0], \n",
    "       ylabel = fts['length'][0], \n",
    "       aspect='equal')"
   ]
  },
  {
   "cell_type": "code",
   "execution_count": null,
   "metadata": {},
   "outputs": [],
   "source": [
    "fig, ax = plt.subplots()\n",
    "\n",
    "artist = bar.Bar(tfreq, fts, orientation='horizontal')\n",
    "ax.add_artist(artist)\n",
    "ax.set(ylim = (-0.5, 3.5), \n",
    "       xlim = (tfreq.view()[fts['length'][0]].min(), \n",
    "               tfreq.view()[fts['length'][0]].max()),       \n",
    "       xlabel = fts['position'][0], \n",
    "       ylabel = fts['length'][0], \n",
    "       aspect='equal')"
   ]
  },
  {
   "cell_type": "markdown",
   "metadata": {},
   "source": [
    "# grouped bar"
   ]
  },
  {
   "cell_type": "code",
   "execution_count": null,
   "metadata": {},
   "outputs": [],
   "source": [
    "df = sns_iris.groupby('species').mean().reset_index()\n",
    "df "
   ]
  },
  {
   "cell_type": "code",
   "execution_count": null,
   "metadata": {},
   "outputs": [],
   "source": [
    "df['sepal_length_color'] = ['lightcoral', 'indianred', 'firebrick']\n",
    "df['sepal_width_color'] = ['yellowgreen', 'olivedrab', 'darkolivegreen']\n",
    "df['petal_length_color'] = ['lightskyblue', 'deepskyblue', 'steelblue']\n",
    "df['petal_width_color'] = ['plum', 'deeppink', 'darkmagenta']\n"
   ]
  },
  {
   "cell_type": "code",
   "execution_count": null,
   "metadata": {},
   "outputs": [],
   "source": [
    "df"
   ]
  },
  {
   "cell_type": "code",
   "execution_count": null,
   "metadata": {},
   "outputs": [],
   "source": [
    "bt = iris.Iris(df)"
   ]
  },
  {
   "cell_type": "code",
   "execution_count": null,
   "metadata": {},
   "outputs": [],
   "source": [
    "bt.view()"
   ]
  },
  {
   "cell_type": "code",
   "execution_count": null,
   "metadata": {},
   "outputs": [],
   "source": [
    "bt.view().plot.bar(stacked=True)"
   ]
  },
  {
   "cell_type": "code",
   "execution_count": null,
   "metadata": {},
   "outputs": [],
   "source": [
    "# {channel: column, transformer: {name, multivariate}}\n",
    "gts = {'position': ('species', position.Nominal(locs)),  \n",
    "        'length':(['sepal_length', 'sepal_width', \n",
    "                   'petal_length', 'petal_width'],             \n",
    "                    position.Identity()),\n",
    "        'color': (['sepal_length_color', 'sepal_width_color', \n",
    "                   'petal_length_color', 'petal_width_color'],\n",
    "                   color.Identity())}\n",
    "        "
   ]
  },
  {
   "cell_type": "code",
   "execution_count": null,
   "metadata": {},
   "outputs": [],
   "source": [
    "gts.items()"
   ]
  },
  {
   "cell_type": "code",
   "execution_count": null,
   "metadata": {},
   "outputs": [],
   "source": [
    "fig, ax = plt.subplots()\n",
    "artist = bar.MultiBar(bt, gts, orientation='v', stacked=True)\n",
    "ax.add_artist(artist)\n",
    "_ = ax.set(ylim = (0, 20), \n",
    "       xlim = (-.5, 3.5),   \n",
    "       xlabel = fts['position'][0], \n",
    "       ylabel = fts['length'][0], )\n"
   ]
  },
  {
   "cell_type": "code",
   "execution_count": null,
   "metadata": {},
   "outputs": [],
   "source": [
    "fig, ax = plt.subplots()\n",
    "artist = bar.MultiBar(bt, gts, orientation='h', stacked=True)\n",
    "ax.add_artist(artist)\n",
    "_ = ax.set(xlim = (0, 20), \n",
    "       ylim = (-.5, 3.5),   \n",
    "       xlabel = fts['position'][0], \n",
    "       ylabel = fts['length'][0], )"
   ]
  },
  {
   "cell_type": "code",
   "execution_count": null,
   "metadata": {},
   "outputs": [],
   "source": [
    "fig, ax = plt.subplots()\n",
    "artist = bar.MultiBar(bt, gts, orientation='v', stacked=True)\n",
    "ax.add_artist(artist)\n",
    "_ = ax.set(xlim = (0, 3.5), \n",
    "       ylim = (0.1, 20),   \n",
    "       xlabel = fts['position'][0], \n",
    "       ylabel = fts['length'][0], \n",
    "       yscale = 'log')"
   ]
  },
  {
   "cell_type": "code",
   "execution_count": null,
   "metadata": {},
   "outputs": [],
   "source": [
    "fig, ax = plt.subplots()\n",
    "artist = bar.MultiBar(bt, gts, orientation='v', stacked=False)\n",
    "ax.add_artist(artist)\n",
    "_ = ax.set(ylim = (0, 20), \n",
    "       xlim = (-.5, 3.5),   \n",
    "       xlabel = fts['position'][0], \n",
    "       ylabel = fts['length'][0], )"
   ]
  },
  {
   "cell_type": "code",
   "execution_count": null,
   "metadata": {},
   "outputs": [],
   "source": [
    "fig, ax = plt.subplots()\n",
    "artist = bar.MultiBar(bt, gts, orientation='h', stacked=False)\n",
    "ax.add_artist(artist)\n",
    "_ = ax.set(xlim = (0, 20), \n",
    "       ylim = (-.5, 3.5),   \n",
    "       xlabel = fts['position'][0], \n",
    "       ylabel = fts['length'][0], )"
   ]
  },
  {
   "cell_type": "code",
   "execution_count": null,
   "metadata": {},
   "outputs": [],
   "source": []
  }
 ],
 "metadata": {
  "kernelspec": {
   "display_name": "Python 3.7.4 64-bit ('mplrelease': conda)",
   "language": "python",
   "name": "python37464bitmplreleaseconda953a5d05f1cf4d5db783b13a33a22e5d"
  },
  "language_info": {
   "codemirror_mode": {
    "name": "ipython",
    "version": 3
   },
   "file_extension": ".py",
   "mimetype": "text/x-python",
   "name": "python",
   "nbconvert_exporter": "python",
   "pygments_lexer": "ipython3",
   "version": "3.8.5-final"
  }
 },
 "nbformat": 4,
 "nbformat_minor": 4
}
