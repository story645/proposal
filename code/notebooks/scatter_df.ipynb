{
 "cells": [
  {
   "cell_type": "code",
   "execution_count": null,
   "metadata": {},
   "outputs": [],
   "source": [
    "import numpy as np\n",
    "import pandas as pd\n",
    "\n",
    "import matplotlib.pyplot as plt\n",
    "%matplotlib inline\n",
    "\n",
    "\n",
    "import matplottoy.datasources.dataframe as dfa\n",
    "import matplottoy.artists.point as ap"
   ]
  },
  {
   "cell_type": "code",
   "execution_count": null,
   "metadata": {},
   "outputs": [],
   "source": [
    "%reload_ext autoreload\n",
    "%autoreload 2"
   ]
  },
  {
   "cell_type": "code",
   "execution_count": null,
   "metadata": {},
   "outputs": [],
   "source": [
    "# regularized array\n",
    "df = pd.DataFrame(np.cumsum(np.tile([1.,2.,.03,5.], reps=100).reshape(100,4), axis=0), \n",
    "                  columns = ['odds', 'evens','threes', 'fives'])\n",
    "df.head()"
   ]
  },
  {
   "cell_type": "code",
   "execution_count": null,
   "metadata": {},
   "outputs": [],
   "source": [
    "df['odds'].dtype"
   ]
  },
  {
   "cell_type": "code",
   "execution_count": null,
   "metadata": {},
   "outputs": [],
   "source": [
    "fig, ax = plt.subplots()\n",
    "ds = dfa.DataFramePoint(df)\n",
    "artist = ap.Point(ds)\n",
    "ax.add_artist(artist)\n",
    "info = artist.data_view.info\n",
    "ax.set(xlim = (info['x']['min'], info['x']['max']),\n",
    "       ylim = (info['y']['min'], info['y']['max']))"
   ]
  },
  {
   "cell_type": "code",
   "execution_count": null,
   "metadata": {},
   "outputs": [],
   "source": [
    "fig, ax = plt.subplots()\n",
    "ds = dfa.DataFramePoint(df, encodings={'x':'odds', 'y':'fives'})\n",
    "artist = ap.Point(ds)\n",
    "ax.add_artist(artist)\n",
    "info = artist.data_view.info\n",
    "ax.set(xlim = (info['x']['min'], info['x']['max']),\n",
    "       ylim = (info['y']['min'], info['y']['max']))"
   ]
  },
  {
   "cell_type": "code",
   "execution_count": null,
   "metadata": {},
   "outputs": [],
   "source": [
    "fig, ax = plt.subplots()\n",
    "ds = dfa.DataFramePoint(df, encodings={'x':'fives', 'y':'evens', 's':'threes'})\n",
    "artist = ap.Point(ds)\n",
    "ax.add_artist(artist)\n",
    "info = artist.data_view.info\n",
    "ax.set(xlim = (info['x']['min'], info['x']['max']),\n",
    "       ylim = (info['y']['min'], info['y']['max']))"
   ]
  },
  {
   "cell_type": "code",
   "execution_count": null,
   "metadata": {},
   "outputs": [],
   "source": []
  },
  {
   "cell_type": "code",
   "execution_count": null,
   "metadata": {},
   "outputs": [],
   "source": []
  }
 ],
 "metadata": {
  "kernelspec": {
   "display_name": "Python [conda env:mplrelease]",
   "language": "python",
   "name": "conda-env-mplrelease-py"
  },
  "language_info": {
   "codemirror_mode": {
    "name": "ipython",
    "version": 3
   },
   "file_extension": ".py",
   "mimetype": "text/x-python",
   "name": "python",
   "nbconvert_exporter": "python",
   "pygments_lexer": "ipython3",
   "version": "3.8.3"
  }
 },
 "nbformat": 4,
 "nbformat_minor": 4
}
