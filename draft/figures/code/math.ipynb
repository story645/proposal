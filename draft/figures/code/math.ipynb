{
 "cells": [
  {
   "cell_type": "code",
   "execution_count": 1,
   "metadata": {},
   "outputs": [],
   "source": [
    "from mpl_toolkits import mplot3d\n",
    "%matplotlib inline\n",
    "import numpy as np\n",
    "import matplotlib.pyplot as plt\n"
   ]
  },
  {
   "cell_type": "code",
   "execution_count": 79,
   "metadata": {},
   "outputs": [],
   "source": [
    "x, y, z = zip(*[(0.25, 0.75, .25), (0.75, 0.75, .25), (0.5, 0.25, .25), (0.25, 0.75, .25), \n",
    "                (0.5, 0.5, .75), (.75,.75, .25), (.5, .25, .25), (0.5, .5, .75)\n",
    "               \n",
    "               \n",
    "               ])"
   ]
  },
  {
   "cell_type": "code",
   "execution_count": 115,
   "metadata": {},
   "outputs": [
    {
     "data": {
      "text/plain": [
       "[Text(0.5, 0, 'x'), Text(0.5, 0, 'y'), Text(0.5, 0, 'z')]"
      ]
     },
     "execution_count": 115,
     "metadata": {},
     "output_type": "execute_result"
    },
    {
     "data": {
      "image/png": "[encoded data removed]",
      "text/plain": [
       "<Figure size 432x288 with 1 Axes>"
      ]
     },
     "metadata": {
      "needs_background": "light"
     },
     "output_type": "display_data"
    }
   ],
   "source": [
    "subplot_kw = {'projection':'3d', 'proj_type':'ortho', 'azim': 90, 'elev':15}\n",
    "fig, ax = plt.subplots(subplot_kw=subplot_kw)\n",
    "ax.plot(x,y,z,  c='k', marker='o', markersize=10)\n",
    "ax.set(xlabel='x', ylabel='y', zlabel='z')"
   ]
  },
  {
   "cell_type": "code",
   "execution_count": 116,
   "metadata": {},
   "outputs": [
    {
     "data": {
      "text/plain": [
       "[<mpl_toolkits.mplot3d.art3d.Line3D at 0x1cc3cf79d90>]"
      ]
     },
     "execution_count": 116,
     "metadata": {},
     "output_type": "execute_result"
    },
    {
     "data": {
      "image/png": "[encoded data removed]",
      "text/plain": [
       "<Figure size 432x864 with 4 Axes>"
      ]
     },
     "metadata": {
      "needs_background": "light"
     },
     "output_type": "display_data"
    }
   ],
   "source": [
    "title = \"{k}-simplex\"\n",
    "markersize=100\n",
    "fig, axd = plt.subplot_mosaic([['point', 'line', 'face', 'tetra']], figsize=(6,12))\n",
    "axd['tetra'].remove()\n",
    "axd['tetra'] = fig.add_subplot(1,4,4,**subplot_kw)\n",
    "for k, simplex in enumerate(axd.keys()):\n",
    "    axd[simplex].set_title(title.format(k=k))\n",
    "    if k<3:\n",
    "        axd[simplex].set(xlim=(0,1), ylim=(0,1), aspect='equal')\n",
    "    else:\n",
    "        axd[simplex].set(xlim=(.2,.8), ylim=(.2,.8), zlim=(.2,.8))\n",
    "    axd[simplex].axis('off')\n",
    "axd['point'].scatter(0.5, 0.5, s=markersize, c='black')\n",
    "axd['line'].plot([.25, .75], [.5,.5], c='k', marker='o', markersize=markersize/10)\n",
    "axd['face'].plot([.25, .75, 0.5, .25], [.75, .75, .25, .75], c='k', marker='o', markersize=markersize/10)\n",
    "\n",
    "axd['tetra'].plot(x, y, z, c='k', marker='o', markersize=markersize/10)"
   ]
  },
  {
   "cell_type": "code",
   "execution_count": 35,
   "metadata": {},
   "outputs": [
    {
     "data": {
      "text/plain": [
       "[matplotlib.axes._subplots.AxesSubplot,\n",
       " matplotlib.axes._subplots.SubplotBase,\n",
       " matplotlib.axes._axes.Axes,\n",
       " matplotlib.axes._base._AxesBase,\n",
       " matplotlib.artist.Artist,\n",
       " object]"
      ]
     },
     "execution_count": 35,
     "metadata": {},
     "output_type": "execute_result"
    }
   ],
   "source": [
    "type(axd['tetra']).mro()"
   ]
  },
  {
   "cell_type": "code",
   "execution_count": null,
   "metadata": {},
   "outputs": [],
   "source": []
  }
 ],
 "metadata": {
  "kernelspec": {
   "display_name": "Python 3.7.4 64-bit ('mplrelease': conda)",
   "language": "python",
   "name": "python37464bitmplreleaseconda953a5d05f1cf4d5db783b13a33a22e5d"
  },
  "language_info": {
   "codemirror_mode": {
    "name": "ipython",
    "version": 3
   },
   "file_extension": ".py",
   "mimetype": "text/x-python",
   "name": "python",
   "nbconvert_exporter": "python",
   "pygments_lexer": "ipython3",
   "version": "3.8.5"
  }
 },
 "nbformat": 4,
 "nbformat_minor": 4
}
