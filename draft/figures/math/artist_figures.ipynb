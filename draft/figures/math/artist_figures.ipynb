{
 "cells": [
  {
   "cell_type": "code",
   "execution_count": 1,
   "id": "broad-debut",
   "metadata": {},
   "outputs": [],
   "source": [
    "from pathlib import Path\n",
    "import itertools\n",
    "\n",
    "import numpy as np\n",
    "# https://matplotlib.org/gallery/lines_bars_and_markers/curve_error_band.html#sphx-glr-gallery-lines-bars-and-markers-curve-error-band-py\n",
    "from scipy.interpolate import splprep, splev\n",
    "\n",
    "\n",
    "import matplotlib.ticker as mticker\n",
    "import matplotlib.patches as mpatches\n",
    "import matplotlib.collections as mcollections\n",
    "import matplotlib.colors as mcolors\n",
    "import matplotlib.path as mpath\n",
    "import matplotlib.pyplot as plt\n",
    "\n",
    "\n",
    "import themepy\n",
    "spath = Path(\"../../../draft/figures/math/\")\n",
    "\n",
    "theme = themepy.Theme('paper')\n",
    "\n",
    "%matplotlib inline"
   ]
  },
  {
   "cell_type": "code",
   "execution_count": 271,
   "id": "turkish-graduate",
   "metadata": {},
   "outputs": [
    {
     "data": {
      "image/png": "[encoded data removed]",
      "text/plain": [
       "<Figure size 432x288 with 1 Axes>"
      ]
     },
     "metadata": {
      "needs_background": "light"
     },
     "output_type": "display_data"
    }
   ],
   "source": [
    "fig, ax = plt.subplots()\n",
    "\n",
    "facecolor='white'\n",
    "elabs = [r\"$E_0$\", r\"$E_i$\", r\"$E_n$\"][::-1]\n",
    "nlabs = [r\"$\\nu_0$\", r\"$\\nu_i$\", r\"$\\nu_n$\"][::-1]\n",
    "vlabs = [r\"$V_0$\", r\"$V_i$\", r\"$V_n$\"][::-1]\n",
    "# mutation_scale\n",
    "for i, el, nl, vl in zip([0, 3, 6], elabs, nlabs, vlabs):\n",
    "    #nu\n",
    "    ax.text(6.45,i+.75, nl, fontsize=16, color='C4')\n",
    "    p = mpatches.Ellipse((7, i+1), width=4, height=2, facecolor=facecolor, edgecolor='C4')\n",
    "    ax.add_patch(p)\n",
    "\n",
    "    #V block\n",
    "    ax.text(12.25, i+1, vl, fontsize=14, color='C8', ha=\"center\", va=\"center\", \n",
    "            bbox=dict(boxstyle=\"square\",  ec='C8', fc=facecolor))\n",
    "    p1 = mpatches.FancyArrowPatch((9,i+1),(16, i+1), color='C8', mutation_scale=10)\n",
    "    ax.add_patch(p1)\n",
    "    #E block\n",
    "    ax.text(1, i+1, el, fontsize=14, color='C8', ha=\"center\", va=\"center\",\n",
    "            bbox=dict(boxstyle=\"square\",  ec='C8', fc=facecolor))\n",
    "    p3 = mpatches.FancyArrowPatch((0,i+1),(5, i+1), color='C8', mutation_scale=10)\n",
    "    ax.add_patch(p3)\n",
    "\n",
    "e = mpatches.Ellipse((19,4), width=6, height=10, facecolor=facecolor, edgecolor='#0099CC')\n",
    "ax.add_patch(e)\n",
    "ax.text(16.75,2.5,r'$Q$', fontsize=64, color='#0099CC')\n",
    "p4 = mpatches.FancyArrowPatch((22, 4),(25,4), color='C8', mutation_scale=10)\n",
    "ax.add_patch(p4)\n",
    "ax.text(26,4, \"$H$\", fontsize=14, color='C8', ha=\"center\", va=\"center\",\n",
    "        bbox=dict(boxstyle=\"square\",  ec='C8', fc=facecolor))\n",
    "ax.set(xlim=(-1,27), ylim=(-2,10), aspect='equal')\n",
    "ax.axis('off')\n",
    "fig.savefig(spath/\"path_of_q.png\", bbox_inches='tight', facecolor=facecolor)"
   ]
  },
  {
   "cell_type": "code",
   "execution_count": 272,
   "id": "preceding-decision",
   "metadata": {},
   "outputs": [
    {
     "data": {
      "image/png": "[encoded data removed]",
      "text/plain": [
       "<Figure size 432x288 with 1 Axes>"
      ]
     },
     "metadata": {
      "needs_background": "light"
     },
     "output_type": "display_data"
    }
   ],
   "source": [
    "fig, ax = plt.subplots()\n",
    "\n",
    "c1 = mpatches.Circle((-2,0), radius=2, facecolor='white', edgecolor=\"C0\")\n",
    "ax.add_patch(c1)\n",
    "c2 = mpatches.Circle((6,0), radius=1.5, facecolor='white', edgecolor=\"C0\", linewidth=25)\n",
    "ax.add_patch(c2)\n",
    "p4 = mpatches.FancyArrowPatch((0,0), (4,0), color='C8', mutation_scale=15)\n",
    "ax.add_patch(p4)\n",
    "ax.text(1,.5, r'$m\\circ\\rho$', color='C8', fontsize=16)\n",
    "ax.set(xlim=(-5,9), ylim=(-3,3), aspect='equal')\n",
    "ax.axis('off')\n",
    "fig.savefig(spath/\"diff_type_q.png\", bbox_inches='tight', facecolor='white' )"
   ]
  },
  {
   "cell_type": "code",
   "execution_count": 362,
   "id": "graphic-geography",
   "metadata": {},
   "outputs": [
    {
     "name": "stdout",
     "output_type": "stream",
     "text": [
      "\u001b[1;36m  File \u001b[1;32m\"C:/Users/story/AppData/Local/Temp/xpython_19156/2783257495.py\"\u001b[1;36m, line \u001b[1;32m14\u001b[0m\n",
      "\u001b[1;33m    ax.text(.2, i/3, f\"{}{}{}\".format(*nu.keys()), fontsize=14)\u001b[0m\n",
      "\u001b[1;37m                              ^\u001b[0m\n",
      "\u001b[1;31mSyntaxError\u001b[0m\u001b[1;31m:\u001b[0m f-string: empty expression not allowed\n",
      "\n"
     ]
    }
   ],
   "source": [
    "import random\n",
    "\n",
    "nu1 = {'confused':'😕', 'woozy':'🥴', 'shruggy':'🙃'}\n",
    "keys = list(nu1.keys()).copy()\n",
    "idx=np.random.choice([0,1,2], 3, replace=False)\n",
    "nu2 = {keys[i]:nu[keys[i]] for i in idx}\n",
    "idx2=np.random.choice([0,1,2], 3, replace=False)\n",
    "nu3 = {keys[i]:nu[keys[i]] for i in idx2}\n",
    "\n",
    "fig, ax = plt.subplots(figsize=(8,4))\n",
    "\n",
    "for i, nu in enumerate([nu1, nu2, nu3]):\n",
    "    print(nu)\n",
    "    ax.text(.2, i/3, f\"{}{}{}\".format(*nu.keys()), fontsize=14)\n",
    "    ax.text(5.2,i/3, f\"{}{}{}\".format(*nu.values()), fontsize=14, fontfamily='Segoe UI Emoji')\n",
    "\n",
    "ax.set(xlim=(0,10), ylim=(-0.2,1))"
   ]
  },
  {
   "cell_type": "code",
   "execution_count": 337,
   "id": "imperial-canyon",
   "metadata": {},
   "outputs": [],
   "source": [
    "nu1 = {'confused':'😕', 'woozy':'🥴', 'shruggy':'🙃'}\n",
    "keys = list(nu1.keys()).copy()\n",
    "idx=np.random.choice([0,1,2], 3, replace=False)\n",
    "nu2 = {keys[i]:nu[keys[i]] for i in idx}\n",
    "idx2=np.random.choice([0,1,2], 3, replace=False)\n",
    "nu2 = {keys[i]:nu[keys[i]] for i in idx2}"
   ]
  },
  {
   "cell_type": "code",
   "execution_count": 338,
   "id": "sharing-award",
   "metadata": {},
   "outputs": [
    {
     "data": {
      "text/plain": [
       "{'confused': '😕', 'woozy': '🥴', 'shruggy': '🙃'}"
      ]
     },
     "execution_count": 346,
     "metadata": {},
     "output_type": "execute_result"
    }
   ],
   "source": [
    "nu1"
   ]
  },
  {
   "cell_type": "code",
   "execution_count": 339,
   "id": "floating-mississippi",
   "metadata": {},
   "outputs": [
    {
     "data": {
      "text/plain": [
       "{'shruggy': '🙃', 'confused': '😕', 'woozy': '🥴'}"
      ]
     },
     "execution_count": 347,
     "metadata": {},
     "output_type": "execute_result"
    }
   ],
   "source": [
    "nu2"
   ]
  },
  {
   "cell_type": "code",
   "execution_count": 340,
   "id": "senior-quality",
   "metadata": {},
   "outputs": [
    {
     "data": {
      "text/plain": [
       "{'confused': '😕', 'shruggy': '🙃', 'woozy': '🥴'}"
      ]
     },
     "execution_count": 348,
     "metadata": {},
     "output_type": "execute_result"
    }
   ],
   "source": [
    "nu3"
   ]
  },
  {
   "cell_type": "code",
   "execution_count": null,
   "id": "anonymous-philosophy",
   "metadata": {},
   "outputs": [],
   "source": []
  }
 ],
 "metadata": {
  "kernelspec": {
   "display_name": "Python 3.9 (XPython)",
   "language": "python",
   "name": "xpython"
  },
  "language_info": {
   "file_extension": ".py",
   "mimetype": "text/x-python",
   "name": "python",
   "version": "3.9.1"
  }
 },
 "nbformat": 4,
 "nbformat_minor": 5
}
