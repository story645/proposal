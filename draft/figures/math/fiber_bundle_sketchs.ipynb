{
 "cells": [
  {
   "cell_type": "code",
   "execution_count": 1,
   "id": "deluxe-tuning",
   "metadata": {},
   "outputs": [],
   "source": [
    "from pathlib import Path\n",
    "import itertools\n",
    "\n",
    "import matplotlib.pyplot as plt\n",
    "import themepy\n",
    "\n",
    "spath = Path()\n",
    "spath = Path(\"../../../draft/figures/math/\")\n",
    "\n",
    "theme = themepy.Theme('paper')"
   ]
  },
  {
   "cell_type": "code",
   "execution_count": 2,
   "id": "effective-mistress",
   "metadata": {},
   "outputs": [
    {
     "data": {
      "image/png": "[encoded data removed]",
      "text/plain": [
       "<Figure size 432x288 with 1 Axes>"
      ]
     },
     "metadata": {
      "needs_background": "light"
     },
     "output_type": "display_data"
    }
   ],
   "source": [
    "%matplotlib inline\n",
    "import matplotlib.patches as mpatches\n",
    "\n",
    "fontsize = 16\n",
    "fig, ax = plt.subplots()\n",
    "\n",
    "line = ax.axhline(y=3)\n",
    "ax.annotate('K', (5, 2), fontsize=16)\n",
    "\n",
    "f1 = mpatches.Rectangle((2,4), 2, 2, facecolor=ax.get_facecolor(), edgecolor=line.get_color(), linewidth=2)\n",
    "ax.add_patch(f1)\n",
    "ax.annotate(\"Real\\n Numbers\", (1, 4), fontsize=12, rotation=90)\n",
    "ax.annotate(\"Real\\n Numbers\", (2, 6.5), fontsize=12)\n",
    "\n",
    "f2 = mpatches.Rectangle((6,4), 2, 2, facecolor=ax.get_facecolor(), edgecolor=line.get_color(), linewidth=2)\n",
    "ax.add_patch(f2)\n",
    "ax.annotate(\"Real\\n Numbers\", (5, 4), fontsize=12, rotation=90)\n",
    "ax.annotate(\"Real\\n Numbers\", (6, 6.5), fontsize=12)\n",
    "\n",
    "ax.set(ylim=(1, 8), xlim=(0,10), aspect='equal')\n",
    "ax.axis('off')\n",
    "\n",
    "fig.savefig(spath/\"temp_2f.png\", bbox_inches='tight' )"
   ]
  },
  {
   "cell_type": "code",
   "execution_count": 15,
   "id": "federal-diving",
   "metadata": {},
   "outputs": [
    {
     "name": "stdout",
     "output_type": "stream",
     "text": [
      "(12, 2)\n"
     ]
    }
   ],
   "source": [
    "from matplotlib.collections import PolyCollection\n",
    "import numpy as np\n",
    "verts = [[0, 0, -2 ],[-1, -1, -1], [1, -1,  -1], [1, 1,  -1 ], \n",
    "                 [-1, 1, -1], [-1, -1, 1],  [1, -1, 1 ],\n",
    "                  [1, 1, 1], [-1, 1, 1]]\n",
    "V = np.array(verts)*.5\n",
    "sides = {'TOP': [V[5], V[6], V[7], V[8]], \n",
    "         'F1': [V[1], V[2], V[6], V[5]], \n",
    "         'F2': [V[2], V[3], V[7], V[6]],\n",
    "         'F3': [V[3], V[4], V[8], V[7]], \n",
    "         'F4': [V[4], V[1], V[5], V[8]], \n",
    "         'BOTTOM': [V[1], V[2], V[3], V[4]]}\n",
    "front_facing = np.vstack([sides['TOP'], sides['F1'], sides['F2']])[:, [0,2]]\n",
    "print(front_facing.shape)"
   ]
  },
  {
   "cell_type": "code",
   "execution_count": 238,
   "id": "copyrighted-grace",
   "metadata": {},
   "outputs": [
    {
     "data": {
      "image/png": "[encoded data removed]",
      "text/plain": [
       "<Figure size 432x288 with 1 Axes>"
      ]
     },
     "metadata": {
      "needs_background": "light"
     },
     "output_type": "display_data"
    }
   ],
   "source": [
    "from mpl_toolkits.mplot3d import Axes3D, art3d\n",
    "fig, ax = plt.subplots(subplot_kw={'projection':'3d'})\n",
    "\n",
    "verts = np.array(list(sides.values()))\n",
    "collection = art3d.Poly3DCollection(verts*4+[-4, 0, 0], \n",
    "                                    closed=True, facecolor=ax.get_facecolor(), edgecolor=line.get_color(), linewidth=2)\n",
    "ax.add_collection(collection)\n",
    "\n",
    "collection2 = art3d.Poly3DCollection(verts*4+[4, 0, 0], \n",
    "                                    closed=True, facecolor=ax.get_facecolor(), edgecolor=line.get_color(), linewidth=2)\n",
    "ax.add_collection(collection2)\n",
    "\n",
    "\n",
    "ax.set_xlim([-5, 5])\n",
    "ax.set_ylim([-5, 5])\n",
    "ax.set_zlim([-5, 5])\n",
    "ax.view_init(15, azim=75)\n",
    "ax.plot([-10,10], [-6,-6], [-4.5,-4.5])\n",
    "#ax.annotate('K', (5, 2), fontsize=16)\n",
    "ax.text(0,0,-5,s='K', fontsize=16)\n",
    "ax.text(-3, 8, 4, \"Positive\\nReals\", zdir=(0,1,0))\n",
    "ax.text(-2, 4, -2.5, \"Reals\")\n",
    "ax.text(2, 9, 3, \"Reals\", zdir=(0,0,1))\n",
    "ax.axis('off')\n",
    "\n",
    "\n",
    "fig.savefig(spath/\"temp_3f.png\", bbox_inches='tight' )"
   ]
  },
  {
   "cell_type": "code",
   "execution_count": null,
   "id": "precious-fifty",
   "metadata": {},
   "outputs": [],
   "source": []
  }
 ],
 "metadata": {
  "kernelspec": {
   "display_name": "Python 3.9 (XPython)",
   "language": "python",
   "name": "xpython"
  },
  "language_info": {
   "file_extension": ".py",
   "mimetype": "text/x-python",
   "name": "python",
   "version": "3.9.1"
  }
 },
 "nbformat": 4,
 "nbformat_minor": 5
}
