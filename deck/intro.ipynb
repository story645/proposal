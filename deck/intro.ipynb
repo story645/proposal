{
 "cells": [
  {
   "cell_type": "code",
   "execution_count": 1,
   "id": "288f19de",
   "metadata": {},
   "outputs": [],
   "source": [
    "%matplotlib widget"
   ]
  },
  {
   "cell_type": "code",
   "execution_count": 2,
   "id": "d57157bc-45d5-4f55-9640-36c79fea5bed",
   "metadata": {},
   "outputs": [],
   "source": [
    "%load_ext autoreload"
   ]
  },
  {
   "cell_type": "code",
   "execution_count": 3,
   "id": "c273a6bf-f35c-49ec-9d2e-1da23ed1d205",
   "metadata": {},
   "outputs": [],
   "source": [
    "%autoreload 2"
   ]
  },
  {
   "cell_type": "code",
   "execution_count": 4,
   "id": "ae69e67f",
   "metadata": {},
   "outputs": [
    {
     "name": "stdout",
     "output_type": "stream",
     "text": [
      "3.4.1\n"
     ]
    }
   ],
   "source": [
    "import matplotlib\n",
    "print(matplotlib.__version__)\n",
    "import matplotlib.pyplot as plt\n",
    "import matplotlib.table as mtable\n",
    "import matplotlib.patches as mpatches\n",
    "\n",
    "from matplotlib import rcParams\n",
    "rcParams['figure.dpi'] = 200\n",
    "\n",
    "import numpy as np\n",
    "import pandas as pd\n",
    "\n",
    "import graphs"
   ]
  },
  {
   "cell_type": "code",
   "execution_count": 5,
   "id": "21e96fec",
   "metadata": {},
   "outputs": [],
   "source": [
    "x = np.random.randint(0, 100,size=100)\n",
    "y = np.random.randint(-100, 0, size=100)\n",
    "c = np.random.randint(-50, 50, size=100)\n",
    "arr = np.vstack([x,y,c]).T"
   ]
  },
  {
   "cell_type": "code",
   "execution_count": 6,
   "id": "78afb878",
   "metadata": {},
   "outputs": [
    {
     "data": {
      "application/vnd.jupyter.widget-view+json": {
       "model_id": "61d1e97f334d4d4187971a6c3149cd0f",
       "version_major": 2,
       "version_minor": 0
      },
      "text/plain": [
       "Canvas(toolbar=Toolbar(toolitems=[('Home', 'Reset original view', 'home', 'home'), ('Back', 'Back to previous …"
      ]
     },
     "metadata": {},
     "output_type": "display_data"
    }
   ],
   "source": [
    "fig = plt.figure(constrained_layout=True)\n",
    "axd = graphs.linked_plot(fig, x, y, c)\n"
   ]
  },
  {
   "cell_type": "code",
   "execution_count": 38,
   "id": "1d34f43c",
   "metadata": {},
   "outputs": [
    {
     "data": {
      "application/vnd.jupyter.widget-view+json": {
       "model_id": "4528937d7b8543efb3caaeba93a04aa0",
       "version_major": 2,
       "version_minor": 0
      },
      "text/plain": [
       "Canvas(toolbar=Toolbar(toolitems=[('Home', 'Reset original view', 'home', 'home'), ('Back', 'Back to previous …"
      ]
     },
     "metadata": {},
     "output_type": "display_data"
    }
   ],
   "source": [
    "fig = plt.figure(constrained_layout=True)\n",
    "left, middle,  right = fig.subfigures(nrows=1, ncols=3, width_ratios=[1,1, 3])\n",
    "axd = graphs.linked_plot(right, x, y, c)\n",
    "ax = left.subplots()\n",
    "ax.axis('off')\n",
    "fig.savefig(\"ip.png\")\n"
   ]
  },
  {
   "cell_type": "code",
   "execution_count": 35,
   "id": "47118387",
   "metadata": {},
   "outputs": [
    {
     "data": {
      "application/vnd.jupyter.widget-view+json": {
       "model_id": "84d5d209c8ba46b6a1ee19cb15d02c04",
       "version_major": 2,
       "version_minor": 0
      },
      "text/plain": [
       "Canvas(toolbar=Toolbar(toolitems=[('Home', 'Reset original view', 'home', 'home'), ('Back', 'Back to previous …"
      ]
     },
     "metadata": {},
     "output_type": "display_data"
    }
   ],
   "source": [
    "fig = plt.figure(constrained_layout=True)\n",
    "left, middle, right = fig.subfigures(nrows=1, ncols=3, width_ratios=[1,1, 3])\n",
    "axd = graphs.linked_plot(right, x, y, c)\n",
    "axt = left.subplots()\n",
    "tab = graphs.plot_table(axt, arr.astype('str')[:5], ['x','y','c'], scale=(7,5))\n",
    "fig.canvas.draw()\n",
    "\n",
    "#x position\n",
    "arrow_kws = {'linewidth':3, 'mutation_scale':25} \n",
    "font_kw = {'fontsize':14, 'fontweight':'bold', 'va':'center', 'ha':'left', 'zorder':15}\n",
    "bbox = {'facecolor':'white', 'edgecolor':'white','pad':.02}\n",
    "\n",
    "color = 'dimgray'\n",
    "xpx, xpy = graphs.source_cell(tab[5,0], color, 0, 0)\n",
    "xpos_map = mpatches.ConnectionPatch(xyA=(xpx, xpy), coordsA=axt.transData,\n",
    "                                     xyB=(x[5],y[5]), coordsB=axd['scat'].transData, \n",
    "                                    color=color, zorder=10, **arrow_kws)\n",
    "#fig.add_artist(xpos_map)\n",
    "fig.savefig(\"ipt.png\")\n",
    "#fig.text(.53, .65, \"x position\", bbox=bbox, rotation=0, color=color, **font_kw)"
   ]
  },
  {
   "cell_type": "code",
   "execution_count": 46,
   "id": "2183ca61-297b-472e-a4ab-206c6719a323",
   "metadata": {},
   "outputs": [
    {
     "data": {
      "application/vnd.jupyter.widget-view+json": {
       "model_id": "a6e1814d6757497f8360d2c9e3c87f4b",
       "version_major": 2,
       "version_minor": 0
      },
      "text/plain": [
       "Canvas(toolbar=Toolbar(toolitems=[('Home', 'Reset original view', 'home', 'home'), ('Back', 'Back to previous …"
      ]
     },
     "metadata": {},
     "output_type": "display_data"
    }
   ],
   "source": [
    "fig = plt.figure(constrained_layout=True)\n",
    "left, middle, right = fig.subfigures(nrows=1, ncols=3, width_ratios=[1,1, 3])\n",
    "axd = graphs.linked_plot(right, x, y, c)\n",
    "(axx, axt, axy) = left.subplots(nrows=3)\n",
    "tab = graphs.plot_table(axt, arr[:5].astype('str'), ['x','y','c'], scale=(1,2))\n",
    "tx = graphs.plot_table(axx, [arr[:5,0].astype('str')], rows=[' x '], scale=(1.75,1.5))\n",
    "ty = graphs.plot_table(axy, [arr[:5,1].astype('str')], rows=[' y '], scale=(1.75,1.5))\n",
    "fig.canvas.draw()\n",
    "\n",
    "fig.savefig(\"iptb.png\")"
   ]
  },
  {
   "cell_type": "code",
   "execution_count": 37,
   "id": "6c3974fd-7309-4f8f-b9c6-fe06abf89b68",
   "metadata": {},
   "outputs": [
    {
     "data": {
      "application/vnd.jupyter.widget-view+json": {
       "model_id": "b275dc9fdd3b4468856eb74c8b564d00",
       "version_major": 2,
       "version_minor": 0
      },
      "text/plain": [
       "Canvas(toolbar=Toolbar(toolitems=[('Home', 'Reset original view', 'home', 'home'), ('Back', 'Back to previous …"
      ]
     },
     "metadata": {},
     "output_type": "display_data"
    }
   ],
   "source": [
    "fig = plt.figure(constrained_layout=True)\n",
    "left, middle, right = fig.subfigures(nrows=1, ncols=3, width_ratios=[1,1, 3])\n",
    "axd = graphs.linked_plot(right, x, y, c)\n",
    "axt = left.subplots()\n",
    "tab = graphs.plot_table(axt, arr.astype('str')[:5], ['x','y','c'], scale=(7,5))\n",
    "fig.canvas.draw()\n",
    "\n",
    "#x position\n",
    "arrow_kws = {'linewidth':3, 'mutation_scale':25} \n",
    "font_kw = {'fontsize':14, 'fontweight':'bold', 'va':'center', 'ha':'left', 'zorder':15}\n",
    "bbox = {'facecolor':'white', 'edgecolor':'white','pad':.02}\n",
    "\n",
    "fig.savefig(\"iptw.png\")"
   ]
  },
  {
   "cell_type": "code",
   "execution_count": 12,
   "id": "1356b0a3-92e2-4a6e-b76d-445e5024002e",
   "metadata": {},
   "outputs": [],
   "source": []
  },
  {
   "cell_type": "code",
   "execution_count": null,
   "id": "63c8580d-f437-4983-bca0-b404fed1fdf1",
   "metadata": {},
   "outputs": [],
   "source": []
  }
 ],
 "metadata": {
  "kernelspec": {
   "display_name": "Python 3.7.4 64-bit ('mplrelease': conda)",
   "language": "python",
   "name": "python37464bitmplreleaseconda953a5d05f1cf4d5db783b13a33a22e5d"
  },
  "language_info": {
   "codemirror_mode": {
    "name": "ipython",
    "version": 3
   },
   "file_extension": ".py",
   "mimetype": "text/x-python",
   "name": "python",
   "nbconvert_exporter": "python",
   "pygments_lexer": "ipython3",
   "version": "3.8.8"
  }
 },
 "nbformat": 4,
 "nbformat_minor": 5
}
